{
 "cells": [
  {
   "cell_type": "markdown",
   "metadata": {},
   "source": [
    "# Before your start:\n",
    "- Read the README.md file\n",
    "- Comment as much as you can and use the resources in the README.md file\n",
    "- Happy learning!"
   ]
  },
  {
   "cell_type": "code",
   "execution_count": 1,
   "metadata": {},
   "outputs": [],
   "source": [
    "%matplotlib inline\n",
    "\n",
    "import matplotlib.pyplot as plt\n",
    "import numpy as np\n",
    "import pandas as pd"
   ]
  },
  {
   "cell_type": "markdown",
   "metadata": {},
   "source": [
    "# Challenge 1 - Import and Describe the Dataset\n",
    "\n",
    "In this lab, we will use a dataset containing information about customer preferences. We will look at how much each customer spends in a year on each subcategory in the grocery store and try to find similarities using clustering.\n",
    "\n",
    "The origin of the dataset is [here](https://archive.ics.uci.edu/ml/datasets/wholesale+customers)."
   ]
  },
  {
   "cell_type": "code",
   "execution_count": 2,
   "metadata": {},
   "outputs": [
    {
     "data": {
      "text/html": [
       "<div>\n",
       "<style scoped>\n",
       "    .dataframe tbody tr th:only-of-type {\n",
       "        vertical-align: middle;\n",
       "    }\n",
       "\n",
       "    .dataframe tbody tr th {\n",
       "        vertical-align: top;\n",
       "    }\n",
       "\n",
       "    .dataframe thead th {\n",
       "        text-align: right;\n",
       "    }\n",
       "</style>\n",
       "<table border=\"1\" class=\"dataframe\">\n",
       "  <thead>\n",
       "    <tr style=\"text-align: right;\">\n",
       "      <th></th>\n",
       "      <th>Channel</th>\n",
       "      <th>Region</th>\n",
       "      <th>Fresh</th>\n",
       "      <th>Milk</th>\n",
       "      <th>Grocery</th>\n",
       "      <th>Frozen</th>\n",
       "      <th>Detergents_Paper</th>\n",
       "      <th>Delicassen</th>\n",
       "    </tr>\n",
       "  </thead>\n",
       "  <tbody>\n",
       "    <tr>\n",
       "      <th>count</th>\n",
       "      <td>440.000000</td>\n",
       "      <td>440.000000</td>\n",
       "      <td>440.000000</td>\n",
       "      <td>440.000000</td>\n",
       "      <td>440.000000</td>\n",
       "      <td>440.000000</td>\n",
       "      <td>440.000000</td>\n",
       "      <td>440.000000</td>\n",
       "    </tr>\n",
       "    <tr>\n",
       "      <th>mean</th>\n",
       "      <td>1.322727</td>\n",
       "      <td>2.543182</td>\n",
       "      <td>12000.297727</td>\n",
       "      <td>5796.265909</td>\n",
       "      <td>7951.277273</td>\n",
       "      <td>3071.931818</td>\n",
       "      <td>2881.493182</td>\n",
       "      <td>1524.870455</td>\n",
       "    </tr>\n",
       "    <tr>\n",
       "      <th>std</th>\n",
       "      <td>0.468052</td>\n",
       "      <td>0.774272</td>\n",
       "      <td>12647.328865</td>\n",
       "      <td>7380.377175</td>\n",
       "      <td>9503.162829</td>\n",
       "      <td>4854.673333</td>\n",
       "      <td>4767.854448</td>\n",
       "      <td>2820.105937</td>\n",
       "    </tr>\n",
       "    <tr>\n",
       "      <th>min</th>\n",
       "      <td>1.000000</td>\n",
       "      <td>1.000000</td>\n",
       "      <td>3.000000</td>\n",
       "      <td>55.000000</td>\n",
       "      <td>3.000000</td>\n",
       "      <td>25.000000</td>\n",
       "      <td>3.000000</td>\n",
       "      <td>3.000000</td>\n",
       "    </tr>\n",
       "    <tr>\n",
       "      <th>25%</th>\n",
       "      <td>1.000000</td>\n",
       "      <td>2.000000</td>\n",
       "      <td>3127.750000</td>\n",
       "      <td>1533.000000</td>\n",
       "      <td>2153.000000</td>\n",
       "      <td>742.250000</td>\n",
       "      <td>256.750000</td>\n",
       "      <td>408.250000</td>\n",
       "    </tr>\n",
       "    <tr>\n",
       "      <th>50%</th>\n",
       "      <td>1.000000</td>\n",
       "      <td>3.000000</td>\n",
       "      <td>8504.000000</td>\n",
       "      <td>3627.000000</td>\n",
       "      <td>4755.500000</td>\n",
       "      <td>1526.000000</td>\n",
       "      <td>816.500000</td>\n",
       "      <td>965.500000</td>\n",
       "    </tr>\n",
       "    <tr>\n",
       "      <th>75%</th>\n",
       "      <td>2.000000</td>\n",
       "      <td>3.000000</td>\n",
       "      <td>16933.750000</td>\n",
       "      <td>7190.250000</td>\n",
       "      <td>10655.750000</td>\n",
       "      <td>3554.250000</td>\n",
       "      <td>3922.000000</td>\n",
       "      <td>1820.250000</td>\n",
       "    </tr>\n",
       "    <tr>\n",
       "      <th>max</th>\n",
       "      <td>2.000000</td>\n",
       "      <td>3.000000</td>\n",
       "      <td>112151.000000</td>\n",
       "      <td>73498.000000</td>\n",
       "      <td>92780.000000</td>\n",
       "      <td>60869.000000</td>\n",
       "      <td>40827.000000</td>\n",
       "      <td>47943.000000</td>\n",
       "    </tr>\n",
       "  </tbody>\n",
       "</table>\n",
       "</div>"
      ],
      "text/plain": [
       "          Channel      Region          Fresh          Milk       Grocery  \\\n",
       "count  440.000000  440.000000     440.000000    440.000000    440.000000   \n",
       "mean     1.322727    2.543182   12000.297727   5796.265909   7951.277273   \n",
       "std      0.468052    0.774272   12647.328865   7380.377175   9503.162829   \n",
       "min      1.000000    1.000000       3.000000     55.000000      3.000000   \n",
       "25%      1.000000    2.000000    3127.750000   1533.000000   2153.000000   \n",
       "50%      1.000000    3.000000    8504.000000   3627.000000   4755.500000   \n",
       "75%      2.000000    3.000000   16933.750000   7190.250000  10655.750000   \n",
       "max      2.000000    3.000000  112151.000000  73498.000000  92780.000000   \n",
       "\n",
       "             Frozen  Detergents_Paper    Delicassen  \n",
       "count    440.000000        440.000000    440.000000  \n",
       "mean    3071.931818       2881.493182   1524.870455  \n",
       "std     4854.673333       4767.854448   2820.105937  \n",
       "min       25.000000          3.000000      3.000000  \n",
       "25%      742.250000        256.750000    408.250000  \n",
       "50%     1526.000000        816.500000    965.500000  \n",
       "75%     3554.250000       3922.000000   1820.250000  \n",
       "max    60869.000000      40827.000000  47943.000000  "
      ]
     },
     "execution_count": 2,
     "metadata": {},
     "output_type": "execute_result"
    }
   ],
   "source": [
    "sales = pd.read_csv('../data/Wholesale customers data.csv')\n",
    "sales.describe()"
   ]
  },
  {
   "cell_type": "markdown",
   "metadata": {},
   "source": [
    "#### Explore the dataset with mathematical and visualization techniques. What do you find?\n",
    "\n",
    "Checklist:\n",
    "\n",
    "* What does each column mean?\n",
    "* Any categorical data to convert?\n",
    "* Any missing data to remove?\n",
    "* Column collinearity - any high correlations?\n",
    "* Descriptive statistics - any outliers to remove?\n",
    "* Column-wise data distribution - is the distribution skewed?\n",
    "* Etc.\n",
    "\n",
    "Additional info: Over a century ago, an Italian economist named Vilfredo Pareto discovered that roughly 20% of the customers account for 80% of the typical retail sales. This is called the [Pareto principle](https://en.wikipedia.org/wiki/Pareto_principle). Check if this dataset displays this characteristic."
   ]
  },
  {
   "cell_type": "markdown",
   "metadata": {},
   "source": [
    "## What does each column mean?\n",
    "\n",
    "\n",
    "FRESH: annual spending (m.u.) on fresh products (Continuous);\n",
    "\n",
    "\n",
    "MILK: annual spending (m.u.) on milk products (Continuous);\n",
    "\n",
    "\n",
    "GROCERY: annual spending (m.u.)on grocery products (Continuous);\n",
    "\n",
    "\n",
    "FROZEN: annual spending (m.u.)on frozen products (Continuous)\n",
    "\n",
    "\n",
    "DETERGENTS_PAPER: annual spending (m.u.) on detergents and paper products (Continuous)\n",
    "\n",
    "\n",
    "DELICATESSEN: annual spending (m.u.)on and delicatessen products (Continuous)\n",
    "\n",
    "\n",
    "CHANNEL: customers Channel - Horeca (Hotel/Restaurant/CafÃ©) or Retail channel (Nominal)\n",
    "\n",
    "\n",
    "REGION: customers Region Lisnon, Oporto or Other (Nominal)"
   ]
  },
  {
   "cell_type": "markdown",
   "metadata": {},
   "source": [
    "## Any categorical data to convert?\n",
    "\n",
    "There isn't any categorical variable/column to convert "
   ]
  },
  {
   "cell_type": "code",
   "execution_count": 3,
   "metadata": {},
   "outputs": [
    {
     "data": {
      "text/html": [
       "<div>\n",
       "<style scoped>\n",
       "    .dataframe tbody tr th:only-of-type {\n",
       "        vertical-align: middle;\n",
       "    }\n",
       "\n",
       "    .dataframe tbody tr th {\n",
       "        vertical-align: top;\n",
       "    }\n",
       "\n",
       "    .dataframe thead th {\n",
       "        text-align: right;\n",
       "    }\n",
       "</style>\n",
       "<table border=\"1\" class=\"dataframe\">\n",
       "  <thead>\n",
       "    <tr style=\"text-align: right;\">\n",
       "      <th></th>\n",
       "      <th>Channel</th>\n",
       "      <th>Region</th>\n",
       "      <th>Fresh</th>\n",
       "      <th>Milk</th>\n",
       "      <th>Grocery</th>\n",
       "      <th>Frozen</th>\n",
       "      <th>Detergents_Paper</th>\n",
       "      <th>Delicassen</th>\n",
       "    </tr>\n",
       "  </thead>\n",
       "  <tbody>\n",
       "    <tr>\n",
       "      <th>0</th>\n",
       "      <td>2</td>\n",
       "      <td>3</td>\n",
       "      <td>12669</td>\n",
       "      <td>9656</td>\n",
       "      <td>7561</td>\n",
       "      <td>214</td>\n",
       "      <td>2674</td>\n",
       "      <td>1338</td>\n",
       "    </tr>\n",
       "    <tr>\n",
       "      <th>1</th>\n",
       "      <td>2</td>\n",
       "      <td>3</td>\n",
       "      <td>7057</td>\n",
       "      <td>9810</td>\n",
       "      <td>9568</td>\n",
       "      <td>1762</td>\n",
       "      <td>3293</td>\n",
       "      <td>1776</td>\n",
       "    </tr>\n",
       "    <tr>\n",
       "      <th>2</th>\n",
       "      <td>2</td>\n",
       "      <td>3</td>\n",
       "      <td>6353</td>\n",
       "      <td>8808</td>\n",
       "      <td>7684</td>\n",
       "      <td>2405</td>\n",
       "      <td>3516</td>\n",
       "      <td>7844</td>\n",
       "    </tr>\n",
       "    <tr>\n",
       "      <th>3</th>\n",
       "      <td>1</td>\n",
       "      <td>3</td>\n",
       "      <td>13265</td>\n",
       "      <td>1196</td>\n",
       "      <td>4221</td>\n",
       "      <td>6404</td>\n",
       "      <td>507</td>\n",
       "      <td>1788</td>\n",
       "    </tr>\n",
       "    <tr>\n",
       "      <th>4</th>\n",
       "      <td>2</td>\n",
       "      <td>3</td>\n",
       "      <td>22615</td>\n",
       "      <td>5410</td>\n",
       "      <td>7198</td>\n",
       "      <td>3915</td>\n",
       "      <td>1777</td>\n",
       "      <td>5185</td>\n",
       "    </tr>\n",
       "  </tbody>\n",
       "</table>\n",
       "</div>"
      ],
      "text/plain": [
       "   Channel  Region  Fresh  Milk  Grocery  Frozen  Detergents_Paper  Delicassen\n",
       "0        2       3  12669  9656     7561     214              2674        1338\n",
       "1        2       3   7057  9810     9568    1762              3293        1776\n",
       "2        2       3   6353  8808     7684    2405              3516        7844\n",
       "3        1       3  13265  1196     4221    6404               507        1788\n",
       "4        2       3  22615  5410     7198    3915              1777        5185"
      ]
     },
     "execution_count": 3,
     "metadata": {},
     "output_type": "execute_result"
    }
   ],
   "source": [
    "sales.head()"
   ]
  },
  {
   "cell_type": "markdown",
   "metadata": {},
   "source": [
    "## Any missing data to remove?\n",
    "\n",
    "No, there's no missing values in the dataset"
   ]
  },
  {
   "cell_type": "code",
   "execution_count": 4,
   "metadata": {},
   "outputs": [
    {
     "name": "stdout",
     "output_type": "stream",
     "text": [
      "<class 'pandas.core.frame.DataFrame'>\n",
      "RangeIndex: 440 entries, 0 to 439\n",
      "Data columns (total 8 columns):\n",
      " #   Column            Non-Null Count  Dtype\n",
      "---  ------            --------------  -----\n",
      " 0   Channel           440 non-null    int64\n",
      " 1   Region            440 non-null    int64\n",
      " 2   Fresh             440 non-null    int64\n",
      " 3   Milk              440 non-null    int64\n",
      " 4   Grocery           440 non-null    int64\n",
      " 5   Frozen            440 non-null    int64\n",
      " 6   Detergents_Paper  440 non-null    int64\n",
      " 7   Delicassen        440 non-null    int64\n",
      "dtypes: int64(8)\n",
      "memory usage: 27.6 KB\n"
     ]
    }
   ],
   "source": [
    "sales.info()"
   ]
  },
  {
   "cell_type": "markdown",
   "metadata": {},
   "source": [
    "## Column collinearity - any high correlations?\n",
    "\n",
    "### High Correlations\n",
    "- Detergents_Paper x Grocery\n",
    "- Milk x Grocery\n",
    "- Milk x Detergents_Paper\n",
    "- Detergents_Paper x Channel"
   ]
  },
  {
   "cell_type": "code",
   "execution_count": 5,
   "metadata": {},
   "outputs": [
    {
     "data": {
      "text/html": [
       "<style  type=\"text/css\" >\n",
       "    #T_5d015a5b_a784_11ea_be08_6c2b5949159brow0_col0 {\n",
       "            background-color:  #08306b;\n",
       "            color:  #f1f1f1;\n",
       "        }    #T_5d015a5b_a784_11ea_be08_6c2b5949159brow0_col1 {\n",
       "            background-color:  #e7f1fa;\n",
       "            color:  #000000;\n",
       "        }    #T_5d015a5b_a784_11ea_be08_6c2b5949159brow0_col2 {\n",
       "            background-color:  #f7fbff;\n",
       "            color:  #000000;\n",
       "        }    #T_5d015a5b_a784_11ea_be08_6c2b5949159brow0_col3 {\n",
       "            background-color:  #82bbdb;\n",
       "            color:  #000000;\n",
       "        }    #T_5d015a5b_a784_11ea_be08_6c2b5949159brow0_col4 {\n",
       "            background-color:  #4292c6;\n",
       "            color:  #000000;\n",
       "        }    #T_5d015a5b_a784_11ea_be08_6c2b5949159brow0_col5 {\n",
       "            background-color:  #f7fbff;\n",
       "            color:  #000000;\n",
       "        }    #T_5d015a5b_a784_11ea_be08_6c2b5949159brow0_col6 {\n",
       "            background-color:  #3484bf;\n",
       "            color:  #000000;\n",
       "        }    #T_5d015a5b_a784_11ea_be08_6c2b5949159brow0_col7 {\n",
       "            background-color:  #f5fafe;\n",
       "            color:  #000000;\n",
       "        }    #T_5d015a5b_a784_11ea_be08_6c2b5949159brow1_col0 {\n",
       "            background-color:  #ccdff1;\n",
       "            color:  #000000;\n",
       "        }    #T_5d015a5b_a784_11ea_be08_6c2b5949159brow1_col1 {\n",
       "            background-color:  #08306b;\n",
       "            color:  #f1f1f1;\n",
       "        }    #T_5d015a5b_a784_11ea_be08_6c2b5949159brow1_col2 {\n",
       "            background-color:  #d1e2f3;\n",
       "            color:  #000000;\n",
       "        }    #T_5d015a5b_a784_11ea_be08_6c2b5949159brow1_col3 {\n",
       "            background-color:  #f7fbff;\n",
       "            color:  #000000;\n",
       "        }    #T_5d015a5b_a784_11ea_be08_6c2b5949159brow1_col4 {\n",
       "            background-color:  #eef5fc;\n",
       "            color:  #000000;\n",
       "        }    #T_5d015a5b_a784_11ea_be08_6c2b5949159brow1_col5 {\n",
       "            background-color:  #d9e8f5;\n",
       "            color:  #000000;\n",
       "        }    #T_5d015a5b_a784_11ea_be08_6c2b5949159brow1_col6 {\n",
       "            background-color:  #e0ecf8;\n",
       "            color:  #000000;\n",
       "        }    #T_5d015a5b_a784_11ea_be08_6c2b5949159brow1_col7 {\n",
       "            background-color:  #f7fbff;\n",
       "            color:  #000000;\n",
       "        }    #T_5d015a5b_a784_11ea_be08_6c2b5949159brow2_col0 {\n",
       "            background-color:  #f2f7fd;\n",
       "            color:  #000000;\n",
       "        }    #T_5d015a5b_a784_11ea_be08_6c2b5949159brow2_col1 {\n",
       "            background-color:  #e8f1fa;\n",
       "            color:  #000000;\n",
       "        }    #T_5d015a5b_a784_11ea_be08_6c2b5949159brow2_col2 {\n",
       "            background-color:  #08306b;\n",
       "            color:  #f1f1f1;\n",
       "        }    #T_5d015a5b_a784_11ea_be08_6c2b5949159brow2_col3 {\n",
       "            background-color:  #e9f2fa;\n",
       "            color:  #000000;\n",
       "        }    #T_5d015a5b_a784_11ea_be08_6c2b5949159brow2_col4 {\n",
       "            background-color:  #f2f8fd;\n",
       "            color:  #000000;\n",
       "        }    #T_5d015a5b_a784_11ea_be08_6c2b5949159brow2_col5 {\n",
       "            background-color:  #7db8da;\n",
       "            color:  #000000;\n",
       "        }    #T_5d015a5b_a784_11ea_be08_6c2b5949159brow2_col6 {\n",
       "            background-color:  #f2f8fd;\n",
       "            color:  #000000;\n",
       "        }    #T_5d015a5b_a784_11ea_be08_6c2b5949159brow2_col7 {\n",
       "            background-color:  #cee0f2;\n",
       "            color:  #000000;\n",
       "        }    #T_5d015a5b_a784_11ea_be08_6c2b5949159brow3_col0 {\n",
       "            background-color:  #5aa2cf;\n",
       "            color:  #000000;\n",
       "        }    #T_5d015a5b_a784_11ea_be08_6c2b5949159brow3_col1 {\n",
       "            background-color:  #edf4fc;\n",
       "            color:  #000000;\n",
       "        }    #T_5d015a5b_a784_11ea_be08_6c2b5949159brow3_col2 {\n",
       "            background-color:  #caddf0;\n",
       "            color:  #000000;\n",
       "        }    #T_5d015a5b_a784_11ea_be08_6c2b5949159brow3_col3 {\n",
       "            background-color:  #08306b;\n",
       "            color:  #f1f1f1;\n",
       "        }    #T_5d015a5b_a784_11ea_be08_6c2b5949159brow3_col4 {\n",
       "            background-color:  #2373b6;\n",
       "            color:  #f1f1f1;\n",
       "        }    #T_5d015a5b_a784_11ea_be08_6c2b5949159brow3_col5 {\n",
       "            background-color:  #bfd8ed;\n",
       "            color:  #000000;\n",
       "        }    #T_5d015a5b_a784_11ea_be08_6c2b5949159brow3_col6 {\n",
       "            background-color:  #2e7ebc;\n",
       "            color:  #000000;\n",
       "        }    #T_5d015a5b_a784_11ea_be08_6c2b5949159brow3_col7 {\n",
       "            background-color:  #9dcae1;\n",
       "            color:  #000000;\n",
       "        }    #T_5d015a5b_a784_11ea_be08_6c2b5949159brow4_col0 {\n",
       "            background-color:  #3585bf;\n",
       "            color:  #000000;\n",
       "        }    #T_5d015a5b_a784_11ea_be08_6c2b5949159brow4_col1 {\n",
       "            background-color:  #f2f7fd;\n",
       "            color:  #000000;\n",
       "        }    #T_5d015a5b_a784_11ea_be08_6c2b5949159brow4_col2 {\n",
       "            background-color:  #dceaf6;\n",
       "            color:  #000000;\n",
       "        }    #T_5d015a5b_a784_11ea_be08_6c2b5949159brow4_col3 {\n",
       "            background-color:  #2979b9;\n",
       "            color:  #000000;\n",
       "        }    #T_5d015a5b_a784_11ea_be08_6c2b5949159brow4_col4 {\n",
       "            background-color:  #08306b;\n",
       "            color:  #f1f1f1;\n",
       "        }    #T_5d015a5b_a784_11ea_be08_6c2b5949159brow4_col5 {\n",
       "            background-color:  #dceaf6;\n",
       "            color:  #000000;\n",
       "        }    #T_5d015a5b_a784_11ea_be08_6c2b5949159brow4_col6 {\n",
       "            background-color:  #084285;\n",
       "            color:  #f1f1f1;\n",
       "        }    #T_5d015a5b_a784_11ea_be08_6c2b5949159brow4_col7 {\n",
       "            background-color:  #d6e6f4;\n",
       "            color:  #000000;\n",
       "        }    #T_5d015a5b_a784_11ea_be08_6c2b5949159brow5_col0 {\n",
       "            background-color:  #f7fbff;\n",
       "            color:  #000000;\n",
       "        }    #T_5d015a5b_a784_11ea_be08_6c2b5949159brow5_col1 {\n",
       "            background-color:  #f7fbff;\n",
       "            color:  #000000;\n",
       "        }    #T_5d015a5b_a784_11ea_be08_6c2b5949159brow5_col2 {\n",
       "            background-color:  #84bcdb;\n",
       "            color:  #000000;\n",
       "        }    #T_5d015a5b_a784_11ea_be08_6c2b5949159brow5_col3 {\n",
       "            background-color:  #e4eff9;\n",
       "            color:  #000000;\n",
       "        }    #T_5d015a5b_a784_11ea_be08_6c2b5949159brow5_col4 {\n",
       "            background-color:  #f7fbff;\n",
       "            color:  #000000;\n",
       "        }    #T_5d015a5b_a784_11ea_be08_6c2b5949159brow5_col5 {\n",
       "            background-color:  #08306b;\n",
       "            color:  #f1f1f1;\n",
       "        }    #T_5d015a5b_a784_11ea_be08_6c2b5949159brow5_col6 {\n",
       "            background-color:  #f7fbff;\n",
       "            color:  #000000;\n",
       "        }    #T_5d015a5b_a784_11ea_be08_6c2b5949159brow5_col7 {\n",
       "            background-color:  #a3cce3;\n",
       "            color:  #000000;\n",
       "        }    #T_5d015a5b_a784_11ea_be08_6c2b5949159brow6_col0 {\n",
       "            background-color:  #2f7fbc;\n",
       "            color:  #000000;\n",
       "        }    #T_5d015a5b_a784_11ea_be08_6c2b5949159brow6_col1 {\n",
       "            background-color:  #f4f9fe;\n",
       "            color:  #000000;\n",
       "        }    #T_5d015a5b_a784_11ea_be08_6c2b5949159brow6_col2 {\n",
       "            background-color:  #ecf4fb;\n",
       "            color:  #000000;\n",
       "        }    #T_5d015a5b_a784_11ea_be08_6c2b5949159brow6_col3 {\n",
       "            background-color:  #3b8bc2;\n",
       "            color:  #000000;\n",
       "        }    #T_5d015a5b_a784_11ea_be08_6c2b5949159brow6_col4 {\n",
       "            background-color:  #084387;\n",
       "            color:  #f1f1f1;\n",
       "        }    #T_5d015a5b_a784_11ea_be08_6c2b5949159brow6_col5 {\n",
       "            background-color:  #ebf3fb;\n",
       "            color:  #000000;\n",
       "        }    #T_5d015a5b_a784_11ea_be08_6c2b5949159brow6_col6 {\n",
       "            background-color:  #08306b;\n",
       "            color:  #f1f1f1;\n",
       "        }    #T_5d015a5b_a784_11ea_be08_6c2b5949159brow6_col7 {\n",
       "            background-color:  #f2f8fd;\n",
       "            color:  #000000;\n",
       "        }    #T_5d015a5b_a784_11ea_be08_6c2b5949159brow7_col0 {\n",
       "            background-color:  #cde0f1;\n",
       "            color:  #000000;\n",
       "        }    #T_5d015a5b_a784_11ea_be08_6c2b5949159brow7_col1 {\n",
       "            background-color:  #eaf3fb;\n",
       "            color:  #000000;\n",
       "        }    #T_5d015a5b_a784_11ea_be08_6c2b5949159brow7_col2 {\n",
       "            background-color:  #a5cde3;\n",
       "            color:  #000000;\n",
       "        }    #T_5d015a5b_a784_11ea_be08_6c2b5949159brow7_col3 {\n",
       "            background-color:  #9ac8e0;\n",
       "            color:  #000000;\n",
       "        }    #T_5d015a5b_a784_11ea_be08_6c2b5949159brow7_col4 {\n",
       "            background-color:  #c9ddf0;\n",
       "            color:  #000000;\n",
       "        }    #T_5d015a5b_a784_11ea_be08_6c2b5949159brow7_col5 {\n",
       "            background-color:  #6dafd7;\n",
       "            color:  #000000;\n",
       "        }    #T_5d015a5b_a784_11ea_be08_6c2b5949159brow7_col6 {\n",
       "            background-color:  #d4e4f4;\n",
       "            color:  #000000;\n",
       "        }    #T_5d015a5b_a784_11ea_be08_6c2b5949159brow7_col7 {\n",
       "            background-color:  #08306b;\n",
       "            color:  #f1f1f1;\n",
       "        }</style><table id=\"T_5d015a5b_a784_11ea_be08_6c2b5949159b\" ><thead>    <tr>        <th class=\"blank level0\" ></th>        <th class=\"col_heading level0 col0\" >Channel</th>        <th class=\"col_heading level0 col1\" >Region</th>        <th class=\"col_heading level0 col2\" >Fresh</th>        <th class=\"col_heading level0 col3\" >Milk</th>        <th class=\"col_heading level0 col4\" >Grocery</th>        <th class=\"col_heading level0 col5\" >Frozen</th>        <th class=\"col_heading level0 col6\" >Detergents_Paper</th>        <th class=\"col_heading level0 col7\" >Delicassen</th>    </tr></thead><tbody>\n",
       "                <tr>\n",
       "                        <th id=\"T_5d015a5b_a784_11ea_be08_6c2b5949159blevel0_row0\" class=\"row_heading level0 row0\" >Channel</th>\n",
       "                        <td id=\"T_5d015a5b_a784_11ea_be08_6c2b5949159brow0_col0\" class=\"data row0 col0\" >1.000000</td>\n",
       "                        <td id=\"T_5d015a5b_a784_11ea_be08_6c2b5949159brow0_col1\" class=\"data row0 col1\" >0.062028</td>\n",
       "                        <td id=\"T_5d015a5b_a784_11ea_be08_6c2b5949159brow0_col2\" class=\"data row0 col2\" >-0.169172</td>\n",
       "                        <td id=\"T_5d015a5b_a784_11ea_be08_6c2b5949159brow0_col3\" class=\"data row0 col3\" >0.460720</td>\n",
       "                        <td id=\"T_5d015a5b_a784_11ea_be08_6c2b5949159brow0_col4\" class=\"data row0 col4\" >0.608792</td>\n",
       "                        <td id=\"T_5d015a5b_a784_11ea_be08_6c2b5949159brow0_col5\" class=\"data row0 col5\" >-0.202046</td>\n",
       "                        <td id=\"T_5d015a5b_a784_11ea_be08_6c2b5949159brow0_col6\" class=\"data row0 col6\" >0.636026</td>\n",
       "                        <td id=\"T_5d015a5b_a784_11ea_be08_6c2b5949159brow0_col7\" class=\"data row0 col7\" >0.056011</td>\n",
       "            </tr>\n",
       "            <tr>\n",
       "                        <th id=\"T_5d015a5b_a784_11ea_be08_6c2b5949159blevel0_row1\" class=\"row_heading level0 row1\" >Region</th>\n",
       "                        <td id=\"T_5d015a5b_a784_11ea_be08_6c2b5949159brow1_col0\" class=\"data row1 col0\" >0.062028</td>\n",
       "                        <td id=\"T_5d015a5b_a784_11ea_be08_6c2b5949159brow1_col1\" class=\"data row1 col1\" >1.000000</td>\n",
       "                        <td id=\"T_5d015a5b_a784_11ea_be08_6c2b5949159brow1_col2\" class=\"data row1 col2\" >0.055287</td>\n",
       "                        <td id=\"T_5d015a5b_a784_11ea_be08_6c2b5949159brow1_col3\" class=\"data row1 col3\" >0.032288</td>\n",
       "                        <td id=\"T_5d015a5b_a784_11ea_be08_6c2b5949159brow1_col4\" class=\"data row1 col4\" >0.007696</td>\n",
       "                        <td id=\"T_5d015a5b_a784_11ea_be08_6c2b5949159brow1_col5\" class=\"data row1 col5\" >-0.021044</td>\n",
       "                        <td id=\"T_5d015a5b_a784_11ea_be08_6c2b5949159brow1_col6\" class=\"data row1 col6\" >-0.001483</td>\n",
       "                        <td id=\"T_5d015a5b_a784_11ea_be08_6c2b5949159brow1_col7\" class=\"data row1 col7\" >0.045212</td>\n",
       "            </tr>\n",
       "            <tr>\n",
       "                        <th id=\"T_5d015a5b_a784_11ea_be08_6c2b5949159blevel0_row2\" class=\"row_heading level0 row2\" >Fresh</th>\n",
       "                        <td id=\"T_5d015a5b_a784_11ea_be08_6c2b5949159brow2_col0\" class=\"data row2 col0\" >-0.169172</td>\n",
       "                        <td id=\"T_5d015a5b_a784_11ea_be08_6c2b5949159brow2_col1\" class=\"data row2 col1\" >0.055287</td>\n",
       "                        <td id=\"T_5d015a5b_a784_11ea_be08_6c2b5949159brow2_col2\" class=\"data row2 col2\" >1.000000</td>\n",
       "                        <td id=\"T_5d015a5b_a784_11ea_be08_6c2b5949159brow2_col3\" class=\"data row2 col3\" >0.100510</td>\n",
       "                        <td id=\"T_5d015a5b_a784_11ea_be08_6c2b5949159brow2_col4\" class=\"data row2 col4\" >-0.011854</td>\n",
       "                        <td id=\"T_5d015a5b_a784_11ea_be08_6c2b5949159brow2_col5\" class=\"data row2 col5\" >0.345881</td>\n",
       "                        <td id=\"T_5d015a5b_a784_11ea_be08_6c2b5949159brow2_col6\" class=\"data row2 col6\" >-0.101953</td>\n",
       "                        <td id=\"T_5d015a5b_a784_11ea_be08_6c2b5949159brow2_col7\" class=\"data row2 col7\" >0.244690</td>\n",
       "            </tr>\n",
       "            <tr>\n",
       "                        <th id=\"T_5d015a5b_a784_11ea_be08_6c2b5949159blevel0_row3\" class=\"row_heading level0 row3\" >Milk</th>\n",
       "                        <td id=\"T_5d015a5b_a784_11ea_be08_6c2b5949159brow3_col0\" class=\"data row3 col0\" >0.460720</td>\n",
       "                        <td id=\"T_5d015a5b_a784_11ea_be08_6c2b5949159brow3_col1\" class=\"data row3 col1\" >0.032288</td>\n",
       "                        <td id=\"T_5d015a5b_a784_11ea_be08_6c2b5949159brow3_col2\" class=\"data row3 col2\" >0.100510</td>\n",
       "                        <td id=\"T_5d015a5b_a784_11ea_be08_6c2b5949159brow3_col3\" class=\"data row3 col3\" >1.000000</td>\n",
       "                        <td id=\"T_5d015a5b_a784_11ea_be08_6c2b5949159brow3_col4\" class=\"data row3 col4\" >0.728335</td>\n",
       "                        <td id=\"T_5d015a5b_a784_11ea_be08_6c2b5949159brow3_col5\" class=\"data row3 col5\" >0.123994</td>\n",
       "                        <td id=\"T_5d015a5b_a784_11ea_be08_6c2b5949159brow3_col6\" class=\"data row3 col6\" >0.661816</td>\n",
       "                        <td id=\"T_5d015a5b_a784_11ea_be08_6c2b5949159brow3_col7\" class=\"data row3 col7\" >0.406368</td>\n",
       "            </tr>\n",
       "            <tr>\n",
       "                        <th id=\"T_5d015a5b_a784_11ea_be08_6c2b5949159blevel0_row4\" class=\"row_heading level0 row4\" >Grocery</th>\n",
       "                        <td id=\"T_5d015a5b_a784_11ea_be08_6c2b5949159brow4_col0\" class=\"data row4 col0\" >0.608792</td>\n",
       "                        <td id=\"T_5d015a5b_a784_11ea_be08_6c2b5949159brow4_col1\" class=\"data row4 col1\" >0.007696</td>\n",
       "                        <td id=\"T_5d015a5b_a784_11ea_be08_6c2b5949159brow4_col2\" class=\"data row4 col2\" >-0.011854</td>\n",
       "                        <td id=\"T_5d015a5b_a784_11ea_be08_6c2b5949159brow4_col3\" class=\"data row4 col3\" >0.728335</td>\n",
       "                        <td id=\"T_5d015a5b_a784_11ea_be08_6c2b5949159brow4_col4\" class=\"data row4 col4\" >1.000000</td>\n",
       "                        <td id=\"T_5d015a5b_a784_11ea_be08_6c2b5949159brow4_col5\" class=\"data row4 col5\" >-0.040193</td>\n",
       "                        <td id=\"T_5d015a5b_a784_11ea_be08_6c2b5949159brow4_col6\" class=\"data row4 col6\" >0.924641</td>\n",
       "                        <td id=\"T_5d015a5b_a784_11ea_be08_6c2b5949159brow4_col7\" class=\"data row4 col7\" >0.205497</td>\n",
       "            </tr>\n",
       "            <tr>\n",
       "                        <th id=\"T_5d015a5b_a784_11ea_be08_6c2b5949159blevel0_row5\" class=\"row_heading level0 row5\" >Frozen</th>\n",
       "                        <td id=\"T_5d015a5b_a784_11ea_be08_6c2b5949159brow5_col0\" class=\"data row5 col0\" >-0.202046</td>\n",
       "                        <td id=\"T_5d015a5b_a784_11ea_be08_6c2b5949159brow5_col1\" class=\"data row5 col1\" >-0.021044</td>\n",
       "                        <td id=\"T_5d015a5b_a784_11ea_be08_6c2b5949159brow5_col2\" class=\"data row5 col2\" >0.345881</td>\n",
       "                        <td id=\"T_5d015a5b_a784_11ea_be08_6c2b5949159brow5_col3\" class=\"data row5 col3\" >0.123994</td>\n",
       "                        <td id=\"T_5d015a5b_a784_11ea_be08_6c2b5949159brow5_col4\" class=\"data row5 col4\" >-0.040193</td>\n",
       "                        <td id=\"T_5d015a5b_a784_11ea_be08_6c2b5949159brow5_col5\" class=\"data row5 col5\" >1.000000</td>\n",
       "                        <td id=\"T_5d015a5b_a784_11ea_be08_6c2b5949159brow5_col6\" class=\"data row5 col6\" >-0.131525</td>\n",
       "                        <td id=\"T_5d015a5b_a784_11ea_be08_6c2b5949159brow5_col7\" class=\"data row5 col7\" >0.390947</td>\n",
       "            </tr>\n",
       "            <tr>\n",
       "                        <th id=\"T_5d015a5b_a784_11ea_be08_6c2b5949159blevel0_row6\" class=\"row_heading level0 row6\" >Detergents_Paper</th>\n",
       "                        <td id=\"T_5d015a5b_a784_11ea_be08_6c2b5949159brow6_col0\" class=\"data row6 col0\" >0.636026</td>\n",
       "                        <td id=\"T_5d015a5b_a784_11ea_be08_6c2b5949159brow6_col1\" class=\"data row6 col1\" >-0.001483</td>\n",
       "                        <td id=\"T_5d015a5b_a784_11ea_be08_6c2b5949159brow6_col2\" class=\"data row6 col2\" >-0.101953</td>\n",
       "                        <td id=\"T_5d015a5b_a784_11ea_be08_6c2b5949159brow6_col3\" class=\"data row6 col3\" >0.661816</td>\n",
       "                        <td id=\"T_5d015a5b_a784_11ea_be08_6c2b5949159brow6_col4\" class=\"data row6 col4\" >0.924641</td>\n",
       "                        <td id=\"T_5d015a5b_a784_11ea_be08_6c2b5949159brow6_col5\" class=\"data row6 col5\" >-0.131525</td>\n",
       "                        <td id=\"T_5d015a5b_a784_11ea_be08_6c2b5949159brow6_col6\" class=\"data row6 col6\" >1.000000</td>\n",
       "                        <td id=\"T_5d015a5b_a784_11ea_be08_6c2b5949159brow6_col7\" class=\"data row6 col7\" >0.069291</td>\n",
       "            </tr>\n",
       "            <tr>\n",
       "                        <th id=\"T_5d015a5b_a784_11ea_be08_6c2b5949159blevel0_row7\" class=\"row_heading level0 row7\" >Delicassen</th>\n",
       "                        <td id=\"T_5d015a5b_a784_11ea_be08_6c2b5949159brow7_col0\" class=\"data row7 col0\" >0.056011</td>\n",
       "                        <td id=\"T_5d015a5b_a784_11ea_be08_6c2b5949159brow7_col1\" class=\"data row7 col1\" >0.045212</td>\n",
       "                        <td id=\"T_5d015a5b_a784_11ea_be08_6c2b5949159brow7_col2\" class=\"data row7 col2\" >0.244690</td>\n",
       "                        <td id=\"T_5d015a5b_a784_11ea_be08_6c2b5949159brow7_col3\" class=\"data row7 col3\" >0.406368</td>\n",
       "                        <td id=\"T_5d015a5b_a784_11ea_be08_6c2b5949159brow7_col4\" class=\"data row7 col4\" >0.205497</td>\n",
       "                        <td id=\"T_5d015a5b_a784_11ea_be08_6c2b5949159brow7_col5\" class=\"data row7 col5\" >0.390947</td>\n",
       "                        <td id=\"T_5d015a5b_a784_11ea_be08_6c2b5949159brow7_col6\" class=\"data row7 col6\" >0.069291</td>\n",
       "                        <td id=\"T_5d015a5b_a784_11ea_be08_6c2b5949159brow7_col7\" class=\"data row7 col7\" >1.000000</td>\n",
       "            </tr>\n",
       "    </tbody></table>"
      ],
      "text/plain": [
       "<pandas.io.formats.style.Styler at 0x1f244963bb0>"
      ]
     },
     "execution_count": 5,
     "metadata": {},
     "output_type": "execute_result"
    }
   ],
   "source": [
    "corr = sales.corr()\n",
    "corr.style.background_gradient(cmap='Blues')"
   ]
  },
  {
   "cell_type": "markdown",
   "metadata": {},
   "source": [
    "# Challenge 2 - Data Cleaning and Transformation\n",
    "\n",
    "If your conclusion from the previous challenge is the data need cleaning/transformation, do it in the cells below. However, if your conclusion is the data need not be cleaned or transformed, feel free to skip this challenge. But if you do choose the latter, please provide rationale."
   ]
  },
  {
   "cell_type": "code",
   "execution_count": 6,
   "metadata": {},
   "outputs": [],
   "source": [
    "# The dataset is alredy prepared to the mnodels"
   ]
  },
  {
   "cell_type": "markdown",
   "metadata": {},
   "source": [
    "# Challenge 3 - Data Preprocessing\n",
    "\n",
    "One problem with the dataset is the value ranges are remarkably different across various categories (e.g. `Fresh` and `Grocery` compared to `Detergents_Paper` and `Delicassen`). If you made this observation in the first challenge, you've done a great job! This means you not only completed the bonus questions in the previous Supervised Learning lab but also researched deep into [*feature scaling*](https://en.wikipedia.org/wiki/Feature_scaling). Keep on the good work!\n",
    "\n",
    "Diverse value ranges in different features could cause issues in our clustering. The way to reduce the problem is through feature scaling. We'll use this technique again with this dataset.\n",
    "\n",
    "#### We will use the `StandardScaler` from `sklearn.preprocessing` and scale our data. Read more about `StandardScaler` [here](https://scikit-learn.org/stable/modules/generated/sklearn.preprocessing.StandardScaler.html#sklearn.preprocessing.StandardScaler).\n",
    "\n",
    "*After scaling your data, assign the transformed data to a new variable `customers_scale`.*"
   ]
  },
  {
   "cell_type": "code",
   "execution_count": 7,
   "metadata": {},
   "outputs": [],
   "source": [
    "from sklearn.preprocessing import StandardScaler\n",
    "\n",
    "scaler = StandardScaler()\n",
    "\n",
    "scaler.fit(sales)\n",
    "\n",
    "customers_scale = scaler.transform(sales) "
   ]
  },
  {
   "cell_type": "markdown",
   "metadata": {},
   "source": [
    "# Challenge 3 - Data Clustering with K-Means\n",
    "\n",
    "Now let's cluster the data with K-Means first. Initiate the K-Means model, then fit your scaled data. In the data returned from the `.fit` method, there is an attribute called `labels_` which is the cluster number assigned to each data record. What you can do is to assign these labels back to `customers` in a new column called `customers['labels']`. Then you'll see the cluster results of the original data."
   ]
  },
  {
   "cell_type": "code",
   "execution_count": 8,
   "metadata": {
    "scrolled": true
   },
   "outputs": [
    {
     "data": {
      "text/plain": [
       "KMeans()"
      ]
     },
     "execution_count": 8,
     "metadata": {},
     "output_type": "execute_result"
    }
   ],
   "source": [
    "from sklearn.cluster import KMeans\n",
    "\n",
    "kmeans = KMeans()\n",
    "\n",
    "kmeans.fit(X=customers_scale)"
   ]
  },
  {
   "cell_type": "code",
   "execution_count": 9,
   "metadata": {},
   "outputs": [],
   "source": [
    "sales['labels'] = pd.Series(kmeans.labels_)"
   ]
  },
  {
   "cell_type": "markdown",
   "metadata": {},
   "source": [
    "Count the values in `labels`."
   ]
  },
  {
   "cell_type": "code",
   "execution_count": 10,
   "metadata": {},
   "outputs": [
    {
     "data": {
      "text/plain": [
       "0    175\n",
       "2     85\n",
       "5     82\n",
       "1     46\n",
       "7     41\n",
       "3      8\n",
       "6      2\n",
       "4      1\n",
       "Name: labels, dtype: int64"
      ]
     },
     "execution_count": 10,
     "metadata": {},
     "output_type": "execute_result"
    }
   ],
   "source": [
    "sales['labels'].value_counts()"
   ]
  },
  {
   "cell_type": "markdown",
   "metadata": {},
   "source": [
    "# Challenge 4 - Data Clustering with DBSCAN\n",
    "\n",
    "Now let's cluster the data using DBSCAN. Use `DBSCAN(eps=0.5)` to initiate the model, then fit your scaled data. In the data returned from the `.fit` method, assign the `labels_` back to `customers['labels_DBSCAN']`. Now your original data have two labels, one from K-Means and the other from DBSCAN."
   ]
  },
  {
   "cell_type": "code",
   "execution_count": 11,
   "metadata": {
    "scrolled": true
   },
   "outputs": [
    {
     "data": {
      "text/plain": [
       "DBSCAN()"
      ]
     },
     "execution_count": 11,
     "metadata": {},
     "output_type": "execute_result"
    }
   ],
   "source": [
    "from sklearn.cluster import DBSCAN\n",
    "\n",
    "dbscan = DBSCAN(eps=0.5)\n",
    "\n",
    "dbscan.fit(customers_scale)"
   ]
  },
  {
   "cell_type": "code",
   "execution_count": 12,
   "metadata": {},
   "outputs": [],
   "source": [
    "sales['labels_DBSCAN'] = pd.Series(dbscan.labels_)"
   ]
  },
  {
   "cell_type": "markdown",
   "metadata": {},
   "source": [
    "Count the values in `labels_DBSCAN`."
   ]
  },
  {
   "cell_type": "code",
   "execution_count": 13,
   "metadata": {},
   "outputs": [
    {
     "data": {
      "text/plain": [
       "-1    255\n",
       " 1    130\n",
       " 5     22\n",
       " 4      7\n",
       " 6      6\n",
       " 2      5\n",
       " 7      5\n",
       " 3      5\n",
       " 0      5\n",
       "Name: labels_DBSCAN, dtype: int64"
      ]
     },
     "execution_count": 13,
     "metadata": {},
     "output_type": "execute_result"
    }
   ],
   "source": [
    "sales['labels_DBSCAN'].value_counts()"
   ]
  },
  {
   "cell_type": "markdown",
   "metadata": {},
   "source": [
    "# Challenge 5 - Compare K-Means with DBSCAN\n",
    "\n",
    "Now we want to visually compare how K-Means and DBSCAN have clustered our data. We will create scatter plots for several columns. For each of the following column pairs, plot a scatter plot using `labels` and another using `labels_DBSCAN`. Put them side by side to compare. Which clustering algorithm makes better sense?\n",
    "\n",
    "Columns to visualize:\n",
    "\n",
    "* `Detergents_Paper` as X and `Milk` as y\n",
    "* `Grocery` as X and `Fresh` as y\n",
    "* `Frozen` as X and `Delicassen` as y"
   ]
  },
  {
   "cell_type": "markdown",
   "metadata": {},
   "source": [
    "Visualize `Detergents_Paper` as X and `Milk` as y by `labels` and `labels_DBSCAN` respectively"
   ]
  },
  {
   "cell_type": "code",
   "execution_count": 48,
   "metadata": {},
   "outputs": [
    {
     "data": {
      "text/plain": [
       "<matplotlib.collections.PathCollection at 0x1f26bfe1d60>"
      ]
     },
     "execution_count": 48,
     "metadata": {},
     "output_type": "execute_result"
    },
    {
     "data": {
      "image/png": "[encoded data removed]",
      "text/plain": [
       "<Figure size 1440x504 with 2 Axes>"
      ]
     },
     "metadata": {
      "needs_background": "light"
     },
     "output_type": "display_data"
    }
   ],
   "source": [
    "fig, ax = plt.subplots(ncols=2,figsize=(20, 7))\n",
    "\n",
    "ax[0].scatter(data=sales,x='Detergents_Paper',y='Milk',c=np.array(sales['labels']),)\n",
    "ax[1].scatter(data=sales,x='Detergents_Paper',y='Milk',c=np.array(sales['labels_DBSCAN']))"
   ]
  },
  {
   "cell_type": "markdown",
   "metadata": {},
   "source": [
    "Visualize `Grocery` as X and `Fresh` as y by `labels` and `labels_DBSCAN` respectively"
   ]
  },
  {
   "cell_type": "code",
   "execution_count": 52,
   "metadata": {},
   "outputs": [
    {
     "data": {
      "text/plain": [
       "<matplotlib.collections.PathCollection at 0x1f26fbaaac0>"
      ]
     },
     "execution_count": 52,
     "metadata": {},
     "output_type": "execute_result"
    },
    {
     "data": {
      "image/png": "[encoded data removed]",
      "text/plain": [
       "<Figure size 1440x504 with 2 Axes>"
      ]
     },
     "metadata": {
      "needs_background": "light"
     },
     "output_type": "display_data"
    }
   ],
   "source": [
    "fig, ax = plt.subplots(ncols=2,figsize=(20, 7))\n",
    "\n",
    "ax[0].scatter(data=sales,x='Grocery',y='Fresh',c=np.array(sales['labels']),)\n",
    "ax[1].scatter(data=sales,x='Grocery',y='Fresh',c=np.array(sales['labels_DBSCAN']))"
   ]
  },
  {
   "cell_type": "markdown",
   "metadata": {},
   "source": [
    "Visualize `Frozen` as X and `Delicassen` as y by `labels` and `labels_DBSCAN` respectively"
   ]
  },
  {
   "cell_type": "code",
   "execution_count": null,
   "metadata": {},
   "outputs": [],
   "source": [
    "fig, ax = plt.subplots(ncols=2,figsize=(20, 7))\n",
    "\n",
    "ax[0].scatter(data=sales,x='Grocery',y='Fresh',c=np.array(sales['labels']),)\n",
    "ax[1].scatter(data=sales,x='Grocery',y='Fresh',c=np.array(sales['labels_DBSCAN']))"
   ]
  },
  {
   "cell_type": "markdown",
   "metadata": {},
   "source": [
    "Let's use a groupby to see how the mean differs between the groups. Group `customers` by `labels` and `labels_DBSCAN` respectively and compute the means for all columns."
   ]
  },
  {
   "cell_type": "code",
   "execution_count": null,
   "metadata": {},
   "outputs": [],
   "source": []
  },
  {
   "cell_type": "markdown",
   "metadata": {},
   "source": [
    "Which algorithm appears to perform better?"
   ]
  },
  {
   "cell_type": "code",
   "execution_count": null,
   "metadata": {},
   "outputs": [],
   "source": [
    "# Your observations here"
   ]
  },
  {
   "cell_type": "markdown",
   "metadata": {},
   "source": [
    "# Bonus Challenge 2 - Changing K-Means Number of Clusters\n",
    "\n",
    "As we mentioned earlier, we don't need to worry about the number of clusters with DBSCAN because it automatically decides that based on the parameters we send to it. But with K-Means, we have to supply the `n_clusters` param (if you don't supply `n_clusters`, the algorithm will use `8` by default). You need to know that the optimal number of clusters differs case by case based on the dataset. K-Means can perform badly if the wrong number of clusters is used.\n",
    "\n",
    "In advanced machine learning, data scientists try different numbers of clusters and evaluate the results with statistical measures (read [here](https://en.wikipedia.org/wiki/Cluster_analysis#External_evaluation)). We are not using statistical measures today but we'll use our eyes instead. In the cells below, experiment with different number of clusters and visualize with scatter plots. What number of clusters seems to work best for K-Means?"
   ]
  },
  {
   "cell_type": "code",
   "execution_count": null,
   "metadata": {},
   "outputs": [],
   "source": [
    "# Your code here"
   ]
  },
  {
   "cell_type": "code",
   "execution_count": null,
   "metadata": {},
   "outputs": [],
   "source": [
    "# Your comment here"
   ]
  },
  {
   "cell_type": "markdown",
   "metadata": {},
   "source": [
    "# Bonus Challenge 3 - Changing DBSCAN `eps` and `min_samples`\n",
    "\n",
    "Experiment changing the `eps` and `min_samples` params for DBSCAN. See how the results differ with scatter plot visualization."
   ]
  },
  {
   "cell_type": "code",
   "execution_count": null,
   "metadata": {},
   "outputs": [],
   "source": [
    "# Your code here"
   ]
  },
  {
   "cell_type": "code",
   "execution_count": null,
   "metadata": {},
   "outputs": [],
   "source": [
    "# Your comment here"
   ]
  }
 ],
 "metadata": {
  "kernelspec": {
   "display_name": "Python 3",
   "language": "python",
   "name": "python3"
  },
  "language_info": {
   "codemirror_mode": {
    "name": "ipython",
    "version": 3
   },
   "file_extension": ".py",
   "mimetype": "text/x-python",
   "name": "python",
   "nbconvert_exporter": "python",
   "pygments_lexer": "ipython3",
   "version": "3.8.3"
  }
 },
 "nbformat": 4,
 "nbformat_minor": 4
}
