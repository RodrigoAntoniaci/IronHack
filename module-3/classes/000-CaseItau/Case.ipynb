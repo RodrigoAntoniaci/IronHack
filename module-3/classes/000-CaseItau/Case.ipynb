{
 "cells": [
  {
   "cell_type": "markdown",
   "metadata": {},
   "source": [
    "# Case Itau"
   ]
  },
  {
   "cell_type": "markdown",
   "metadata": {},
   "source": [
    "## Libraries"
   ]
  },
  {
   "cell_type": "code",
   "execution_count": 1,
   "metadata": {},
   "outputs": [],
   "source": [
    "import pandas as pd"
   ]
  },
  {
   "cell_type": "code",
   "execution_count": 144,
   "metadata": {},
   "outputs": [],
   "source": [
    "rain = pd.read_csv('./data/rain_data_aus.csv')\n",
    "wind1 = pd.read_csv('./data/wind_table_01.csv')\n",
    "wind2 = pd.read_csv('./data/wind_table_02.csv')\n",
    "wind3 = pd.read_csv('./data/wind_table_03.csv')\n",
    "wind4 = pd.read_csv('./data/wind_table_04.csv')\n",
    "wind5 = pd.read_csv('./data/wind_table_05.csv')\n",
    "wind6 = pd.read_csv('./data/wind_table_06.csv')\n",
    "wind7 = pd.read_csv('./data/wind_table_07.csv')\n",
    "wind8 = pd.read_csv('./data/wind_table_08.csv')"
   ]
  },
  {
   "cell_type": "markdown",
   "metadata": {},
   "source": [
    "# Gathering Data"
   ]
  },
  {
   "cell_type": "code",
   "execution_count": 145,
   "metadata": {},
   "outputs": [],
   "source": [
    "list_wind = [wind1,wind2,wind3,wind4,wind5,wind6,wind7,wind8]"
   ]
  },
  {
   "cell_type": "code",
   "execution_count": 146,
   "metadata": {},
   "outputs": [],
   "source": [
    "def wind_concat(list_dataset):\n",
    "    '''Function to adjust column names and return concatened in a single df.\n",
    "    '''\n",
    "    for ds in list_dataset:\n",
    "        ds.rename(lambda x: x.replace('_','').lower(), axis='columns',inplace=True)\n",
    "    return pd.concat(list_dataset)"
   ]
  },
  {
   "cell_type": "code",
   "execution_count": 147,
   "metadata": {},
   "outputs": [],
   "source": [
    "wind = wind_concat(list_wind)"
   ]
  },
  {
   "cell_type": "markdown",
   "metadata": {},
   "source": [
    "## Removing duplicated lines"
   ]
  },
  {
   "cell_type": "code",
   "execution_count": 148,
   "metadata": {},
   "outputs": [
    {
     "name": "stdout",
     "output_type": "stream",
     "text": [
      "0\n",
      "22193\n"
     ]
    }
   ],
   "source": [
    "print(rain.duplicated().sum())\n",
    "print(wind.duplicated().sum())"
   ]
  },
  {
   "cell_type": "code",
   "execution_count": 149,
   "metadata": {},
   "outputs": [
    {
     "name": "stdout",
     "output_type": "stream",
     "text": [
      "0\n"
     ]
    }
   ],
   "source": [
    "wind.drop_duplicates(inplace=True)\n",
    "print(wind.duplicated().sum())"
   ]
  },
  {
   "cell_type": "markdown",
   "metadata": {},
   "source": [
    "## Merging datasets"
   ]
  },
  {
   "cell_type": "code",
   "execution_count": 150,
   "metadata": {},
   "outputs": [],
   "source": [
    "wind['dt_loc'] = wind['date'] + '_' + wind['location']\n",
    "rain['dt_loc'] = rain['date'] + '_' + rain['location']"
   ]
  },
  {
   "cell_type": "code",
   "execution_count": 152,
   "metadata": {},
   "outputs": [],
   "source": [
    "weather_hist = pd.merge(rain,wind,on='dt_loc',how='left')"
   ]
  },
  {
   "cell_type": "markdown",
   "metadata": {},
   "source": [
    "# Data cleaning"
   ]
  },
  {
   "cell_type": "code",
   "execution_count": 153,
   "metadata": {},
   "outputs": [],
   "source": [
    "weather_hist.drop(axis=columns,columns=['date_y','location_y'],inplace=True)"
   ]
  },
  {
   "cell_type": "code",
   "execution_count": 161,
   "metadata": {},
   "outputs": [],
   "source": [
    "weather_hist.rename(columns={'date_x':'date','location_x':'location'},inplace=True)"
   ]
  },
  {
   "cell_type": "code",
   "execution_count": 162,
   "metadata": {},
   "outputs": [
    {
     "name": "stdout",
     "output_type": "stream",
     "text": [
      "<class 'pandas.core.frame.DataFrame'>\n",
      "Int64Index: 142193 entries, 0 to 142192\n",
      "Data columns (total 30 columns):\n",
      " #   Column            Non-Null Count   Dtype  \n",
      "---  ------            --------------   -----  \n",
      " 0   date              142193 non-null  object \n",
      " 1   location          142193 non-null  object \n",
      " 2   mintemp           141556 non-null  float64\n",
      " 3   maxtemp           141871 non-null  float64\n",
      " 4   rainfall          140787 non-null  float64\n",
      " 5   evaporation       81350 non-null   float64\n",
      " 6   sunshine          74377 non-null   float64\n",
      " 7   humidity9am       140419 non-null  float64\n",
      " 8   humidity3pm       138583 non-null  float64\n",
      " 9   pressure9am       128179 non-null  float64\n",
      " 10  pressure3pm       128212 non-null  float64\n",
      " 11  cloud9am          88536 non-null   float64\n",
      " 12  cloud3pm          85099 non-null   float64\n",
      " 13  temp9am           141289 non-null  float64\n",
      " 14  temp3pm           139467 non-null  float64\n",
      " 15  raintoday         140787 non-null  object \n",
      " 16  amountOfRain      142193 non-null  float64\n",
      " 17  raintomorrow      142193 non-null  object \n",
      " 18  temp              141871 non-null  float64\n",
      " 19  humidity          138583 non-null  float64\n",
      " 20  precipitation3pm  142193 non-null  int64  \n",
      " 21  precipitation9am  142193 non-null  float64\n",
      " 22  modelo_vigente    142193 non-null  float64\n",
      " 23  dt_loc            142193 non-null  object \n",
      " 24  windgustdir       132863 non-null  object \n",
      " 25  windgustspeed     132923 non-null  float64\n",
      " 26  winddir9am        132180 non-null  object \n",
      " 27  winddir3pm        138415 non-null  object \n",
      " 28  windspeed9am      140845 non-null  float64\n",
      " 29  windspeed3pm      139563 non-null  float64\n",
      "dtypes: float64(21), int64(1), object(8)\n",
      "memory usage: 33.6+ MB\n"
     ]
    }
   ],
   "source": [
    "weather_hist.info()"
   ]
  },
  {
   "cell_type": "code",
   "execution_count": 174,
   "metadata": {},
   "outputs": [
    {
     "data": {
      "text/plain": [
       "0         16.9\n",
       "1         17.2\n",
       "2         21.0\n",
       "3         18.1\n",
       "4         17.8\n",
       "          ... \n",
       "142188     9.4\n",
       "142189    10.1\n",
       "142190    10.9\n",
       "142191    12.5\n",
       "142192    15.1\n",
       "Name: temp9am, Length: 142193, dtype: float64"
      ]
     },
     "execution_count": 174,
     "metadata": {},
     "output_type": "execute_result"
    }
   ],
   "source": [
    "weather_hist['temp9am']"
   ]
  },
  {
   "cell_type": "code",
   "execution_count": null,
   "metadata": {},
   "outputs": [],
   "source": []
  }
 ],
 "metadata": {
  "kernelspec": {
   "display_name": "Python 3",
   "language": "python",
   "name": "python3"
  },
  "language_info": {
   "codemirror_mode": {
    "name": "ipython",
    "version": 3
   },
   "file_extension": ".py",
   "mimetype": "text/x-python",
   "name": "python",
   "nbconvert_exporter": "python",
   "pygments_lexer": "ipython3",
   "version": "3.8.3"
  }
 },
 "nbformat": 4,
 "nbformat_minor": 4
}
