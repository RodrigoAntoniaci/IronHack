{
 "cells": [
  {
   "cell_type": "code",
   "execution_count": 1,
   "metadata": {
    "ExecuteTime": {
     "end_time": "2020-05-16T14:38:19.000766Z",
     "start_time": "2020-05-16T14:38:18.540464Z"
    }
   },
   "outputs": [],
   "source": [
    "import pandas as pd\n",
    "import matplotlib.pyplot as plt"
   ]
  },
  {
   "cell_type": "markdown",
   "metadata": {
    "colab_type": "text",
    "id": "KtjRunb5SNLC"
   },
   "source": [
    "\n",
    "# Principal Component Analysis"
   ]
  },
  {
   "cell_type": "markdown",
   "metadata": {
    "colab_type": "text",
    "id": "N7PMjeCTSNLD"
   },
   "source": [
    "PCA is fundamentally a dimensionality reduction algorithm, but it can also be useful as a tool for visualization, for noise filtering, for feature extraction and engineering, and much more.\n"
   ]
  },
  {
   "cell_type": "code",
   "execution_count": 2,
   "metadata": {
    "ExecuteTime": {
     "end_time": "2020-05-16T14:38:19.278057Z",
     "start_time": "2020-05-16T14:38:19.275090Z"
    },
    "colab": {},
    "colab_type": "code",
    "id": "b0AHdhbTSNLE"
   },
   "outputs": [],
   "source": [
    "import numpy as np\n",
    "import matplotlib.pyplot as plt"
   ]
  },
  {
   "cell_type": "markdown",
   "metadata": {},
   "source": [
    "## Using PCA in 2-D (?) to understand its concept."
   ]
  },
  {
   "cell_type": "markdown",
   "metadata": {},
   "source": [
    "Imagine a dataset with the following composition:"
   ]
  },
  {
   "cell_type": "code",
   "execution_count": 3,
   "metadata": {
    "ExecuteTime": {
     "end_time": "2020-05-16T14:38:20.104043Z",
     "start_time": "2020-05-16T14:38:20.006744Z"
    },
    "colab": {},
    "colab_type": "code",
    "id": "qLIOvrnMSNLK",
    "outputId": "973d46e9-ede5-4f6d-e083-d980413da169"
   },
   "outputs": [
    {
     "data": {
      "image/png": "[encoded data removed]",
      "text/plain": [
       "<Figure size 432x288 with 1 Axes>"
      ]
     },
     "metadata": {
      "needs_background": "light"
     },
     "output_type": "display_data"
    }
   ],
   "source": [
    "rng = np.random.RandomState(1)\n",
    "X = np.dot(rng.rand(2, 2), rng.randn(2, 200)).T\n",
    "plt.scatter(X[:, 0], X[:, 1], alpha=1, s=8)\n",
    "plt.axis('equal');"
   ]
  },
  {
   "cell_type": "markdown",
   "metadata": {},
   "source": [
    "This dataset is comprised of two dimensions. The first column is the X[:, 0] (which, in the graph, is represented by the x-axis) and the second column, X[:, 1] (which, in the graph, is represented by the y-axis)."
   ]
  },
  {
   "cell_type": "markdown",
   "metadata": {},
   "source": [
    "If we think about the information contained in this data, we could imagine that the axis where the information is <b>really</b> contained is neighter x nor the y axis. It is, rather, an axis somewhere in between."
   ]
  },
  {
   "cell_type": "code",
   "execution_count": 4,
   "metadata": {
    "ExecuteTime": {
     "end_time": "2020-05-16T14:38:21.175692Z",
     "start_time": "2020-05-16T14:38:21.057975Z"
    }
   },
   "outputs": [
    {
     "data": {
      "image/png": "[encoded data removed]",
      "text/plain": [
       "<Figure size 432x288 with 1 Axes>"
      ]
     },
     "metadata": {
      "needs_background": "light"
     },
     "output_type": "display_data"
    }
   ],
   "source": [
    "# plot data\n",
    "plt.scatter(X[:, 0], X[:, 1], alpha=1)\n",
    "plt.annotate('direction of greater information', xy=(min(X[:,0])+0.1, min(X[:,1])-.05), xytext=(max(X[:,0]), max(X[:,1])+0.3), arrowprops=dict(arrowstyle= '<->', color='red', lw=3.5, ls='-'));"
   ]
  },
  {
   "cell_type": "markdown",
   "metadata": {
    "ExecuteTime": {
     "end_time": "2020-04-20T15:50:36.609862Z",
     "start_time": "2020-04-20T15:50:36.605872Z"
    }
   },
   "source": [
    "Specifically, it seems to be a combination of both the first and second dimensions. Indeed, it is. "
   ]
  },
  {
   "cell_type": "markdown",
   "metadata": {},
   "source": [
    "The PCA algorithm will try to find the directions in which the most information is contained. By information, we always mean to say - variance."
   ]
  },
  {
   "cell_type": "markdown",
   "metadata": {
    "colab_type": "text",
    "id": "2ZsPk2PiSNLO"
   },
   "source": [
    "Rather than attempting to *predict* the y values from the x values, the unsupervised learning problem attempts to learn about the *relationship* between your features (your `X`).\n",
    "\n",
    "In principal component analysis, this relationship is quantified by finding a list of the *principal axes* in the data, and using those axes to describe the dataset."
   ]
  },
  {
   "cell_type": "code",
   "execution_count": 5,
   "metadata": {
    "ExecuteTime": {
     "end_time": "2020-04-20T18:48:46.866594Z",
     "start_time": "2020-04-20T18:48:46.862604Z"
    }
   },
   "outputs": [
    {
     "data": {
      "text/plain": [
       "(200, 2)"
      ]
     },
     "execution_count": 5,
     "metadata": {},
     "output_type": "execute_result"
    }
   ],
   "source": [
    "X.shape"
   ]
  },
  {
   "cell_type": "code",
   "execution_count": 6,
   "metadata": {
    "ExecuteTime": {
     "end_time": "2020-05-16T14:38:46.880697Z",
     "start_time": "2020-05-16T14:38:46.848781Z"
    }
   },
   "outputs": [
    {
     "data": {
      "text/html": [
       "<div>\n",
       "<style scoped>\n",
       "    .dataframe tbody tr th:only-of-type {\n",
       "        vertical-align: middle;\n",
       "    }\n",
       "\n",
       "    .dataframe tbody tr th {\n",
       "        vertical-align: top;\n",
       "    }\n",
       "\n",
       "    .dataframe thead th {\n",
       "        text-align: right;\n",
       "    }\n",
       "</style>\n",
       "<table border=\"1\" class=\"dataframe\">\n",
       "  <thead>\n",
       "    <tr style=\"text-align: right;\">\n",
       "      <th></th>\n",
       "      <th>0</th>\n",
       "      <th>1</th>\n",
       "    </tr>\n",
       "  </thead>\n",
       "  <tbody>\n",
       "    <tr>\n",
       "      <th>0</th>\n",
       "      <td>-0.625302</td>\n",
       "      <td>-0.170064</td>\n",
       "    </tr>\n",
       "    <tr>\n",
       "      <th>1</th>\n",
       "      <td>0.960695</td>\n",
       "      <td>0.590901</td>\n",
       "    </tr>\n",
       "    <tr>\n",
       "      <th>2</th>\n",
       "      <td>-0.598543</td>\n",
       "      <td>-0.402593</td>\n",
       "    </tr>\n",
       "    <tr>\n",
       "      <th>3</th>\n",
       "      <td>-2.228059</td>\n",
       "      <td>-0.532577</td>\n",
       "    </tr>\n",
       "    <tr>\n",
       "      <th>4</th>\n",
       "      <td>-0.461430</td>\n",
       "      <td>-0.498867</td>\n",
       "    </tr>\n",
       "    <tr>\n",
       "      <th>...</th>\n",
       "      <td>...</td>\n",
       "      <td>...</td>\n",
       "    </tr>\n",
       "    <tr>\n",
       "      <th>195</th>\n",
       "      <td>0.838409</td>\n",
       "      <td>0.278380</td>\n",
       "    </tr>\n",
       "    <tr>\n",
       "      <th>196</th>\n",
       "      <td>0.312708</td>\n",
       "      <td>-0.010600</td>\n",
       "    </tr>\n",
       "    <tr>\n",
       "      <th>197</th>\n",
       "      <td>1.955876</td>\n",
       "      <td>0.638224</td>\n",
       "    </tr>\n",
       "    <tr>\n",
       "      <th>198</th>\n",
       "      <td>-1.108304</td>\n",
       "      <td>-0.395054</td>\n",
       "    </tr>\n",
       "    <tr>\n",
       "      <th>199</th>\n",
       "      <td>0.398647</td>\n",
       "      <td>0.023187</td>\n",
       "    </tr>\n",
       "  </tbody>\n",
       "</table>\n",
       "<p>200 rows × 2 columns</p>\n",
       "</div>"
      ],
      "text/plain": [
       "            0         1\n",
       "0   -0.625302 -0.170064\n",
       "1    0.960695  0.590901\n",
       "2   -0.598543 -0.402593\n",
       "3   -2.228059 -0.532577\n",
       "4   -0.461430 -0.498867\n",
       "..        ...       ...\n",
       "195  0.838409  0.278380\n",
       "196  0.312708 -0.010600\n",
       "197  1.955876  0.638224\n",
       "198 -1.108304 -0.395054\n",
       "199  0.398647  0.023187\n",
       "\n",
       "[200 rows x 2 columns]"
      ]
     },
     "execution_count": 6,
     "metadata": {},
     "output_type": "execute_result"
    }
   ],
   "source": [
    "pd.DataFrame(X)"
   ]
  },
  {
   "cell_type": "code",
   "execution_count": 7,
   "metadata": {
    "ExecuteTime": {
     "end_time": "2020-05-16T14:39:10.145568Z",
     "start_time": "2020-05-16T14:39:09.840385Z"
    },
    "colab": {},
    "colab_type": "code",
    "id": "ej6KqjXbSNLP",
    "outputId": "5b3fd69d-6549-49c8-970f-1655e523920c"
   },
   "outputs": [
    {
     "data": {
      "text/plain": [
       "PCA(n_components=2)"
      ]
     },
     "execution_count": 7,
     "metadata": {},
     "output_type": "execute_result"
    }
   ],
   "source": [
    "from sklearn.decomposition import PCA\n",
    "\n",
    "pca = PCA(n_components=2)\n",
    "pca.fit(X)"
   ]
  },
  {
   "cell_type": "markdown",
   "metadata": {
    "colab_type": "text",
    "id": "2pdJBp8OSNLR"
   },
   "source": [
    "The <b>fit method</b> learns some quantities from the data, most importantly the \"components\" and \"explained variance\":"
   ]
  },
  {
   "cell_type": "code",
   "execution_count": 8,
   "metadata": {
    "ExecuteTime": {
     "end_time": "2020-05-16T14:39:41.158315Z",
     "start_time": "2020-05-16T14:39:41.153302Z"
    }
   },
   "outputs": [
    {
     "data": {
      "text/plain": [
       "array([[-0.94446029, -0.32862557],\n",
       "       [-0.32862557,  0.94446029]])"
      ]
     },
     "execution_count": 8,
     "metadata": {},
     "output_type": "execute_result"
    }
   ],
   "source": [
    "pca.components_"
   ]
  },
  {
   "cell_type": "markdown",
   "metadata": {},
   "source": [
    "What do these components mean?"
   ]
  },
  {
   "cell_type": "markdown",
   "metadata": {},
   "source": [
    "The first component is `pca.components_[0]`"
   ]
  },
  {
   "cell_type": "code",
   "execution_count": 9,
   "metadata": {
    "ExecuteTime": {
     "end_time": "2020-04-20T18:53:26.094391Z",
     "start_time": "2020-04-20T18:53:26.090402Z"
    }
   },
   "outputs": [
    {
     "data": {
      "text/plain": [
       "array([-0.94446029, -0.32862557])"
      ]
     },
     "execution_count": 9,
     "metadata": {},
     "output_type": "execute_result"
    }
   ],
   "source": [
    "pca.components_[0]"
   ]
  },
  {
   "cell_type": "code",
   "execution_count": 10,
   "metadata": {
    "ExecuteTime": {
     "end_time": "2020-04-20T19:03:22.633116Z",
     "start_time": "2020-04-20T19:03:22.624138Z"
    },
    "scrolled": true
   },
   "outputs": [
    {
     "data": {
      "text/html": [
       "<div>\n",
       "<style scoped>\n",
       "    .dataframe tbody tr th:only-of-type {\n",
       "        vertical-align: middle;\n",
       "    }\n",
       "\n",
       "    .dataframe tbody tr th {\n",
       "        vertical-align: top;\n",
       "    }\n",
       "\n",
       "    .dataframe thead th {\n",
       "        text-align: right;\n",
       "    }\n",
       "</style>\n",
       "<table border=\"1\" class=\"dataframe\">\n",
       "  <thead>\n",
       "    <tr style=\"text-align: right;\">\n",
       "      <th></th>\n",
       "      <th>componente principal 1</th>\n",
       "    </tr>\n",
       "  </thead>\n",
       "  <tbody>\n",
       "    <tr>\n",
       "      <th>0</th>\n",
       "      <td>0.646460</td>\n",
       "    </tr>\n",
       "    <tr>\n",
       "      <th>1</th>\n",
       "      <td>-1.101523</td>\n",
       "    </tr>\n",
       "    <tr>\n",
       "      <th>2</th>\n",
       "      <td>0.697603</td>\n",
       "    </tr>\n",
       "    <tr>\n",
       "      <th>3</th>\n",
       "      <td>2.279332</td>\n",
       "    </tr>\n",
       "    <tr>\n",
       "      <th>4</th>\n",
       "      <td>0.599743</td>\n",
       "    </tr>\n",
       "    <tr>\n",
       "      <th>...</th>\n",
       "      <td>...</td>\n",
       "    </tr>\n",
       "    <tr>\n",
       "      <th>195</th>\n",
       "      <td>-0.883326</td>\n",
       "    </tr>\n",
       "    <tr>\n",
       "      <th>196</th>\n",
       "      <td>-0.291857</td>\n",
       "    </tr>\n",
       "    <tr>\n",
       "      <th>197</th>\n",
       "      <td>-2.056984</td>\n",
       "    </tr>\n",
       "    <tr>\n",
       "      <th>198</th>\n",
       "      <td>1.176573</td>\n",
       "    </tr>\n",
       "    <tr>\n",
       "      <th>199</th>\n",
       "      <td>-0.384126</td>\n",
       "    </tr>\n",
       "  </tbody>\n",
       "</table>\n",
       "<p>200 rows × 1 columns</p>\n",
       "</div>"
      ],
      "text/plain": [
       "     componente principal 1\n",
       "0                  0.646460\n",
       "1                 -1.101523\n",
       "2                  0.697603\n",
       "3                  2.279332\n",
       "4                  0.599743\n",
       "..                      ...\n",
       "195               -0.883326\n",
       "196               -0.291857\n",
       "197               -2.056984\n",
       "198                1.176573\n",
       "199               -0.384126\n",
       "\n",
       "[200 rows x 1 columns]"
      ]
     },
     "execution_count": 10,
     "metadata": {},
     "output_type": "execute_result"
    }
   ],
   "source": [
    "pd.DataFrame(-0.94446029 * X[:, 0] -0.32862557 * X[:, 1], columns=['componente principal 1'])"
   ]
  },
  {
   "cell_type": "markdown",
   "metadata": {},
   "source": [
    "The first component of a PCA method is always the component that contains the most information. What this component is doing is taking what is called as `a linear combination of the original columns`. In this case, the results show that the PCA decided to take $-0.94$ of the first column (`X[:,0]`) and $-0.32$ of the second dimension (`X[:, 1]`). Let's take a look at the second component `pca.components_[1]`"
   ]
  },
  {
   "cell_type": "code",
   "execution_count": 11,
   "metadata": {
    "ExecuteTime": {
     "end_time": "2020-05-16T14:42:48.566864Z",
     "start_time": "2020-05-16T14:42:48.561894Z"
    }
   },
   "outputs": [
    {
     "data": {
      "text/plain": [
       "array([-0.32862557,  0.94446029])"
      ]
     },
     "execution_count": 11,
     "metadata": {},
     "output_type": "execute_result"
    }
   ],
   "source": [
    "pca.components_[1]"
   ]
  },
  {
   "cell_type": "markdown",
   "metadata": {},
   "source": [
    "This is telling us that the second component of our data (the second most important combination of features) is comprised by taking the first dimension and multiplying it by $-0.32$ and taking the second dimension and multiplying it by $0.94$."
   ]
  },
  {
   "cell_type": "markdown",
   "metadata": {},
   "source": [
    "### Explained Variance"
   ]
  },
  {
   "cell_type": "markdown",
   "metadata": {},
   "source": [
    "Another important aspect of the results is the `explained_variance`. It can be obtained by the `pca.explained_variance` attibute."
   ]
  },
  {
   "cell_type": "code",
   "execution_count": 12,
   "metadata": {
    "ExecuteTime": {
     "end_time": "2020-05-16T14:49:58.959724Z",
     "start_time": "2020-05-16T14:49:58.955735Z"
    }
   },
   "outputs": [
    {
     "data": {
      "text/plain": [
       "array([0.7625315, 0.0184779])"
      ]
     },
     "execution_count": 12,
     "metadata": {},
     "output_type": "execute_result"
    }
   ],
   "source": [
    "pca.explained_variance_"
   ]
  },
  {
   "cell_type": "code",
   "execution_count": 13,
   "metadata": {
    "ExecuteTime": {
     "end_time": "2020-04-20T18:58:52.093650Z",
     "start_time": "2020-04-20T18:58:52.088663Z"
    },
    "colab": {},
    "colab_type": "code",
    "id": "DDwHEir4SNLV",
    "outputId": "dbc39318-90d1-4297-f6ca-e8a2e76e9084"
   },
   "outputs": [
    {
     "name": "stdout",
     "output_type": "stream",
     "text": [
      "[0.97634101 0.02365899]\n"
     ]
    }
   ],
   "source": [
    "print(pca.explained_variance_ratio_)"
   ]
  },
  {
   "cell_type": "code",
   "execution_count": 14,
   "metadata": {
    "ExecuteTime": {
     "end_time": "2020-04-20T18:59:42.283209Z",
     "start_time": "2020-04-20T18:59:42.279221Z"
    }
   },
   "outputs": [
    {
     "data": {
      "text/plain": [
       "array([-0.94446029, -0.32862557])"
      ]
     },
     "execution_count": 14,
     "metadata": {},
     "output_type": "execute_result"
    }
   ],
   "source": [
    "pca.components_[0]"
   ]
  },
  {
   "cell_type": "markdown",
   "metadata": {},
   "source": [
    "For this case, we observe that only 1 component explains ~97% of the variance (information) in our data. It means that you can reduce the number of dimensions to 1, and it will still retain ~97% of its signal."
   ]
  },
  {
   "cell_type": "markdown",
   "metadata": {
    "colab_type": "text",
    "id": "-mLUcaQ4SNLc"
   },
   "source": [
    "To see what these numbers mean, let's visualize them as vectors over the input data, using the \"components\" to define the direction of the vector, and the \"explained variance\" to define the squared-length of the vector:"
   ]
  },
  {
   "cell_type": "code",
   "execution_count": 15,
   "metadata": {
    "ExecuteTime": {
     "end_time": "2020-04-20T19:05:20.833573Z",
     "start_time": "2020-04-20T19:05:20.731246Z"
    }
   },
   "outputs": [
    {
     "name": "stdout",
     "output_type": "stream",
     "text": [
      "[ 0.03351168 -0.00408072] [-2.4406829  -0.86497833]\n",
      "[ 0.03351168 -0.00408072] [-0.10050192  0.38107044]\n"
     ]
    },
    {
     "data": {
      "image/png": "[encoded data removed]",
      "text/plain": [
       "<Figure size 432x288 with 1 Axes>"
      ]
     },
     "metadata": {
      "needs_background": "light"
     },
     "output_type": "display_data"
    }
   ],
   "source": [
    "def draw_vector(v0, v1, ax=None):\n",
    "    ax = ax or plt.gca()\n",
    "    arrowprops=dict(arrowstyle='<->', color='k',\n",
    "                    linewidth=2,\n",
    "                    shrinkA=0, shrinkB=0)\n",
    "    print(v0, v1)\n",
    "    ax.annotate('', v1, v0, arrowprops=arrowprops)\n",
    "\n",
    "# plot data\n",
    "plt.scatter(X[:, 0], X[:, 1], alpha=0.2)\n",
    "for length, vector in zip(pca.explained_variance_, pca.components_):\n",
    "    v = vector * 3 * np.sqrt(length)\n",
    "    draw_vector(pca.mean_, pca.mean_ + v)\n",
    "plt.axis('equal');"
   ]
  },
  {
   "cell_type": "markdown",
   "metadata": {
    "colab_type": "text",
    "id": "UXCkn9O7SNLg"
   },
   "source": [
    "These vectors represent the *principal axes* of the data, and the length of the vector is an indication of how \"important\" that axis is in describing the distribution of the data—more precisely, it is a measure of the variance of the data when projected onto that axis.\n",
    "The projection of each data point onto the principal axes are the \"principal components\" of the data.\n",
    "\n",
    "If we plot these principal components beside the original data, we see the plots shown here:"
   ]
  },
  {
   "cell_type": "code",
   "execution_count": 16,
   "metadata": {
    "ExecuteTime": {
     "end_time": "2020-04-20T19:07:02.608812Z",
     "start_time": "2020-04-20T19:07:02.600861Z"
    },
    "scrolled": true
   },
   "outputs": [
    {
     "data": {
      "text/plain": [
       "array([[ 6.76769235e-01,  5.97386015e-02],\n",
       "       [-1.07121393e+00,  2.57240064e-01],\n",
       "       [ 7.27912364e-01, -1.68669939e-01],\n",
       "       [ 2.30964136e+00,  2.44066575e-01],\n",
       "       [ 6.30052323e-01, -3.04655713e-01],\n",
       "       [ 1.02448887e+00,  7.56230140e-02],\n",
       "       [ 7.77183507e-01, -8.34608477e-02],\n",
       "       [-1.39656414e+00,  1.44518385e-01],\n",
       "       [-2.91049874e-01, -2.01289478e-01],\n",
       "       [ 1.88864221e+00,  2.31419563e-01],\n",
       "       [-7.11544293e-01,  1.13426118e-01],\n",
       "       [ 6.38884130e-01,  3.88212853e-02],\n",
       "       [ 5.48059617e-01, -2.00775267e-01],\n",
       "       [-2.19312436e-01,  2.08243673e-01],\n",
       "       [-3.87789490e-01,  6.89135848e-02],\n",
       "       [ 7.15219956e-01,  1.13841003e-01],\n",
       "       [-1.08373816e+00,  7.78081042e-02],\n",
       "       [-2.99917403e-01, -5.86382919e-02],\n",
       "       [-7.96849021e-01,  2.44527383e-01],\n",
       "       [-8.12568346e-01, -1.17341246e-01],\n",
       "       [-1.54018281e+00, -3.24862050e-02],\n",
       "       [-2.52920476e-01, -4.86012463e-02],\n",
       "       [ 6.26464454e-01, -1.68045678e-01],\n",
       "       [-1.61007571e+00,  2.28082001e-01],\n",
       "       [ 5.04240563e-01,  5.04806457e-03],\n",
       "       [ 5.53935753e-01,  1.33299389e-01],\n",
       "       [ 6.81911252e-01,  1.73541132e-02],\n",
       "       [-2.00157228e-02, -6.76884664e-02],\n",
       "       [ 1.13550833e-01,  1.21428285e-01],\n",
       "       [ 2.92286085e-02,  7.90509091e-02],\n",
       "       [-2.14393483e-01,  1.41239296e-01],\n",
       "       [-1.03406124e+00,  2.18106452e-01],\n",
       "       [ 3.88635004e-01,  1.00903110e-01],\n",
       "       [ 9.96727811e-01, -4.36048501e-02],\n",
       "       [ 1.39223653e+00,  1.10141389e-01],\n",
       "       [ 4.57043694e-01, -4.97379329e-02],\n",
       "       [ 6.81839901e-01, -2.94160957e-01],\n",
       "       [-9.05233246e-01, -4.64644357e-02],\n",
       "       [ 4.94316334e-01,  1.68112686e-02],\n",
       "       [ 6.22411280e-01,  1.21231745e-01],\n",
       "       [ 3.26088548e-01,  1.17087443e-01],\n",
       "       [ 4.52560386e-01, -2.85079894e-01],\n",
       "       [ 6.81840663e-01, -3.41435056e-02],\n",
       "       [-2.44832816e-01,  1.35036709e-01],\n",
       "       [-5.27149562e-01,  1.89232462e-02],\n",
       "       [-4.51448737e-01, -2.94371271e-01],\n",
       "       [-1.42864453e+00,  8.68104419e-02],\n",
       "       [ 8.05233004e-01, -1.33401389e-01],\n",
       "       [ 1.81049742e-01, -4.30809501e-02],\n",
       "       [ 3.49039347e-01,  5.18320475e-02],\n",
       "       [ 2.65803583e+00,  3.49490740e-02],\n",
       "       [-1.34272221e+00,  1.57302515e-01],\n",
       "       [-1.73026340e-01,  6.13578430e-02],\n",
       "       [ 6.13676729e-01, -1.16464100e-01],\n",
       "       [-1.89940741e+00,  1.26393840e-04],\n",
       "       [-7.93074429e-01, -8.40401939e-02],\n",
       "       [-4.17072486e-01, -3.26912551e-03],\n",
       "       [ 1.54913526e-01, -1.35977010e-01],\n",
       "       [ 2.44646603e-01,  1.23357386e-01],\n",
       "       [ 7.26337140e-01, -2.31185881e-01],\n",
       "       [-7.91592424e-01, -1.65553219e-02],\n",
       "       [ 4.39666794e-01,  3.74049336e-02],\n",
       "       [-2.66630687e-01, -4.54841080e-02],\n",
       "       [-8.77131636e-01,  8.39045636e-02],\n",
       "       [-6.37447634e-01, -1.26191453e-01],\n",
       "       [-7.72982393e-01, -1.80436148e-01],\n",
       "       [-1.04616382e+00, -2.70917422e-01],\n",
       "       [ 1.15209837e+00,  1.70296296e-01],\n",
       "       [-5.26661400e-02,  2.53435288e-01],\n",
       "       [-9.74296354e-01,  1.59299503e-01],\n",
       "       [-6.24348505e-01,  2.99999965e-02],\n",
       "       [-1.00475074e+00, -6.19074182e-02],\n",
       "       [ 5.89973268e-01, -7.11873850e-02],\n",
       "       [ 1.50344054e+00,  2.49410266e-01],\n",
       "       [ 1.27433349e+00, -1.35521726e-02],\n",
       "       [-1.25658172e+00, -3.83491260e-02],\n",
       "       [ 1.37852445e-01, -2.90514917e-02],\n",
       "       [-1.36126475e+00, -2.11338817e-02],\n",
       "       [ 7.27518820e-01,  7.13551004e-03],\n",
       "       [ 4.50501231e-01,  2.09969271e-02],\n",
       "       [-1.17577071e-01, -6.02107305e-03],\n",
       "       [-8.49638130e-01,  3.70494278e-03],\n",
       "       [-9.51657336e-02, -9.32144273e-03],\n",
       "       [-1.81175961e-01,  8.87826210e-03],\n",
       "       [ 2.81596080e-01,  1.07511673e-01],\n",
       "       [-2.56560634e-01, -2.81842071e-02],\n",
       "       [ 8.52804745e-01, -5.63254552e-02],\n",
       "       [-4.77688980e-01, -1.35849029e-01],\n",
       "       [-2.96471868e-01, -1.58417778e-01],\n",
       "       [ 1.68108524e-03, -1.32621236e-02],\n",
       "       [-2.05727542e-01,  9.02947875e-02],\n",
       "       [ 8.12610001e-01,  6.90986331e-02],\n",
       "       [-7.06157363e-02, -4.72508076e-02],\n",
       "       [ 2.31690062e-01, -1.02421889e-02],\n",
       "       [-1.59605923e-01,  8.23272207e-02],\n",
       "       [-5.98727081e-01,  4.72125782e-02],\n",
       "       [ 1.01944512e+00,  5.31196102e-02],\n",
       "       [-7.01462226e-01, -5.21123677e-02],\n",
       "       [-1.40420099e+00,  1.76954830e-01],\n",
       "       [ 6.94997907e-01, -2.24640259e-01],\n",
       "       [ 5.18636606e-01, -8.09180525e-02],\n",
       "       [ 4.83061626e-01, -1.09408815e-01],\n",
       "       [ 6.79198052e-01,  1.51173114e-01],\n",
       "       [-1.30170017e+00,  7.09063876e-02],\n",
       "       [-2.71805220e-01, -8.58900888e-02],\n",
       "       [ 9.47603686e-01,  1.11545123e-01],\n",
       "       [-3.49630397e-01,  8.16807591e-02],\n",
       "       [ 4.85113462e-01, -1.88841298e-02],\n",
       "       [-3.04715098e-01,  2.57745706e-01],\n",
       "       [-3.31839520e-01, -1.33854420e-02],\n",
       "       [-1.38578436e+00, -3.31971953e-02],\n",
       "       [ 8.84502948e-01,  1.00276096e-01],\n",
       "       [-2.47084475e+00,  1.14843232e-01],\n",
       "       [-9.56899804e-02,  2.34825376e-01],\n",
       "       [-4.64806358e-01,  5.21249428e-02],\n",
       "       [ 7.06669625e-01,  2.33625162e-01],\n",
       "       [ 1.54312708e-01, -1.74122263e-01],\n",
       "       [ 5.45819213e-01, -8.34943531e-02],\n",
       "       [ 1.46023727e-01,  1.15988548e-02],\n",
       "       [ 9.57253276e-01,  8.20885098e-02],\n",
       "       [-6.91815248e-01, -1.45754887e-01],\n",
       "       [-1.00443516e-01, -2.94833747e-01],\n",
       "       [ 2.77924488e-01,  2.99615388e-01],\n",
       "       [-1.20207491e+00, -1.07726832e-01],\n",
       "       [-6.04953108e-02, -2.42479229e-01],\n",
       "       [-1.03273685e+00,  2.68126535e-02],\n",
       "       [ 6.88215760e-01,  1.67472633e-01],\n",
       "       [-1.21050656e+00, -4.69504001e-02],\n",
       "       [-2.40052449e-01,  6.10344465e-02],\n",
       "       [-6.06855334e-01,  1.52362015e-01],\n",
       "       [ 1.29217575e+00,  1.34627645e-01],\n",
       "       [-1.03282074e-01, -6.57356874e-02],\n",
       "       [-1.41361475e+00, -2.28323173e-02],\n",
       "       [ 7.57783205e-01,  7.00756512e-02],\n",
       "       [ 1.41360423e+00, -1.55883244e-01],\n",
       "       [ 1.99564613e+00,  7.67233940e-02],\n",
       "       [ 1.66865955e+00, -2.17311439e-01],\n",
       "       [ 1.66032125e+00, -9.47319393e-02],\n",
       "       [ 4.24742508e-01,  2.03171071e-02],\n",
       "       [-9.26445715e-01,  9.12224833e-02],\n",
       "       [ 3.28504629e-02, -1.25706416e-01],\n",
       "       [-5.17521702e-01, -7.20956324e-02],\n",
       "       [-9.24887775e-02, -6.30062621e-02],\n",
       "       [-3.05962249e-02, -3.57199779e-03],\n",
       "       [ 1.30795754e-01, -4.00179911e-03],\n",
       "       [-7.74659629e-02, -7.83158849e-02],\n",
       "       [-4.20826569e-01,  5.54588300e-03],\n",
       "       [ 6.78334448e-01, -1.36015287e-01],\n",
       "       [-6.35104074e-01,  1.06651554e-01],\n",
       "       [ 2.72075594e-01,  3.93203001e-01],\n",
       "       [-2.26801066e-01, -1.36909181e-01],\n",
       "       [-1.45908094e+00, -2.45286954e-01],\n",
       "       [ 4.03275391e-01, -7.98143251e-02],\n",
       "       [ 4.88618199e-01,  2.35232561e-03],\n",
       "       [-3.77797862e-02,  4.11805137e-02],\n",
       "       [ 2.25514691e-01,  2.18823208e-02],\n",
       "       [ 3.73320407e-01, -9.42631804e-03],\n",
       "       [ 9.96559672e-01,  1.35680064e-01],\n",
       "       [ 6.68655132e-01,  5.84565987e-02],\n",
       "       [-3.09207055e-01,  1.97249840e-01],\n",
       "       [ 1.44746288e+00, -1.14083649e-01],\n",
       "       [-1.27674147e-01,  7.26979511e-02],\n",
       "       [ 1.95898129e-02, -6.44892347e-02],\n",
       "       [-4.68331172e-01,  7.43248455e-02],\n",
       "       [-7.59794861e-01, -9.50500102e-02],\n",
       "       [ 2.11566325e+00, -1.50228254e-01],\n",
       "       [-1.28843614e+00, -2.56574123e-01],\n",
       "       [ 5.24455206e-01,  2.90379472e-01],\n",
       "       [ 2.68082969e-01,  1.04520533e-01],\n",
       "       [ 4.06271559e-02, -1.31461762e-01],\n",
       "       [-1.63087335e+00, -2.89691466e-01],\n",
       "       [ 4.50273668e-01,  2.87481726e-02],\n",
       "       [-1.41736985e+00,  9.84653747e-02],\n",
       "       [-3.20579341e-01,  7.34129168e-02],\n",
       "       [-2.16095416e+00, -6.30801894e-02],\n",
       "       [ 7.55938440e-01,  1.58567217e-02],\n",
       "       [ 1.13147728e+00, -1.63990641e-01],\n",
       "       [-4.01022769e-01,  9.35581760e-02],\n",
       "       [-1.33261395e-01,  2.30758543e-01],\n",
       "       [-1.20765775e-01, -2.63426989e-02],\n",
       "       [ 1.03185993e+00, -1.29167415e-01],\n",
       "       [-1.29878689e-01, -1.84090463e-01],\n",
       "       [-4.08011754e-01,  6.01636158e-02],\n",
       "       [ 4.17084437e-01,  9.04137707e-02],\n",
       "       [-1.00930809e-01, -6.78582909e-02],\n",
       "       [ 7.22839507e-02, -2.66653403e-02],\n",
       "       [ 6.47903117e-01, -6.91638080e-02],\n",
       "       [ 4.74689466e-01, -1.14557938e-03],\n",
       "       [ 6.85499472e-01, -2.13675563e-01],\n",
       "       [-1.49366216e+00,  5.05889730e-02],\n",
       "       [-3.49297457e-01, -2.69159245e-01],\n",
       "       [-7.79713261e-01, -1.13958001e-01],\n",
       "       [ 5.67446775e-01, -1.25273441e-01],\n",
       "       [ 5.18831382e-02,  2.76513979e-01],\n",
       "       [ 1.25350822e+00, -1.59067690e-01],\n",
       "       [-8.53016941e-01,  2.26324489e-03],\n",
       "       [-2.61547685e-01, -9.79084715e-02],\n",
       "       [-2.02667441e+00, -2.51066183e-02],\n",
       "       [ 1.20688282e+00,  5.97125713e-03],\n",
       "       [-3.53816725e-01, -9.42400167e-02]])"
      ]
     },
     "execution_count": 16,
     "metadata": {},
     "output_type": "execute_result"
    }
   ],
   "source": [
    "pca.transform(X)"
   ]
  },
  {
   "cell_type": "code",
   "execution_count": 17,
   "metadata": {
    "ExecuteTime": {
     "end_time": "2020-04-20T19:08:04.070213Z",
     "start_time": "2020-04-20T19:08:04.066233Z"
    }
   },
   "outputs": [],
   "source": [
    "pc1 = pca.transform(X)[:,0]\n",
    "pc2 = pca.transform(X)[:,1]"
   ]
  },
  {
   "cell_type": "code",
   "execution_count": 18,
   "metadata": {
    "ExecuteTime": {
     "end_time": "2020-04-20T19:08:40.163342Z",
     "start_time": "2020-04-20T19:08:39.784328Z"
    }
   },
   "outputs": [
    {
     "name": "stdout",
     "output_type": "stream",
     "text": [
      "[ 0.03351168 -0.00408072] [-2.4406829  -0.86497833]\n",
      "[ 0.03351168 -0.00408072] [-0.10050192  0.38107044]\n",
      "[0 0] [ 2.61969149e+00 -1.60409840e-16]\n",
      "[0 0] [4.99411294e-17 4.07800269e-01]\n"
     ]
    },
    {
     "data": {
      "image/png": "[encoded data removed]",
      "text/plain": [
       "<Figure size 1152x432 with 2 Axes>"
      ]
     },
     "metadata": {
      "needs_background": "light"
     },
     "output_type": "display_data"
    }
   ],
   "source": [
    "# plot data\n",
    "\n",
    "fig, (ax1, ax2) = plt.subplots(1, 2, figsize=(16,6))\n",
    "\n",
    "ax1.scatter(X[:, 0], X[:, 1], alpha=0.2)\n",
    "\n",
    "for length, vector in zip(pca.explained_variance_, pca.components_):\n",
    "    v = vector * 3 * np.sqrt(length)\n",
    "    draw_vector(pca.mean_, pca.mean_ + v, ax=ax1)\n",
    "ax1.set_ylim([-2,2])\n",
    "\n",
    "\n",
    "ax2.scatter(pc1, pc2, alpha=0.2, )\n",
    "count = 0\n",
    "for length, vector in zip(pca.explained_variance_, pca.components_):\n",
    "    v = vector * 3 * np.sqrt(length)\n",
    "    count += np.pi/2\n",
    "    draw_vector(np.array([0, 0]) , np.array([np.sin(count) * np.sqrt(length) * 3, -np.cos(count) * np.sqrt(length) * 3]) , ax=ax2)\n",
    "    \n",
    "ax1.set_xlabel('$X_1$')\n",
    "ax1.set_ylabel('$X_2$')\n",
    "\n",
    "ax2.set_xlabel('$PC_1$')\n",
    "ax2.set_ylabel('$PC_2$')\n",
    "plt.axis('equal');"
   ]
  },
  {
   "cell_type": "markdown",
   "metadata": {},
   "source": [
    "So what the PCA has done was effectively rotate the original features into a new dimension that was more suitable. Now, you have at the x-axis a variable that contains most of the information, and at the y-axis a variable that contains the following most information (although in this case it is so small)."
   ]
  },
  {
   "cell_type": "markdown",
   "metadata": {},
   "source": [
    "# Applications"
   ]
  },
  {
   "cell_type": "markdown",
   "metadata": {
    "colab_type": "text",
    "id": "JeFmpNzxSNLi"
   },
   "source": [
    "## PCA as dimensionality reduction\n",
    "\n",
    "Example of using PCA as a dimensionality reduction transform: Instead of creating a PCA of two components, we observed we could have created a PCA with only 1 component, and it would still have 97% of our information within. Let's visualize it."
   ]
  },
  {
   "cell_type": "code",
   "execution_count": 52,
   "metadata": {},
   "outputs": [
    {
     "data": {
      "text/html": [
       "<div>\n",
       "<style scoped>\n",
       "    .dataframe tbody tr th:only-of-type {\n",
       "        vertical-align: middle;\n",
       "    }\n",
       "\n",
       "    .dataframe tbody tr th {\n",
       "        vertical-align: top;\n",
       "    }\n",
       "\n",
       "    .dataframe thead th {\n",
       "        text-align: right;\n",
       "    }\n",
       "</style>\n",
       "<table border=\"1\" class=\"dataframe\">\n",
       "  <thead>\n",
       "    <tr style=\"text-align: right;\">\n",
       "      <th></th>\n",
       "      <th>sepal length (cm)</th>\n",
       "      <th>sepal width (cm)</th>\n",
       "      <th>petal length (cm)</th>\n",
       "      <th>petal width (cm)</th>\n",
       "    </tr>\n",
       "  </thead>\n",
       "  <tbody>\n",
       "    <tr>\n",
       "      <th>0</th>\n",
       "      <td>5.1</td>\n",
       "      <td>3.5</td>\n",
       "      <td>1.4</td>\n",
       "      <td>0.2</td>\n",
       "    </tr>\n",
       "    <tr>\n",
       "      <th>1</th>\n",
       "      <td>4.9</td>\n",
       "      <td>3.0</td>\n",
       "      <td>1.4</td>\n",
       "      <td>0.2</td>\n",
       "    </tr>\n",
       "    <tr>\n",
       "      <th>2</th>\n",
       "      <td>4.7</td>\n",
       "      <td>3.2</td>\n",
       "      <td>1.3</td>\n",
       "      <td>0.2</td>\n",
       "    </tr>\n",
       "    <tr>\n",
       "      <th>3</th>\n",
       "      <td>4.6</td>\n",
       "      <td>3.1</td>\n",
       "      <td>1.5</td>\n",
       "      <td>0.2</td>\n",
       "    </tr>\n",
       "    <tr>\n",
       "      <th>4</th>\n",
       "      <td>5.0</td>\n",
       "      <td>3.6</td>\n",
       "      <td>1.4</td>\n",
       "      <td>0.2</td>\n",
       "    </tr>\n",
       "    <tr>\n",
       "      <th>...</th>\n",
       "      <td>...</td>\n",
       "      <td>...</td>\n",
       "      <td>...</td>\n",
       "      <td>...</td>\n",
       "    </tr>\n",
       "    <tr>\n",
       "      <th>145</th>\n",
       "      <td>6.7</td>\n",
       "      <td>3.0</td>\n",
       "      <td>5.2</td>\n",
       "      <td>2.3</td>\n",
       "    </tr>\n",
       "    <tr>\n",
       "      <th>146</th>\n",
       "      <td>6.3</td>\n",
       "      <td>2.5</td>\n",
       "      <td>5.0</td>\n",
       "      <td>1.9</td>\n",
       "    </tr>\n",
       "    <tr>\n",
       "      <th>147</th>\n",
       "      <td>6.5</td>\n",
       "      <td>3.0</td>\n",
       "      <td>5.2</td>\n",
       "      <td>2.0</td>\n",
       "    </tr>\n",
       "    <tr>\n",
       "      <th>148</th>\n",
       "      <td>6.2</td>\n",
       "      <td>3.4</td>\n",
       "      <td>5.4</td>\n",
       "      <td>2.3</td>\n",
       "    </tr>\n",
       "    <tr>\n",
       "      <th>149</th>\n",
       "      <td>5.9</td>\n",
       "      <td>3.0</td>\n",
       "      <td>5.1</td>\n",
       "      <td>1.8</td>\n",
       "    </tr>\n",
       "  </tbody>\n",
       "</table>\n",
       "<p>150 rows × 4 columns</p>\n",
       "</div>"
      ],
      "text/plain": [
       "     sepal length (cm)  sepal width (cm)  petal length (cm)  petal width (cm)\n",
       "0                  5.1               3.5                1.4               0.2\n",
       "1                  4.9               3.0                1.4               0.2\n",
       "2                  4.7               3.2                1.3               0.2\n",
       "3                  4.6               3.1                1.5               0.2\n",
       "4                  5.0               3.6                1.4               0.2\n",
       "..                 ...               ...                ...               ...\n",
       "145                6.7               3.0                5.2               2.3\n",
       "146                6.3               2.5                5.0               1.9\n",
       "147                6.5               3.0                5.2               2.0\n",
       "148                6.2               3.4                5.4               2.3\n",
       "149                5.9               3.0                5.1               1.8\n",
       "\n",
       "[150 rows x 4 columns]"
      ]
     },
     "execution_count": 52,
     "metadata": {},
     "output_type": "execute_result"
    }
   ],
   "source": [
    "X"
   ]
  },
  {
   "cell_type": "code",
   "execution_count": 19,
   "metadata": {
    "ExecuteTime": {
     "end_time": "2020-05-16T14:55:13.799279Z",
     "start_time": "2020-05-16T14:55:13.793296Z"
    },
    "colab": {},
    "colab_type": "code",
    "id": "bAr3Q4nxSNLj",
    "outputId": "8b1df0aa-2d47-40c5-fb8b-2ad5cf584baa"
   },
   "outputs": [
    {
     "name": "stdout",
     "output_type": "stream",
     "text": [
      "original shape:    (200, 2)\n",
      "transformed shape: (200, 1)\n"
     ]
    }
   ],
   "source": [
    "pca = PCA(n_components=1)\n",
    "pca.fit(X)\n",
    "X_pca = pca.transform(X)\n",
    "print(\"original shape:   \", X.shape)\n",
    "print(\"transformed shape:\", X_pca.shape)"
   ]
  },
  {
   "cell_type": "code",
   "execution_count": 20,
   "metadata": {
    "ExecuteTime": {
     "end_time": "2020-05-16T14:55:19.970646Z",
     "start_time": "2020-05-16T14:55:19.964662Z"
    }
   },
   "outputs": [
    {
     "data": {
      "text/plain": [
       "array([[ 6.76769235e-01],\n",
       "       [-1.07121393e+00],\n",
       "       [ 7.27912364e-01],\n",
       "       [ 2.30964136e+00],\n",
       "       [ 6.30052323e-01],\n",
       "       [ 1.02448887e+00],\n",
       "       [ 7.77183507e-01],\n",
       "       [-1.39656414e+00],\n",
       "       [-2.91049874e-01],\n",
       "       [ 1.88864221e+00],\n",
       "       [-7.11544293e-01],\n",
       "       [ 6.38884130e-01],\n",
       "       [ 5.48059617e-01],\n",
       "       [-2.19312436e-01],\n",
       "       [-3.87789490e-01],\n",
       "       [ 7.15219956e-01],\n",
       "       [-1.08373816e+00],\n",
       "       [-2.99917403e-01],\n",
       "       [-7.96849021e-01],\n",
       "       [-8.12568346e-01],\n",
       "       [-1.54018281e+00],\n",
       "       [-2.52920476e-01],\n",
       "       [ 6.26464454e-01],\n",
       "       [-1.61007571e+00],\n",
       "       [ 5.04240563e-01],\n",
       "       [ 5.53935753e-01],\n",
       "       [ 6.81911252e-01],\n",
       "       [-2.00157228e-02],\n",
       "       [ 1.13550833e-01],\n",
       "       [ 2.92286085e-02],\n",
       "       [-2.14393483e-01],\n",
       "       [-1.03406124e+00],\n",
       "       [ 3.88635004e-01],\n",
       "       [ 9.96727811e-01],\n",
       "       [ 1.39223653e+00],\n",
       "       [ 4.57043694e-01],\n",
       "       [ 6.81839901e-01],\n",
       "       [-9.05233246e-01],\n",
       "       [ 4.94316334e-01],\n",
       "       [ 6.22411280e-01],\n",
       "       [ 3.26088548e-01],\n",
       "       [ 4.52560386e-01],\n",
       "       [ 6.81840663e-01],\n",
       "       [-2.44832816e-01],\n",
       "       [-5.27149562e-01],\n",
       "       [-4.51448737e-01],\n",
       "       [-1.42864453e+00],\n",
       "       [ 8.05233004e-01],\n",
       "       [ 1.81049742e-01],\n",
       "       [ 3.49039347e-01],\n",
       "       [ 2.65803583e+00],\n",
       "       [-1.34272221e+00],\n",
       "       [-1.73026340e-01],\n",
       "       [ 6.13676729e-01],\n",
       "       [-1.89940741e+00],\n",
       "       [-7.93074429e-01],\n",
       "       [-4.17072486e-01],\n",
       "       [ 1.54913526e-01],\n",
       "       [ 2.44646603e-01],\n",
       "       [ 7.26337140e-01],\n",
       "       [-7.91592424e-01],\n",
       "       [ 4.39666794e-01],\n",
       "       [-2.66630687e-01],\n",
       "       [-8.77131636e-01],\n",
       "       [-6.37447634e-01],\n",
       "       [-7.72982393e-01],\n",
       "       [-1.04616382e+00],\n",
       "       [ 1.15209837e+00],\n",
       "       [-5.26661400e-02],\n",
       "       [-9.74296354e-01],\n",
       "       [-6.24348505e-01],\n",
       "       [-1.00475074e+00],\n",
       "       [ 5.89973268e-01],\n",
       "       [ 1.50344054e+00],\n",
       "       [ 1.27433349e+00],\n",
       "       [-1.25658172e+00],\n",
       "       [ 1.37852445e-01],\n",
       "       [-1.36126475e+00],\n",
       "       [ 7.27518820e-01],\n",
       "       [ 4.50501231e-01],\n",
       "       [-1.17577071e-01],\n",
       "       [-8.49638130e-01],\n",
       "       [-9.51657336e-02],\n",
       "       [-1.81175961e-01],\n",
       "       [ 2.81596080e-01],\n",
       "       [-2.56560634e-01],\n",
       "       [ 8.52804745e-01],\n",
       "       [-4.77688980e-01],\n",
       "       [-2.96471868e-01],\n",
       "       [ 1.68108524e-03],\n",
       "       [-2.05727542e-01],\n",
       "       [ 8.12610001e-01],\n",
       "       [-7.06157363e-02],\n",
       "       [ 2.31690062e-01],\n",
       "       [-1.59605923e-01],\n",
       "       [-5.98727081e-01],\n",
       "       [ 1.01944512e+00],\n",
       "       [-7.01462226e-01],\n",
       "       [-1.40420099e+00],\n",
       "       [ 6.94997907e-01],\n",
       "       [ 5.18636606e-01],\n",
       "       [ 4.83061626e-01],\n",
       "       [ 6.79198052e-01],\n",
       "       [-1.30170017e+00],\n",
       "       [-2.71805220e-01],\n",
       "       [ 9.47603686e-01],\n",
       "       [-3.49630397e-01],\n",
       "       [ 4.85113462e-01],\n",
       "       [-3.04715098e-01],\n",
       "       [-3.31839520e-01],\n",
       "       [-1.38578436e+00],\n",
       "       [ 8.84502948e-01],\n",
       "       [-2.47084475e+00],\n",
       "       [-9.56899804e-02],\n",
       "       [-4.64806358e-01],\n",
       "       [ 7.06669625e-01],\n",
       "       [ 1.54312708e-01],\n",
       "       [ 5.45819213e-01],\n",
       "       [ 1.46023727e-01],\n",
       "       [ 9.57253276e-01],\n",
       "       [-6.91815248e-01],\n",
       "       [-1.00443516e-01],\n",
       "       [ 2.77924488e-01],\n",
       "       [-1.20207491e+00],\n",
       "       [-6.04953108e-02],\n",
       "       [-1.03273685e+00],\n",
       "       [ 6.88215760e-01],\n",
       "       [-1.21050656e+00],\n",
       "       [-2.40052449e-01],\n",
       "       [-6.06855334e-01],\n",
       "       [ 1.29217575e+00],\n",
       "       [-1.03282074e-01],\n",
       "       [-1.41361475e+00],\n",
       "       [ 7.57783205e-01],\n",
       "       [ 1.41360423e+00],\n",
       "       [ 1.99564613e+00],\n",
       "       [ 1.66865955e+00],\n",
       "       [ 1.66032125e+00],\n",
       "       [ 4.24742508e-01],\n",
       "       [-9.26445715e-01],\n",
       "       [ 3.28504629e-02],\n",
       "       [-5.17521702e-01],\n",
       "       [-9.24887775e-02],\n",
       "       [-3.05962249e-02],\n",
       "       [ 1.30795754e-01],\n",
       "       [-7.74659629e-02],\n",
       "       [-4.20826569e-01],\n",
       "       [ 6.78334448e-01],\n",
       "       [-6.35104074e-01],\n",
       "       [ 2.72075594e-01],\n",
       "       [-2.26801066e-01],\n",
       "       [-1.45908094e+00],\n",
       "       [ 4.03275391e-01],\n",
       "       [ 4.88618199e-01],\n",
       "       [-3.77797862e-02],\n",
       "       [ 2.25514691e-01],\n",
       "       [ 3.73320407e-01],\n",
       "       [ 9.96559672e-01],\n",
       "       [ 6.68655132e-01],\n",
       "       [-3.09207055e-01],\n",
       "       [ 1.44746288e+00],\n",
       "       [-1.27674147e-01],\n",
       "       [ 1.95898129e-02],\n",
       "       [-4.68331172e-01],\n",
       "       [-7.59794861e-01],\n",
       "       [ 2.11566325e+00],\n",
       "       [-1.28843614e+00],\n",
       "       [ 5.24455206e-01],\n",
       "       [ 2.68082969e-01],\n",
       "       [ 4.06271559e-02],\n",
       "       [-1.63087335e+00],\n",
       "       [ 4.50273668e-01],\n",
       "       [-1.41736985e+00],\n",
       "       [-3.20579341e-01],\n",
       "       [-2.16095416e+00],\n",
       "       [ 7.55938440e-01],\n",
       "       [ 1.13147728e+00],\n",
       "       [-4.01022769e-01],\n",
       "       [-1.33261395e-01],\n",
       "       [-1.20765775e-01],\n",
       "       [ 1.03185993e+00],\n",
       "       [-1.29878689e-01],\n",
       "       [-4.08011754e-01],\n",
       "       [ 4.17084437e-01],\n",
       "       [-1.00930809e-01],\n",
       "       [ 7.22839507e-02],\n",
       "       [ 6.47903117e-01],\n",
       "       [ 4.74689466e-01],\n",
       "       [ 6.85499472e-01],\n",
       "       [-1.49366216e+00],\n",
       "       [-3.49297457e-01],\n",
       "       [-7.79713261e-01],\n",
       "       [ 5.67446775e-01],\n",
       "       [ 5.18831382e-02],\n",
       "       [ 1.25350822e+00],\n",
       "       [-8.53016941e-01],\n",
       "       [-2.61547685e-01],\n",
       "       [-2.02667441e+00],\n",
       "       [ 1.20688282e+00],\n",
       "       [-3.53816725e-01]])"
      ]
     },
     "execution_count": 20,
     "metadata": {},
     "output_type": "execute_result"
    }
   ],
   "source": [
    "X_pca"
   ]
  },
  {
   "cell_type": "markdown",
   "metadata": {
    "colab_type": "text",
    "id": "MRDtUURESNLm"
   },
   "source": [
    "The transformed data has been reduced to a single dimension.\n",
    "To understand the effect of this dimensionality reduction, we can perform the inverse transform of this reduced data and plot it along with the original data:"
   ]
  },
  {
   "cell_type": "code",
   "execution_count": 21,
   "metadata": {
    "ExecuteTime": {
     "end_time": "2020-05-16T14:57:16.306136Z",
     "start_time": "2020-05-16T14:57:16.302147Z"
    }
   },
   "outputs": [],
   "source": [
    "X_new = pca.inverse_transform(X_pca)"
   ]
  },
  {
   "cell_type": "code",
   "execution_count": 22,
   "metadata": {
    "ExecuteTime": {
     "end_time": "2020-04-20T19:21:31.386823Z",
     "start_time": "2020-04-20T19:21:31.382834Z"
    }
   },
   "outputs": [
    {
     "data": {
      "text/plain": [
       "(200, 2)"
      ]
     },
     "execution_count": 22,
     "metadata": {},
     "output_type": "execute_result"
    }
   ],
   "source": [
    "X_new.shape"
   ]
  },
  {
   "cell_type": "code",
   "execution_count": 23,
   "metadata": {
    "ExecuteTime": {
     "end_time": "2020-04-20T19:22:03.856922Z",
     "start_time": "2020-04-20T19:22:03.741233Z"
    },
    "colab": {},
    "colab_type": "code",
    "id": "xlT3haa_SNLn",
    "outputId": "3412be12-22a2-4978-e9c9-a09d0c0fec3f"
   },
   "outputs": [
    {
     "data": {
      "text/plain": [
       "<matplotlib.legend.Legend at 0x1c317b83580>"
      ]
     },
     "execution_count": 23,
     "metadata": {},
     "output_type": "execute_result"
    },
    {
     "data": {
      "image/png": "[encoded data removed]",
      "text/plain": [
       "<Figure size 432x288 with 1 Axes>"
      ]
     },
     "metadata": {
      "needs_background": "light"
     },
     "output_type": "display_data"
    }
   ],
   "source": [
    "\n",
    "plt.scatter(X[:, 0], X[:, 1], alpha=0.2)\n",
    "plt.scatter(X_new[:, 0], X_new[:, 1], alpha=0.8, s=8, c='k')\n",
    "plt.axis('equal');\n",
    "plt.legend(['Original data','Transformed Data'])"
   ]
  },
  {
   "cell_type": "markdown",
   "metadata": {},
   "source": [
    "The light points are the original data, while the dark points are the projected version."
   ]
  },
  {
   "cell_type": "markdown",
   "metadata": {
    "colab_type": "text",
    "id": "LIZGRbv8SNLp"
   },
   "source": [
    "The information along the least important principal axis or axes is removed, leaving only the component(s) of the data with the highest variance.\n",
    "The fraction of variance that is cut out (proportional to the spread of points about the line formed in this figure) is roughly a measure of how much \"information\" is discarded in this reduction of dimensionality.\n",
    "\n",
    "This reduced-dimension dataset is in some senses \"good enough\" to encode the most important relationships between the points: despite reducing the dimension of the data by 50%, the overall relationship between the data points are mostly preserved."
   ]
  },
  {
   "cell_type": "code",
   "execution_count": 24,
   "metadata": {
    "ExecuteTime": {
     "end_time": "2020-04-20T19:26:58.110808Z",
     "start_time": "2020-04-20T19:26:58.107787Z"
    }
   },
   "outputs": [
    {
     "data": {
      "text/plain": [
       "array([0.97634101])"
      ]
     },
     "execution_count": 24,
     "metadata": {},
     "output_type": "execute_result"
    }
   ],
   "source": [
    "pca.explained_variance_ratio_"
   ]
  },
  {
   "cell_type": "markdown",
   "metadata": {},
   "source": [
    "Of course, real life applications will contain much more columns to reduce from. "
   ]
  },
  {
   "cell_type": "markdown",
   "metadata": {},
   "source": [
    "### PCA for visualization: Iris Dataset"
   ]
  },
  {
   "cell_type": "code",
   "execution_count": 25,
   "metadata": {
    "ExecuteTime": {
     "end_time": "2020-05-16T15:07:45.227522Z",
     "start_time": "2020-05-16T15:07:45.177272Z"
    }
   },
   "outputs": [],
   "source": [
    "from sklearn.datasets import load_iris"
   ]
  },
  {
   "cell_type": "code",
   "execution_count": 26,
   "metadata": {
    "ExecuteTime": {
     "end_time": "2020-05-16T15:08:32.089429Z",
     "start_time": "2020-05-16T15:08:32.079456Z"
    }
   },
   "outputs": [
    {
     "data": {
      "text/plain": [
       "{'data': array([[5.1, 3.5, 1.4, 0.2],\n",
       "        [4.9, 3. , 1.4, 0.2],\n",
       "        [4.7, 3.2, 1.3, 0.2],\n",
       "        [4.6, 3.1, 1.5, 0.2],\n",
       "        [5. , 3.6, 1.4, 0.2],\n",
       "        [5.4, 3.9, 1.7, 0.4],\n",
       "        [4.6, 3.4, 1.4, 0.3],\n",
       "        [5. , 3.4, 1.5, 0.2],\n",
       "        [4.4, 2.9, 1.4, 0.2],\n",
       "        [4.9, 3.1, 1.5, 0.1],\n",
       "        [5.4, 3.7, 1.5, 0.2],\n",
       "        [4.8, 3.4, 1.6, 0.2],\n",
       "        [4.8, 3. , 1.4, 0.1],\n",
       "        [4.3, 3. , 1.1, 0.1],\n",
       "        [5.8, 4. , 1.2, 0.2],\n",
       "        [5.7, 4.4, 1.5, 0.4],\n",
       "        [5.4, 3.9, 1.3, 0.4],\n",
       "        [5.1, 3.5, 1.4, 0.3],\n",
       "        [5.7, 3.8, 1.7, 0.3],\n",
       "        [5.1, 3.8, 1.5, 0.3],\n",
       "        [5.4, 3.4, 1.7, 0.2],\n",
       "        [5.1, 3.7, 1.5, 0.4],\n",
       "        [4.6, 3.6, 1. , 0.2],\n",
       "        [5.1, 3.3, 1.7, 0.5],\n",
       "        [4.8, 3.4, 1.9, 0.2],\n",
       "        [5. , 3. , 1.6, 0.2],\n",
       "        [5. , 3.4, 1.6, 0.4],\n",
       "        [5.2, 3.5, 1.5, 0.2],\n",
       "        [5.2, 3.4, 1.4, 0.2],\n",
       "        [4.7, 3.2, 1.6, 0.2],\n",
       "        [4.8, 3.1, 1.6, 0.2],\n",
       "        [5.4, 3.4, 1.5, 0.4],\n",
       "        [5.2, 4.1, 1.5, 0.1],\n",
       "        [5.5, 4.2, 1.4, 0.2],\n",
       "        [4.9, 3.1, 1.5, 0.2],\n",
       "        [5. , 3.2, 1.2, 0.2],\n",
       "        [5.5, 3.5, 1.3, 0.2],\n",
       "        [4.9, 3.6, 1.4, 0.1],\n",
       "        [4.4, 3. , 1.3, 0.2],\n",
       "        [5.1, 3.4, 1.5, 0.2],\n",
       "        [5. , 3.5, 1.3, 0.3],\n",
       "        [4.5, 2.3, 1.3, 0.3],\n",
       "        [4.4, 3.2, 1.3, 0.2],\n",
       "        [5. , 3.5, 1.6, 0.6],\n",
       "        [5.1, 3.8, 1.9, 0.4],\n",
       "        [4.8, 3. , 1.4, 0.3],\n",
       "        [5.1, 3.8, 1.6, 0.2],\n",
       "        [4.6, 3.2, 1.4, 0.2],\n",
       "        [5.3, 3.7, 1.5, 0.2],\n",
       "        [5. , 3.3, 1.4, 0.2],\n",
       "        [7. , 3.2, 4.7, 1.4],\n",
       "        [6.4, 3.2, 4.5, 1.5],\n",
       "        [6.9, 3.1, 4.9, 1.5],\n",
       "        [5.5, 2.3, 4. , 1.3],\n",
       "        [6.5, 2.8, 4.6, 1.5],\n",
       "        [5.7, 2.8, 4.5, 1.3],\n",
       "        [6.3, 3.3, 4.7, 1.6],\n",
       "        [4.9, 2.4, 3.3, 1. ],\n",
       "        [6.6, 2.9, 4.6, 1.3],\n",
       "        [5.2, 2.7, 3.9, 1.4],\n",
       "        [5. , 2. , 3.5, 1. ],\n",
       "        [5.9, 3. , 4.2, 1.5],\n",
       "        [6. , 2.2, 4. , 1. ],\n",
       "        [6.1, 2.9, 4.7, 1.4],\n",
       "        [5.6, 2.9, 3.6, 1.3],\n",
       "        [6.7, 3.1, 4.4, 1.4],\n",
       "        [5.6, 3. , 4.5, 1.5],\n",
       "        [5.8, 2.7, 4.1, 1. ],\n",
       "        [6.2, 2.2, 4.5, 1.5],\n",
       "        [5.6, 2.5, 3.9, 1.1],\n",
       "        [5.9, 3.2, 4.8, 1.8],\n",
       "        [6.1, 2.8, 4. , 1.3],\n",
       "        [6.3, 2.5, 4.9, 1.5],\n",
       "        [6.1, 2.8, 4.7, 1.2],\n",
       "        [6.4, 2.9, 4.3, 1.3],\n",
       "        [6.6, 3. , 4.4, 1.4],\n",
       "        [6.8, 2.8, 4.8, 1.4],\n",
       "        [6.7, 3. , 5. , 1.7],\n",
       "        [6. , 2.9, 4.5, 1.5],\n",
       "        [5.7, 2.6, 3.5, 1. ],\n",
       "        [5.5, 2.4, 3.8, 1.1],\n",
       "        [5.5, 2.4, 3.7, 1. ],\n",
       "        [5.8, 2.7, 3.9, 1.2],\n",
       "        [6. , 2.7, 5.1, 1.6],\n",
       "        [5.4, 3. , 4.5, 1.5],\n",
       "        [6. , 3.4, 4.5, 1.6],\n",
       "        [6.7, 3.1, 4.7, 1.5],\n",
       "        [6.3, 2.3, 4.4, 1.3],\n",
       "        [5.6, 3. , 4.1, 1.3],\n",
       "        [5.5, 2.5, 4. , 1.3],\n",
       "        [5.5, 2.6, 4.4, 1.2],\n",
       "        [6.1, 3. , 4.6, 1.4],\n",
       "        [5.8, 2.6, 4. , 1.2],\n",
       "        [5. , 2.3, 3.3, 1. ],\n",
       "        [5.6, 2.7, 4.2, 1.3],\n",
       "        [5.7, 3. , 4.2, 1.2],\n",
       "        [5.7, 2.9, 4.2, 1.3],\n",
       "        [6.2, 2.9, 4.3, 1.3],\n",
       "        [5.1, 2.5, 3. , 1.1],\n",
       "        [5.7, 2.8, 4.1, 1.3],\n",
       "        [6.3, 3.3, 6. , 2.5],\n",
       "        [5.8, 2.7, 5.1, 1.9],\n",
       "        [7.1, 3. , 5.9, 2.1],\n",
       "        [6.3, 2.9, 5.6, 1.8],\n",
       "        [6.5, 3. , 5.8, 2.2],\n",
       "        [7.6, 3. , 6.6, 2.1],\n",
       "        [4.9, 2.5, 4.5, 1.7],\n",
       "        [7.3, 2.9, 6.3, 1.8],\n",
       "        [6.7, 2.5, 5.8, 1.8],\n",
       "        [7.2, 3.6, 6.1, 2.5],\n",
       "        [6.5, 3.2, 5.1, 2. ],\n",
       "        [6.4, 2.7, 5.3, 1.9],\n",
       "        [6.8, 3. , 5.5, 2.1],\n",
       "        [5.7, 2.5, 5. , 2. ],\n",
       "        [5.8, 2.8, 5.1, 2.4],\n",
       "        [6.4, 3.2, 5.3, 2.3],\n",
       "        [6.5, 3. , 5.5, 1.8],\n",
       "        [7.7, 3.8, 6.7, 2.2],\n",
       "        [7.7, 2.6, 6.9, 2.3],\n",
       "        [6. , 2.2, 5. , 1.5],\n",
       "        [6.9, 3.2, 5.7, 2.3],\n",
       "        [5.6, 2.8, 4.9, 2. ],\n",
       "        [7.7, 2.8, 6.7, 2. ],\n",
       "        [6.3, 2.7, 4.9, 1.8],\n",
       "        [6.7, 3.3, 5.7, 2.1],\n",
       "        [7.2, 3.2, 6. , 1.8],\n",
       "        [6.2, 2.8, 4.8, 1.8],\n",
       "        [6.1, 3. , 4.9, 1.8],\n",
       "        [6.4, 2.8, 5.6, 2.1],\n",
       "        [7.2, 3. , 5.8, 1.6],\n",
       "        [7.4, 2.8, 6.1, 1.9],\n",
       "        [7.9, 3.8, 6.4, 2. ],\n",
       "        [6.4, 2.8, 5.6, 2.2],\n",
       "        [6.3, 2.8, 5.1, 1.5],\n",
       "        [6.1, 2.6, 5.6, 1.4],\n",
       "        [7.7, 3. , 6.1, 2.3],\n",
       "        [6.3, 3.4, 5.6, 2.4],\n",
       "        [6.4, 3.1, 5.5, 1.8],\n",
       "        [6. , 3. , 4.8, 1.8],\n",
       "        [6.9, 3.1, 5.4, 2.1],\n",
       "        [6.7, 3.1, 5.6, 2.4],\n",
       "        [6.9, 3.1, 5.1, 2.3],\n",
       "        [5.8, 2.7, 5.1, 1.9],\n",
       "        [6.8, 3.2, 5.9, 2.3],\n",
       "        [6.7, 3.3, 5.7, 2.5],\n",
       "        [6.7, 3. , 5.2, 2.3],\n",
       "        [6.3, 2.5, 5. , 1.9],\n",
       "        [6.5, 3. , 5.2, 2. ],\n",
       "        [6.2, 3.4, 5.4, 2.3],\n",
       "        [5.9, 3. , 5.1, 1.8]]),\n",
       " 'target': array([0, 0, 0, 0, 0, 0, 0, 0, 0, 0, 0, 0, 0, 0, 0, 0, 0, 0, 0, 0, 0, 0,\n",
       "        0, 0, 0, 0, 0, 0, 0, 0, 0, 0, 0, 0, 0, 0, 0, 0, 0, 0, 0, 0, 0, 0,\n",
       "        0, 0, 0, 0, 0, 0, 1, 1, 1, 1, 1, 1, 1, 1, 1, 1, 1, 1, 1, 1, 1, 1,\n",
       "        1, 1, 1, 1, 1, 1, 1, 1, 1, 1, 1, 1, 1, 1, 1, 1, 1, 1, 1, 1, 1, 1,\n",
       "        1, 1, 1, 1, 1, 1, 1, 1, 1, 1, 1, 1, 2, 2, 2, 2, 2, 2, 2, 2, 2, 2,\n",
       "        2, 2, 2, 2, 2, 2, 2, 2, 2, 2, 2, 2, 2, 2, 2, 2, 2, 2, 2, 2, 2, 2,\n",
       "        2, 2, 2, 2, 2, 2, 2, 2, 2, 2, 2, 2, 2, 2, 2, 2, 2, 2]),\n",
       " 'frame': None,\n",
       " 'target_names': array(['setosa', 'versicolor', 'virginica'], dtype='<U10'),\n",
       " 'DESCR': '.. _iris_dataset:\\n\\nIris plants dataset\\n--------------------\\n\\n**Data Set Characteristics:**\\n\\n    :Number of Instances: 150 (50 in each of three classes)\\n    :Number of Attributes: 4 numeric, predictive attributes and the class\\n    :Attribute Information:\\n        - sepal length in cm\\n        - sepal width in cm\\n        - petal length in cm\\n        - petal width in cm\\n        - class:\\n                - Iris-Setosa\\n                - Iris-Versicolour\\n                - Iris-Virginica\\n                \\n    :Summary Statistics:\\n\\n    ============== ==== ==== ======= ===== ====================\\n                    Min  Max   Mean    SD   Class Correlation\\n    ============== ==== ==== ======= ===== ====================\\n    sepal length:   4.3  7.9   5.84   0.83    0.7826\\n    sepal width:    2.0  4.4   3.05   0.43   -0.4194\\n    petal length:   1.0  6.9   3.76   1.76    0.9490  (high!)\\n    petal width:    0.1  2.5   1.20   0.76    0.9565  (high!)\\n    ============== ==== ==== ======= ===== ====================\\n\\n    :Missing Attribute Values: None\\n    :Class Distribution: 33.3% for each of 3 classes.\\n    :Creator: R.A. Fisher\\n    :Donor: Michael Marshall (MARSHALL%PLU@io.arc.nasa.gov)\\n    :Date: July, 1988\\n\\nThe famous Iris database, first used by Sir R.A. Fisher. The dataset is taken\\nfrom Fisher\\'s paper. Note that it\\'s the same as in R, but not as in the UCI\\nMachine Learning Repository, which has two wrong data points.\\n\\nThis is perhaps the best known database to be found in the\\npattern recognition literature.  Fisher\\'s paper is a classic in the field and\\nis referenced frequently to this day.  (See Duda & Hart, for example.)  The\\ndata set contains 3 classes of 50 instances each, where each class refers to a\\ntype of iris plant.  One class is linearly separable from the other 2; the\\nlatter are NOT linearly separable from each other.\\n\\n.. topic:: References\\n\\n   - Fisher, R.A. \"The use of multiple measurements in taxonomic problems\"\\n     Annual Eugenics, 7, Part II, 179-188 (1936); also in \"Contributions to\\n     Mathematical Statistics\" (John Wiley, NY, 1950).\\n   - Duda, R.O., & Hart, P.E. (1973) Pattern Classification and Scene Analysis.\\n     (Q327.D83) John Wiley & Sons.  ISBN 0-471-22361-1.  See page 218.\\n   - Dasarathy, B.V. (1980) \"Nosing Around the Neighborhood: A New System\\n     Structure and Classification Rule for Recognition in Partially Exposed\\n     Environments\".  IEEE Transactions on Pattern Analysis and Machine\\n     Intelligence, Vol. PAMI-2, No. 1, 67-71.\\n   - Gates, G.W. (1972) \"The Reduced Nearest Neighbor Rule\".  IEEE Transactions\\n     on Information Theory, May 1972, 431-433.\\n   - See also: 1988 MLC Proceedings, 54-64.  Cheeseman et al\"s AUTOCLASS II\\n     conceptual clustering system finds 3 classes in the data.\\n   - Many, many more ...',\n",
       " 'feature_names': ['sepal length (cm)',\n",
       "  'sepal width (cm)',\n",
       "  'petal length (cm)',\n",
       "  'petal width (cm)'],\n",
       " 'filename': 'C:\\\\Users\\\\rodri\\\\AppData\\\\Roaming\\\\Python\\\\Python38\\\\site-packages\\\\sklearn\\\\datasets\\\\data\\\\iris.csv'}"
      ]
     },
     "execution_count": 26,
     "metadata": {},
     "output_type": "execute_result"
    }
   ],
   "source": [
    "load_iris()"
   ]
  },
  {
   "cell_type": "code",
   "execution_count": 27,
   "metadata": {
    "ExecuteTime": {
     "end_time": "2020-05-16T15:08:27.739295Z",
     "start_time": "2020-05-16T15:08:27.733338Z"
    }
   },
   "outputs": [
    {
     "data": {
      "text/plain": [
       "dict_keys(['data', 'target', 'frame', 'target_names', 'DESCR', 'feature_names', 'filename'])"
      ]
     },
     "execution_count": 27,
     "metadata": {},
     "output_type": "execute_result"
    }
   ],
   "source": [
    "load_iris().keys()"
   ]
  },
  {
   "cell_type": "code",
   "execution_count": 28,
   "metadata": {
    "ExecuteTime": {
     "end_time": "2020-04-20T19:49:30.011348Z",
     "start_time": "2020-04-20T19:49:30.006337Z"
    },
    "scrolled": true
   },
   "outputs": [
    {
     "name": "stdout",
     "output_type": "stream",
     "text": [
      ".. _iris_dataset:\n",
      "\n",
      "Iris plants dataset\n",
      "--------------------\n",
      "\n",
      "**Data Set Characteristics:**\n",
      "\n",
      "    :Number of Instances: 150 (50 in each of three classes)\n",
      "    :Number of Attributes: 4 numeric, predictive attributes and the class\n",
      "    :Attribute Information:\n",
      "        - sepal length in cm\n",
      "        - sepal width in cm\n",
      "        - petal length in cm\n",
      "        - petal width in cm\n",
      "        - class:\n",
      "                - Iris-Setosa\n",
      "                - Iris-Versicolour\n",
      "                - Iris-Virginica\n",
      "                \n",
      "    :Summary Statistics:\n",
      "\n",
      "    ============== ==== ==== ======= ===== ====================\n",
      "                    Min  Max   Mean    SD   Class Correlation\n",
      "    ============== ==== ==== ======= ===== ====================\n",
      "    sepal length:   4.3  7.9   5.84   0.83    0.7826\n",
      "    sepal width:    2.0  4.4   3.05   0.43   -0.4194\n",
      "    petal length:   1.0  6.9   3.76   1.76    0.9490  (high!)\n",
      "    petal width:    0.1  2.5   1.20   0.76    0.9565  (high!)\n",
      "    ============== ==== ==== ======= ===== ====================\n",
      "\n",
      "    :Missing Attribute Values: None\n",
      "    :Class Distribution: 33.3% for each of 3 classes.\n",
      "    :Creator: R.A. Fisher\n",
      "    :Donor: Michael Marshall (MARSHALL%PLU@io.arc.nasa.gov)\n",
      "    :Date: July, 1988\n",
      "\n",
      "The famous Iris database, first used by Sir R.A. Fisher. The dataset is taken\n",
      "from Fisher's paper. Note that it's the same as in R, but not as in the UCI\n",
      "Machine Learning Repository, which has two wrong data points.\n",
      "\n",
      "This is perhaps the best known database to be found in the\n",
      "pattern recognition literature.  Fisher's paper is a classic in the field and\n",
      "is referenced frequently to this day.  (See Duda & Hart, for example.)  The\n",
      "data set contains 3 classes of 50 instances each, where each class refers to a\n",
      "type of iris plant.  One class is linearly separable from the other 2; the\n",
      "latter are NOT linearly separable from each other.\n",
      "\n",
      ".. topic:: References\n",
      "\n",
      "   - Fisher, R.A. \"The use of multiple measurements in taxonomic problems\"\n",
      "     Annual Eugenics, 7, Part II, 179-188 (1936); also in \"Contributions to\n",
      "     Mathematical Statistics\" (John Wiley, NY, 1950).\n",
      "   - Duda, R.O., & Hart, P.E. (1973) Pattern Classification and Scene Analysis.\n",
      "     (Q327.D83) John Wiley & Sons.  ISBN 0-471-22361-1.  See page 218.\n",
      "   - Dasarathy, B.V. (1980) \"Nosing Around the Neighborhood: A New System\n",
      "     Structure and Classification Rule for Recognition in Partially Exposed\n",
      "     Environments\".  IEEE Transactions on Pattern Analysis and Machine\n",
      "     Intelligence, Vol. PAMI-2, No. 1, 67-71.\n",
      "   - Gates, G.W. (1972) \"The Reduced Nearest Neighbor Rule\".  IEEE Transactions\n",
      "     on Information Theory, May 1972, 431-433.\n",
      "   - See also: 1988 MLC Proceedings, 54-64.  Cheeseman et al\"s AUTOCLASS II\n",
      "     conceptual clustering system finds 3 classes in the data.\n",
      "   - Many, many more ...\n"
     ]
    }
   ],
   "source": [
    "print(load_iris()['DESCR'])"
   ]
  },
  {
   "cell_type": "code",
   "execution_count": 29,
   "metadata": {
    "ExecuteTime": {
     "end_time": "2020-05-16T15:10:47.444796Z",
     "start_time": "2020-05-16T15:10:47.439784Z"
    }
   },
   "outputs": [],
   "source": [
    "iris = load_iris()\n",
    "\n",
    "X = pd.DataFrame(iris.data, columns=iris.feature_names)\n",
    "y = iris.target"
   ]
  },
  {
   "cell_type": "code",
   "execution_count": 30,
   "metadata": {
    "ExecuteTime": {
     "end_time": "2020-05-16T15:10:48.796107Z",
     "start_time": "2020-05-16T15:10:48.787131Z"
    }
   },
   "outputs": [
    {
     "data": {
      "text/html": [
       "<div>\n",
       "<style scoped>\n",
       "    .dataframe tbody tr th:only-of-type {\n",
       "        vertical-align: middle;\n",
       "    }\n",
       "\n",
       "    .dataframe tbody tr th {\n",
       "        vertical-align: top;\n",
       "    }\n",
       "\n",
       "    .dataframe thead th {\n",
       "        text-align: right;\n",
       "    }\n",
       "</style>\n",
       "<table border=\"1\" class=\"dataframe\">\n",
       "  <thead>\n",
       "    <tr style=\"text-align: right;\">\n",
       "      <th></th>\n",
       "      <th>sepal length (cm)</th>\n",
       "      <th>sepal width (cm)</th>\n",
       "      <th>petal length (cm)</th>\n",
       "      <th>petal width (cm)</th>\n",
       "    </tr>\n",
       "  </thead>\n",
       "  <tbody>\n",
       "    <tr>\n",
       "      <th>0</th>\n",
       "      <td>5.1</td>\n",
       "      <td>3.5</td>\n",
       "      <td>1.4</td>\n",
       "      <td>0.2</td>\n",
       "    </tr>\n",
       "    <tr>\n",
       "      <th>1</th>\n",
       "      <td>4.9</td>\n",
       "      <td>3.0</td>\n",
       "      <td>1.4</td>\n",
       "      <td>0.2</td>\n",
       "    </tr>\n",
       "    <tr>\n",
       "      <th>2</th>\n",
       "      <td>4.7</td>\n",
       "      <td>3.2</td>\n",
       "      <td>1.3</td>\n",
       "      <td>0.2</td>\n",
       "    </tr>\n",
       "    <tr>\n",
       "      <th>3</th>\n",
       "      <td>4.6</td>\n",
       "      <td>3.1</td>\n",
       "      <td>1.5</td>\n",
       "      <td>0.2</td>\n",
       "    </tr>\n",
       "    <tr>\n",
       "      <th>4</th>\n",
       "      <td>5.0</td>\n",
       "      <td>3.6</td>\n",
       "      <td>1.4</td>\n",
       "      <td>0.2</td>\n",
       "    </tr>\n",
       "    <tr>\n",
       "      <th>...</th>\n",
       "      <td>...</td>\n",
       "      <td>...</td>\n",
       "      <td>...</td>\n",
       "      <td>...</td>\n",
       "    </tr>\n",
       "    <tr>\n",
       "      <th>145</th>\n",
       "      <td>6.7</td>\n",
       "      <td>3.0</td>\n",
       "      <td>5.2</td>\n",
       "      <td>2.3</td>\n",
       "    </tr>\n",
       "    <tr>\n",
       "      <th>146</th>\n",
       "      <td>6.3</td>\n",
       "      <td>2.5</td>\n",
       "      <td>5.0</td>\n",
       "      <td>1.9</td>\n",
       "    </tr>\n",
       "    <tr>\n",
       "      <th>147</th>\n",
       "      <td>6.5</td>\n",
       "      <td>3.0</td>\n",
       "      <td>5.2</td>\n",
       "      <td>2.0</td>\n",
       "    </tr>\n",
       "    <tr>\n",
       "      <th>148</th>\n",
       "      <td>6.2</td>\n",
       "      <td>3.4</td>\n",
       "      <td>5.4</td>\n",
       "      <td>2.3</td>\n",
       "    </tr>\n",
       "    <tr>\n",
       "      <th>149</th>\n",
       "      <td>5.9</td>\n",
       "      <td>3.0</td>\n",
       "      <td>5.1</td>\n",
       "      <td>1.8</td>\n",
       "    </tr>\n",
       "  </tbody>\n",
       "</table>\n",
       "<p>150 rows × 4 columns</p>\n",
       "</div>"
      ],
      "text/plain": [
       "     sepal length (cm)  sepal width (cm)  petal length (cm)  petal width (cm)\n",
       "0                  5.1               3.5                1.4               0.2\n",
       "1                  4.9               3.0                1.4               0.2\n",
       "2                  4.7               3.2                1.3               0.2\n",
       "3                  4.6               3.1                1.5               0.2\n",
       "4                  5.0               3.6                1.4               0.2\n",
       "..                 ...               ...                ...               ...\n",
       "145                6.7               3.0                5.2               2.3\n",
       "146                6.3               2.5                5.0               1.9\n",
       "147                6.5               3.0                5.2               2.0\n",
       "148                6.2               3.4                5.4               2.3\n",
       "149                5.9               3.0                5.1               1.8\n",
       "\n",
       "[150 rows x 4 columns]"
      ]
     },
     "execution_count": 30,
     "metadata": {},
     "output_type": "execute_result"
    }
   ],
   "source": [
    "X"
   ]
  },
  {
   "cell_type": "code",
   "execution_count": 31,
   "metadata": {
    "ExecuteTime": {
     "end_time": "2020-05-16T15:24:49.796670Z",
     "start_time": "2020-05-16T15:24:49.792681Z"
    }
   },
   "outputs": [],
   "source": [
    "from sklearn.preprocessing import StandardScaler"
   ]
  },
  {
   "cell_type": "code",
   "execution_count": 32,
   "metadata": {
    "ExecuteTime": {
     "end_time": "2020-05-16T15:24:50.509056Z",
     "start_time": "2020-05-16T15:24:50.502100Z"
    }
   },
   "outputs": [
    {
     "data": {
      "text/plain": [
       "PCA(n_components=2)"
      ]
     },
     "execution_count": 32,
     "metadata": {},
     "output_type": "execute_result"
    }
   ],
   "source": [
    "pca = PCA(n_components=2)\n",
    "\n",
    "scaler = StandardScaler()\n",
    "X_std = scaler.fit_transform(X)\n",
    "\n",
    "pca.fit(X_std)"
   ]
  },
  {
   "cell_type": "code",
   "execution_count": 33,
   "metadata": {
    "ExecuteTime": {
     "end_time": "2020-05-16T15:30:12.564518Z",
     "start_time": "2020-05-16T15:30:12.560529Z"
    }
   },
   "outputs": [
    {
     "data": {
      "text/plain": [
       "(150, 4)"
      ]
     },
     "execution_count": 33,
     "metadata": {},
     "output_type": "execute_result"
    }
   ],
   "source": [
    "X_std.shape"
   ]
  },
  {
   "cell_type": "code",
   "execution_count": 34,
   "metadata": {
    "ExecuteTime": {
     "end_time": "2020-05-16T15:24:51.680201Z",
     "start_time": "2020-05-16T15:24:51.676239Z"
    }
   },
   "outputs": [
    {
     "data": {
      "text/plain": [
       "array([[ 0.52106591, -0.26934744,  0.5804131 ,  0.56485654],\n",
       "       [ 0.37741762,  0.92329566,  0.02449161,  0.06694199]])"
      ]
     },
     "execution_count": 34,
     "metadata": {},
     "output_type": "execute_result"
    }
   ],
   "source": [
    "pca.components_"
   ]
  },
  {
   "cell_type": "code",
   "execution_count": 35,
   "metadata": {
    "ExecuteTime": {
     "end_time": "2020-05-16T15:24:52.812315Z",
     "start_time": "2020-05-16T15:24:52.808326Z"
    }
   },
   "outputs": [
    {
     "data": {
      "text/plain": [
       "['sepal length (cm)',\n",
       " 'sepal width (cm)',\n",
       " 'petal length (cm)',\n",
       " 'petal width (cm)']"
      ]
     },
     "execution_count": 35,
     "metadata": {},
     "output_type": "execute_result"
    }
   ],
   "source": [
    "iris.feature_names"
   ]
  },
  {
   "cell_type": "code",
   "execution_count": 36,
   "metadata": {
    "ExecuteTime": {
     "end_time": "2020-05-16T15:24:53.243258Z",
     "start_time": "2020-05-16T15:24:53.239269Z"
    }
   },
   "outputs": [
    {
     "data": {
      "text/plain": [
       "array([0.72962445, 0.22850762])"
      ]
     },
     "execution_count": 36,
     "metadata": {},
     "output_type": "execute_result"
    }
   ],
   "source": [
    "pca.explained_variance_ratio_"
   ]
  },
  {
   "cell_type": "code",
   "execution_count": 37,
   "metadata": {
    "ExecuteTime": {
     "end_time": "2020-05-16T15:24:53.724032Z",
     "start_time": "2020-05-16T15:24:53.720044Z"
    }
   },
   "outputs": [
    {
     "data": {
      "text/plain": [
       "0.9581320720000164"
      ]
     },
     "execution_count": 37,
     "metadata": {},
     "output_type": "execute_result"
    }
   ],
   "source": [
    "pca.explained_variance_ratio_.sum()"
   ]
  },
  {
   "cell_type": "code",
   "execution_count": 38,
   "metadata": {
    "ExecuteTime": {
     "end_time": "2020-05-16T15:24:54.549067Z",
     "start_time": "2020-05-16T15:24:54.540116Z"
    },
    "scrolled": true
   },
   "outputs": [
    {
     "data": {
      "text/html": [
       "<div>\n",
       "<style scoped>\n",
       "    .dataframe tbody tr th:only-of-type {\n",
       "        vertical-align: middle;\n",
       "    }\n",
       "\n",
       "    .dataframe tbody tr th {\n",
       "        vertical-align: top;\n",
       "    }\n",
       "\n",
       "    .dataframe thead th {\n",
       "        text-align: right;\n",
       "    }\n",
       "</style>\n",
       "<table border=\"1\" class=\"dataframe\">\n",
       "  <thead>\n",
       "    <tr style=\"text-align: right;\">\n",
       "      <th></th>\n",
       "      <th>sepal length (cm)</th>\n",
       "      <th>sepal width (cm)</th>\n",
       "      <th>petal length (cm)</th>\n",
       "      <th>petal width (cm)</th>\n",
       "    </tr>\n",
       "  </thead>\n",
       "  <tbody>\n",
       "    <tr>\n",
       "      <th>0</th>\n",
       "      <td>5.1</td>\n",
       "      <td>3.5</td>\n",
       "      <td>1.4</td>\n",
       "      <td>0.2</td>\n",
       "    </tr>\n",
       "    <tr>\n",
       "      <th>1</th>\n",
       "      <td>4.9</td>\n",
       "      <td>3.0</td>\n",
       "      <td>1.4</td>\n",
       "      <td>0.2</td>\n",
       "    </tr>\n",
       "    <tr>\n",
       "      <th>2</th>\n",
       "      <td>4.7</td>\n",
       "      <td>3.2</td>\n",
       "      <td>1.3</td>\n",
       "      <td>0.2</td>\n",
       "    </tr>\n",
       "    <tr>\n",
       "      <th>3</th>\n",
       "      <td>4.6</td>\n",
       "      <td>3.1</td>\n",
       "      <td>1.5</td>\n",
       "      <td>0.2</td>\n",
       "    </tr>\n",
       "    <tr>\n",
       "      <th>4</th>\n",
       "      <td>5.0</td>\n",
       "      <td>3.6</td>\n",
       "      <td>1.4</td>\n",
       "      <td>0.2</td>\n",
       "    </tr>\n",
       "    <tr>\n",
       "      <th>...</th>\n",
       "      <td>...</td>\n",
       "      <td>...</td>\n",
       "      <td>...</td>\n",
       "      <td>...</td>\n",
       "    </tr>\n",
       "    <tr>\n",
       "      <th>145</th>\n",
       "      <td>6.7</td>\n",
       "      <td>3.0</td>\n",
       "      <td>5.2</td>\n",
       "      <td>2.3</td>\n",
       "    </tr>\n",
       "    <tr>\n",
       "      <th>146</th>\n",
       "      <td>6.3</td>\n",
       "      <td>2.5</td>\n",
       "      <td>5.0</td>\n",
       "      <td>1.9</td>\n",
       "    </tr>\n",
       "    <tr>\n",
       "      <th>147</th>\n",
       "      <td>6.5</td>\n",
       "      <td>3.0</td>\n",
       "      <td>5.2</td>\n",
       "      <td>2.0</td>\n",
       "    </tr>\n",
       "    <tr>\n",
       "      <th>148</th>\n",
       "      <td>6.2</td>\n",
       "      <td>3.4</td>\n",
       "      <td>5.4</td>\n",
       "      <td>2.3</td>\n",
       "    </tr>\n",
       "    <tr>\n",
       "      <th>149</th>\n",
       "      <td>5.9</td>\n",
       "      <td>3.0</td>\n",
       "      <td>5.1</td>\n",
       "      <td>1.8</td>\n",
       "    </tr>\n",
       "  </tbody>\n",
       "</table>\n",
       "<p>150 rows × 4 columns</p>\n",
       "</div>"
      ],
      "text/plain": [
       "     sepal length (cm)  sepal width (cm)  petal length (cm)  petal width (cm)\n",
       "0                  5.1               3.5                1.4               0.2\n",
       "1                  4.9               3.0                1.4               0.2\n",
       "2                  4.7               3.2                1.3               0.2\n",
       "3                  4.6               3.1                1.5               0.2\n",
       "4                  5.0               3.6                1.4               0.2\n",
       "..                 ...               ...                ...               ...\n",
       "145                6.7               3.0                5.2               2.3\n",
       "146                6.3               2.5                5.0               1.9\n",
       "147                6.5               3.0                5.2               2.0\n",
       "148                6.2               3.4                5.4               2.3\n",
       "149                5.9               3.0                5.1               1.8\n",
       "\n",
       "[150 rows x 4 columns]"
      ]
     },
     "execution_count": 38,
     "metadata": {},
     "output_type": "execute_result"
    }
   ],
   "source": [
    "X"
   ]
  },
  {
   "cell_type": "code",
   "execution_count": 39,
   "metadata": {
    "ExecuteTime": {
     "end_time": "2020-05-16T15:30:33.577876Z",
     "start_time": "2020-05-16T15:30:33.573887Z"
    }
   },
   "outputs": [
    {
     "data": {
      "text/plain": [
       "(150, 4)"
      ]
     },
     "execution_count": 39,
     "metadata": {},
     "output_type": "execute_result"
    }
   ],
   "source": [
    "X_std.shape"
   ]
  },
  {
   "cell_type": "code",
   "execution_count": 40,
   "metadata": {
    "ExecuteTime": {
     "end_time": "2020-05-16T15:31:26.803185Z",
     "start_time": "2020-05-16T15:31:26.793212Z"
    },
    "scrolled": true
   },
   "outputs": [
    {
     "data": {
      "text/html": [
       "<div>\n",
       "<style scoped>\n",
       "    .dataframe tbody tr th:only-of-type {\n",
       "        vertical-align: middle;\n",
       "    }\n",
       "\n",
       "    .dataframe tbody tr th {\n",
       "        vertical-align: top;\n",
       "    }\n",
       "\n",
       "    .dataframe thead th {\n",
       "        text-align: right;\n",
       "    }\n",
       "</style>\n",
       "<table border=\"1\" class=\"dataframe\">\n",
       "  <thead>\n",
       "    <tr style=\"text-align: right;\">\n",
       "      <th></th>\n",
       "      <th>0</th>\n",
       "      <th>1</th>\n",
       "      <th>2</th>\n",
       "      <th>3</th>\n",
       "    </tr>\n",
       "  </thead>\n",
       "  <tbody>\n",
       "    <tr>\n",
       "      <th>0</th>\n",
       "      <td>-0.900681</td>\n",
       "      <td>1.019004</td>\n",
       "      <td>-1.340227</td>\n",
       "      <td>-1.315444</td>\n",
       "    </tr>\n",
       "    <tr>\n",
       "      <th>1</th>\n",
       "      <td>-1.143017</td>\n",
       "      <td>-0.131979</td>\n",
       "      <td>-1.340227</td>\n",
       "      <td>-1.315444</td>\n",
       "    </tr>\n",
       "    <tr>\n",
       "      <th>2</th>\n",
       "      <td>-1.385353</td>\n",
       "      <td>0.328414</td>\n",
       "      <td>-1.397064</td>\n",
       "      <td>-1.315444</td>\n",
       "    </tr>\n",
       "    <tr>\n",
       "      <th>3</th>\n",
       "      <td>-1.506521</td>\n",
       "      <td>0.098217</td>\n",
       "      <td>-1.283389</td>\n",
       "      <td>-1.315444</td>\n",
       "    </tr>\n",
       "    <tr>\n",
       "      <th>4</th>\n",
       "      <td>-1.021849</td>\n",
       "      <td>1.249201</td>\n",
       "      <td>-1.340227</td>\n",
       "      <td>-1.315444</td>\n",
       "    </tr>\n",
       "    <tr>\n",
       "      <th>...</th>\n",
       "      <td>...</td>\n",
       "      <td>...</td>\n",
       "      <td>...</td>\n",
       "      <td>...</td>\n",
       "    </tr>\n",
       "    <tr>\n",
       "      <th>145</th>\n",
       "      <td>1.038005</td>\n",
       "      <td>-0.131979</td>\n",
       "      <td>0.819596</td>\n",
       "      <td>1.448832</td>\n",
       "    </tr>\n",
       "    <tr>\n",
       "      <th>146</th>\n",
       "      <td>0.553333</td>\n",
       "      <td>-1.282963</td>\n",
       "      <td>0.705921</td>\n",
       "      <td>0.922303</td>\n",
       "    </tr>\n",
       "    <tr>\n",
       "      <th>147</th>\n",
       "      <td>0.795669</td>\n",
       "      <td>-0.131979</td>\n",
       "      <td>0.819596</td>\n",
       "      <td>1.053935</td>\n",
       "    </tr>\n",
       "    <tr>\n",
       "      <th>148</th>\n",
       "      <td>0.432165</td>\n",
       "      <td>0.788808</td>\n",
       "      <td>0.933271</td>\n",
       "      <td>1.448832</td>\n",
       "    </tr>\n",
       "    <tr>\n",
       "      <th>149</th>\n",
       "      <td>0.068662</td>\n",
       "      <td>-0.131979</td>\n",
       "      <td>0.762758</td>\n",
       "      <td>0.790671</td>\n",
       "    </tr>\n",
       "  </tbody>\n",
       "</table>\n",
       "<p>150 rows × 4 columns</p>\n",
       "</div>"
      ],
      "text/plain": [
       "            0         1         2         3\n",
       "0   -0.900681  1.019004 -1.340227 -1.315444\n",
       "1   -1.143017 -0.131979 -1.340227 -1.315444\n",
       "2   -1.385353  0.328414 -1.397064 -1.315444\n",
       "3   -1.506521  0.098217 -1.283389 -1.315444\n",
       "4   -1.021849  1.249201 -1.340227 -1.315444\n",
       "..        ...       ...       ...       ...\n",
       "145  1.038005 -0.131979  0.819596  1.448832\n",
       "146  0.553333 -1.282963  0.705921  0.922303\n",
       "147  0.795669 -0.131979  0.819596  1.053935\n",
       "148  0.432165  0.788808  0.933271  1.448832\n",
       "149  0.068662 -0.131979  0.762758  0.790671\n",
       "\n",
       "[150 rows x 4 columns]"
      ]
     },
     "execution_count": 40,
     "metadata": {},
     "output_type": "execute_result"
    }
   ],
   "source": [
    "pd.DataFrame(X_std)"
   ]
  },
  {
   "cell_type": "code",
   "execution_count": 41,
   "metadata": {
    "ExecuteTime": {
     "end_time": "2020-05-16T15:25:06.232882Z",
     "start_time": "2020-05-16T15:25:06.223906Z"
    },
    "scrolled": true
   },
   "outputs": [
    {
     "data": {
      "text/html": [
       "<div>\n",
       "<style scoped>\n",
       "    .dataframe tbody tr th:only-of-type {\n",
       "        vertical-align: middle;\n",
       "    }\n",
       "\n",
       "    .dataframe tbody tr th {\n",
       "        vertical-align: top;\n",
       "    }\n",
       "\n",
       "    .dataframe thead th {\n",
       "        text-align: right;\n",
       "    }\n",
       "</style>\n",
       "<table border=\"1\" class=\"dataframe\">\n",
       "  <thead>\n",
       "    <tr style=\"text-align: right;\">\n",
       "      <th></th>\n",
       "      <th>pc1</th>\n",
       "      <th>pc2</th>\n",
       "    </tr>\n",
       "  </thead>\n",
       "  <tbody>\n",
       "    <tr>\n",
       "      <th>0</th>\n",
       "      <td>-2.264703</td>\n",
       "      <td>0.480027</td>\n",
       "    </tr>\n",
       "    <tr>\n",
       "      <th>1</th>\n",
       "      <td>-2.080961</td>\n",
       "      <td>-0.674134</td>\n",
       "    </tr>\n",
       "    <tr>\n",
       "      <th>2</th>\n",
       "      <td>-2.364229</td>\n",
       "      <td>-0.341908</td>\n",
       "    </tr>\n",
       "    <tr>\n",
       "      <th>3</th>\n",
       "      <td>-2.299384</td>\n",
       "      <td>-0.597395</td>\n",
       "    </tr>\n",
       "    <tr>\n",
       "      <th>4</th>\n",
       "      <td>-2.389842</td>\n",
       "      <td>0.646835</td>\n",
       "    </tr>\n",
       "    <tr>\n",
       "      <th>...</th>\n",
       "      <td>...</td>\n",
       "      <td>...</td>\n",
       "    </tr>\n",
       "    <tr>\n",
       "      <th>145</th>\n",
       "      <td>1.870503</td>\n",
       "      <td>0.386966</td>\n",
       "    </tr>\n",
       "    <tr>\n",
       "      <th>146</th>\n",
       "      <td>1.564580</td>\n",
       "      <td>-0.896687</td>\n",
       "    </tr>\n",
       "    <tr>\n",
       "      <th>147</th>\n",
       "      <td>1.521170</td>\n",
       "      <td>0.269069</td>\n",
       "    </tr>\n",
       "    <tr>\n",
       "      <th>148</th>\n",
       "      <td>1.372788</td>\n",
       "      <td>1.011254</td>\n",
       "    </tr>\n",
       "    <tr>\n",
       "      <th>149</th>\n",
       "      <td>0.960656</td>\n",
       "      <td>-0.024332</td>\n",
       "    </tr>\n",
       "  </tbody>\n",
       "</table>\n",
       "<p>150 rows × 2 columns</p>\n",
       "</div>"
      ],
      "text/plain": [
       "          pc1       pc2\n",
       "0   -2.264703  0.480027\n",
       "1   -2.080961 -0.674134\n",
       "2   -2.364229 -0.341908\n",
       "3   -2.299384 -0.597395\n",
       "4   -2.389842  0.646835\n",
       "..        ...       ...\n",
       "145  1.870503  0.386966\n",
       "146  1.564580 -0.896687\n",
       "147  1.521170  0.269069\n",
       "148  1.372788  1.011254\n",
       "149  0.960656 -0.024332\n",
       "\n",
       "[150 rows x 2 columns]"
      ]
     },
     "execution_count": 41,
     "metadata": {},
     "output_type": "execute_result"
    }
   ],
   "source": [
    "pd.DataFrame(pca.transform(X_std), columns=['pc1','pc2'])"
   ]
  },
  {
   "cell_type": "code",
   "execution_count": 42,
   "metadata": {
    "ExecuteTime": {
     "end_time": "2020-05-16T15:25:10.574062Z",
     "start_time": "2020-05-16T15:25:10.569035Z"
    },
    "scrolled": true
   },
   "outputs": [
    {
     "data": {
      "text/plain": [
       "array([-2.26470281, -2.08096115, -2.36422905, -2.29938422, -2.38984217,\n",
       "       -2.07563095, -2.44402884, -2.23284716, -2.33464048, -2.18432817,\n",
       "       -2.1663101 , -2.32613087, -2.2184509 , -2.6331007 , -2.1987406 ,\n",
       "       -2.26221453, -2.2075877 , -2.19034951, -1.898572  , -2.34336905,\n",
       "       -1.914323  , -2.20701284, -2.7743447 , -1.81866953, -2.22716331,\n",
       "       -1.95184633, -2.05115137, -2.16857717, -2.13956345, -2.26526149,\n",
       "       -2.14012214, -1.83159477, -2.61494794, -2.44617739, -2.10997488,\n",
       "       -2.2078089 , -2.04514621, -2.52733191, -2.42963258, -2.16971071,\n",
       "       -2.28647514, -1.85812246, -2.5536384 , -1.96444768, -2.13705901,\n",
       "       -2.0697443 , -2.38473317, -2.39437631, -2.22944655, -2.20383344,\n",
       "        1.10178118,  0.73133743,  1.24097932,  0.40748306,  1.0754747 ,\n",
       "        0.38868734,  0.74652974, -0.48732274,  0.92790164,  0.01142619,\n",
       "       -0.11019628,  0.44069345,  0.56210831,  0.71956189, -0.0333547 ,\n",
       "        0.87540719,  0.35025167,  0.15881005,  1.22509363,  0.1649179 ,\n",
       "        0.73768265,  0.47628719,  1.2341781 ,  0.6328582 ,  0.70266118,\n",
       "        0.87427365,  1.25650912,  1.35840512,  0.66480037, -0.04025861,\n",
       "        0.13079518,  0.02345269,  0.24153827,  1.06109461,  0.22397877,\n",
       "        0.42913912,  1.04872805,  1.04453138,  0.06958832,  0.28347724,\n",
       "        0.27907778,  0.62456979,  0.33653037, -0.36218338,  0.28858624,\n",
       "        0.09136066,  0.22771687,  0.57638829, -0.44766702,  0.25673059,\n",
       "        1.84456887,  1.15788161,  2.20526679,  1.44015066,  1.86781222,\n",
       "        2.75187334,  0.36701769,  2.30243944,  2.00668647,  2.25977735,\n",
       "        1.36417549,  1.60267867,  1.8839007 ,  1.2601151 ,  1.4676452 ,\n",
       "        1.59007732,  1.47143146,  2.42632899,  3.31069558,  1.26376667,\n",
       "        2.0377163 ,  0.97798073,  2.89765149,  1.33323218,  1.7007339 ,\n",
       "        1.95432671,  1.17510363,  1.02095055,  1.78834992,  1.86364755,\n",
       "        2.43595373,  2.30492772,  1.86270322,  1.11414774,  1.2024733 ,\n",
       "        2.79877045,  1.57625591,  1.3462921 ,  0.92482492,  1.85204505,\n",
       "        2.01481043,  1.90178409,  1.15788161,  2.04055823,  1.9981471 ,\n",
       "        1.87050329,  1.56458048,  1.5211705 ,  1.37278779,  0.96065603])"
      ]
     },
     "execution_count": 42,
     "metadata": {},
     "output_type": "execute_result"
    }
   ],
   "source": [
    "pca.transform(X_std)[:, 0]"
   ]
  },
  {
   "cell_type": "code",
   "execution_count": 43,
   "metadata": {
    "ExecuteTime": {
     "end_time": "2020-05-16T15:25:13.940543Z",
     "start_time": "2020-05-16T15:25:13.936554Z"
    }
   },
   "outputs": [],
   "source": [
    "pc1 = pca.transform(X_std)[:,0]\n",
    "pc2 = pca.transform(X_std)[:,1]"
   ]
  },
  {
   "cell_type": "code",
   "execution_count": 44,
   "metadata": {
    "ExecuteTime": {
     "end_time": "2020-05-16T15:32:15.659532Z",
     "start_time": "2020-05-16T15:32:15.654546Z"
    }
   },
   "outputs": [
    {
     "data": {
      "text/plain": [
       "array([0, 0, 0, 0, 0, 0, 0, 0, 0, 0, 0, 0, 0, 0, 0, 0, 0, 0, 0, 0, 0, 0,\n",
       "       0, 0, 0, 0, 0, 0, 0, 0, 0, 0, 0, 0, 0, 0, 0, 0, 0, 0, 0, 0, 0, 0,\n",
       "       0, 0, 0, 0, 0, 0, 1, 1, 1, 1, 1, 1, 1, 1, 1, 1, 1, 1, 1, 1, 1, 1,\n",
       "       1, 1, 1, 1, 1, 1, 1, 1, 1, 1, 1, 1, 1, 1, 1, 1, 1, 1, 1, 1, 1, 1,\n",
       "       1, 1, 1, 1, 1, 1, 1, 1, 1, 1, 1, 1, 2, 2, 2, 2, 2, 2, 2, 2, 2, 2,\n",
       "       2, 2, 2, 2, 2, 2, 2, 2, 2, 2, 2, 2, 2, 2, 2, 2, 2, 2, 2, 2, 2, 2,\n",
       "       2, 2, 2, 2, 2, 2, 2, 2, 2, 2, 2, 2, 2, 2, 2, 2, 2, 2])"
      ]
     },
     "execution_count": 44,
     "metadata": {},
     "output_type": "execute_result"
    }
   ],
   "source": [
    "iris.target"
   ]
  },
  {
   "cell_type": "code",
   "execution_count": 45,
   "metadata": {
    "ExecuteTime": {
     "end_time": "2020-05-16T15:32:08.512213Z",
     "start_time": "2020-05-16T15:32:08.405499Z"
    }
   },
   "outputs": [
    {
     "data": {
      "text/plain": [
       "Text(0, 0.5, 'PC2')"
      ]
     },
     "execution_count": 45,
     "metadata": {},
     "output_type": "execute_result"
    },
    {
     "data": {
      "image/png": "[encoded data removed]",
      "text/plain": [
       "<Figure size 720x576 with 1 Axes>"
      ]
     },
     "metadata": {
      "needs_background": "light"
     },
     "output_type": "display_data"
    }
   ],
   "source": [
    "plt.figure(figsize=(10,8))\n",
    "plt.scatter(pc1, pc2, c=y, cmap='rainbow')\n",
    "plt.xlabel('PC1')\n",
    "plt.ylabel('PC2')"
   ]
  },
  {
   "cell_type": "code",
   "execution_count": 46,
   "metadata": {
    "ExecuteTime": {
     "end_time": "2020-05-16T15:35:38.104487Z",
     "start_time": "2020-05-16T15:35:38.100497Z"
    }
   },
   "outputs": [
    {
     "data": {
      "text/plain": [
       "['sepal length (cm)',\n",
       " 'sepal width (cm)',\n",
       " 'petal length (cm)',\n",
       " 'petal width (cm)']"
      ]
     },
     "execution_count": 46,
     "metadata": {},
     "output_type": "execute_result"
    }
   ],
   "source": [
    "iris.feature_names"
   ]
  },
  {
   "cell_type": "code",
   "execution_count": 47,
   "metadata": {
    "ExecuteTime": {
     "end_time": "2020-05-16T15:26:21.019980Z",
     "start_time": "2020-05-16T15:26:21.015964Z"
    }
   },
   "outputs": [
    {
     "data": {
      "text/plain": [
       "array([ 0.52106591, -0.26934744,  0.5804131 ,  0.56485654])"
      ]
     },
     "execution_count": 47,
     "metadata": {},
     "output_type": "execute_result"
    }
   ],
   "source": [
    "pca.components_[0]"
   ]
  },
  {
   "cell_type": "code",
   "execution_count": 48,
   "metadata": {
    "ExecuteTime": {
     "end_time": "2020-05-16T15:39:18.764522Z",
     "start_time": "2020-05-16T15:39:18.760533Z"
    }
   },
   "outputs": [
    {
     "data": {
      "text/plain": [
       "array([0.37741762, 0.92329566, 0.02449161, 0.06694199])"
      ]
     },
     "execution_count": 48,
     "metadata": {},
     "output_type": "execute_result"
    }
   ],
   "source": [
    "pca.components_[1]"
   ]
  },
  {
   "cell_type": "code",
   "execution_count": 49,
   "metadata": {
    "ExecuteTime": {
     "end_time": "2020-05-16T15:40:46.326217Z",
     "start_time": "2020-05-16T15:40:46.316243Z"
    }
   },
   "outputs": [
    {
     "data": {
      "text/html": [
       "<div>\n",
       "<style scoped>\n",
       "    .dataframe tbody tr th:only-of-type {\n",
       "        vertical-align: middle;\n",
       "    }\n",
       "\n",
       "    .dataframe tbody tr th {\n",
       "        vertical-align: top;\n",
       "    }\n",
       "\n",
       "    .dataframe thead th {\n",
       "        text-align: right;\n",
       "    }\n",
       "</style>\n",
       "<table border=\"1\" class=\"dataframe\">\n",
       "  <thead>\n",
       "    <tr style=\"text-align: right;\">\n",
       "      <th></th>\n",
       "      <th>0</th>\n",
       "      <th>1</th>\n",
       "      <th>2</th>\n",
       "      <th>3</th>\n",
       "    </tr>\n",
       "  </thead>\n",
       "  <tbody>\n",
       "    <tr>\n",
       "      <th>0</th>\n",
       "      <td>-0.900681</td>\n",
       "      <td>1.019004</td>\n",
       "      <td>-1.340227</td>\n",
       "      <td>-1.315444</td>\n",
       "    </tr>\n",
       "    <tr>\n",
       "      <th>1</th>\n",
       "      <td>-1.143017</td>\n",
       "      <td>-0.131979</td>\n",
       "      <td>-1.340227</td>\n",
       "      <td>-1.315444</td>\n",
       "    </tr>\n",
       "    <tr>\n",
       "      <th>2</th>\n",
       "      <td>-1.385353</td>\n",
       "      <td>0.328414</td>\n",
       "      <td>-1.397064</td>\n",
       "      <td>-1.315444</td>\n",
       "    </tr>\n",
       "    <tr>\n",
       "      <th>3</th>\n",
       "      <td>-1.506521</td>\n",
       "      <td>0.098217</td>\n",
       "      <td>-1.283389</td>\n",
       "      <td>-1.315444</td>\n",
       "    </tr>\n",
       "    <tr>\n",
       "      <th>4</th>\n",
       "      <td>-1.021849</td>\n",
       "      <td>1.249201</td>\n",
       "      <td>-1.340227</td>\n",
       "      <td>-1.315444</td>\n",
       "    </tr>\n",
       "    <tr>\n",
       "      <th>...</th>\n",
       "      <td>...</td>\n",
       "      <td>...</td>\n",
       "      <td>...</td>\n",
       "      <td>...</td>\n",
       "    </tr>\n",
       "    <tr>\n",
       "      <th>145</th>\n",
       "      <td>1.038005</td>\n",
       "      <td>-0.131979</td>\n",
       "      <td>0.819596</td>\n",
       "      <td>1.448832</td>\n",
       "    </tr>\n",
       "    <tr>\n",
       "      <th>146</th>\n",
       "      <td>0.553333</td>\n",
       "      <td>-1.282963</td>\n",
       "      <td>0.705921</td>\n",
       "      <td>0.922303</td>\n",
       "    </tr>\n",
       "    <tr>\n",
       "      <th>147</th>\n",
       "      <td>0.795669</td>\n",
       "      <td>-0.131979</td>\n",
       "      <td>0.819596</td>\n",
       "      <td>1.053935</td>\n",
       "    </tr>\n",
       "    <tr>\n",
       "      <th>148</th>\n",
       "      <td>0.432165</td>\n",
       "      <td>0.788808</td>\n",
       "      <td>0.933271</td>\n",
       "      <td>1.448832</td>\n",
       "    </tr>\n",
       "    <tr>\n",
       "      <th>149</th>\n",
       "      <td>0.068662</td>\n",
       "      <td>-0.131979</td>\n",
       "      <td>0.762758</td>\n",
       "      <td>0.790671</td>\n",
       "    </tr>\n",
       "  </tbody>\n",
       "</table>\n",
       "<p>150 rows × 4 columns</p>\n",
       "</div>"
      ],
      "text/plain": [
       "            0         1         2         3\n",
       "0   -0.900681  1.019004 -1.340227 -1.315444\n",
       "1   -1.143017 -0.131979 -1.340227 -1.315444\n",
       "2   -1.385353  0.328414 -1.397064 -1.315444\n",
       "3   -1.506521  0.098217 -1.283389 -1.315444\n",
       "4   -1.021849  1.249201 -1.340227 -1.315444\n",
       "..        ...       ...       ...       ...\n",
       "145  1.038005 -0.131979  0.819596  1.448832\n",
       "146  0.553333 -1.282963  0.705921  0.922303\n",
       "147  0.795669 -0.131979  0.819596  1.053935\n",
       "148  0.432165  0.788808  0.933271  1.448832\n",
       "149  0.068662 -0.131979  0.762758  0.790671\n",
       "\n",
       "[150 rows x 4 columns]"
      ]
     },
     "execution_count": 49,
     "metadata": {},
     "output_type": "execute_result"
    }
   ],
   "source": [
    "pd.DataFrame(X_std)"
   ]
  },
  {
   "cell_type": "code",
   "execution_count": 50,
   "metadata": {
    "ExecuteTime": {
     "end_time": "2020-05-16T15:42:47.191468Z",
     "start_time": "2020-05-16T15:42:47.185484Z"
    }
   },
   "outputs": [
    {
     "data": {
      "text/plain": [
       "[(0.5210659146701195, 'sepal length (cm)'),\n",
       " (-0.26934744250594356, 'sepal width (cm)'),\n",
       " (0.5804130957962945, 'petal length (cm)'),\n",
       " (0.5648565357793611, 'petal width (cm)')]"
      ]
     },
     "execution_count": 50,
     "metadata": {},
     "output_type": "execute_result"
    }
   ],
   "source": [
    "list(zip(pca.components_[0], iris.feature_names))"
   ]
  },
  {
   "cell_type": "markdown",
   "metadata": {},
   "source": [
    "### Yellowbrick - visualization"
   ]
  },
  {
   "cell_type": "code",
   "execution_count": 51,
   "metadata": {
    "ExecuteTime": {
     "end_time": "2020-05-16T15:44:22.372135Z",
     "start_time": "2020-05-16T15:44:22.247502Z"
    }
   },
   "outputs": [
    {
     "ename": "ModuleNotFoundError",
     "evalue": "No module named 'yellowbrick'",
     "output_type": "error",
     "traceback": [
      "\u001b[1;31m---------------------------------------------------------------------------\u001b[0m",
      "\u001b[1;31mModuleNotFoundError\u001b[0m                       Traceback (most recent call last)",
      "\u001b[1;32m<ipython-input-51-330a14d4552e>\u001b[0m in \u001b[0;36m<module>\u001b[1;34m\u001b[0m\n\u001b[1;32m----> 1\u001b[1;33m \u001b[1;32mfrom\u001b[0m \u001b[0myellowbrick\u001b[0m\u001b[1;33m.\u001b[0m\u001b[0mfeatures\u001b[0m\u001b[1;33m.\u001b[0m\u001b[0mpca\u001b[0m \u001b[1;32mimport\u001b[0m \u001b[0mPCADecomposition\u001b[0m\u001b[1;33m\u001b[0m\u001b[1;33m\u001b[0m\u001b[0m\n\u001b[0m\u001b[0;32m      2\u001b[0m \u001b[1;33m\u001b[0m\u001b[0m\n\u001b[0;32m      3\u001b[0m \u001b[0mvisualizer\u001b[0m \u001b[1;33m=\u001b[0m \u001b[0mPCADecomposition\u001b[0m\u001b[1;33m(\u001b[0m\u001b[0mscale\u001b[0m\u001b[1;33m=\u001b[0m\u001b[1;32mTrue\u001b[0m\u001b[1;33m,\u001b[0m \u001b[0mproj_features\u001b[0m\u001b[1;33m=\u001b[0m\u001b[1;32mTrue\u001b[0m\u001b[1;33m,\u001b[0m\u001b[1;33m)\u001b[0m\u001b[1;33m\u001b[0m\u001b[1;33m\u001b[0m\u001b[0m\n\u001b[0;32m      4\u001b[0m \u001b[0mvisualizer\u001b[0m\u001b[1;33m.\u001b[0m\u001b[0mfit_transform\u001b[0m\u001b[1;33m(\u001b[0m\u001b[0mpd\u001b[0m\u001b[1;33m.\u001b[0m\u001b[0mDataFrame\u001b[0m\u001b[1;33m(\u001b[0m\u001b[0mX_std\u001b[0m\u001b[1;33m,\u001b[0m \u001b[0mcolumns\u001b[0m\u001b[1;33m=\u001b[0m\u001b[0miris\u001b[0m\u001b[1;33m.\u001b[0m\u001b[0mfeature_names\u001b[0m\u001b[1;33m)\u001b[0m\u001b[1;33m)\u001b[0m\u001b[1;33m\u001b[0m\u001b[1;33m\u001b[0m\u001b[0m\n\u001b[0;32m      5\u001b[0m \u001b[0mvisualizer\u001b[0m\u001b[1;33m.\u001b[0m\u001b[0mshow\u001b[0m\u001b[1;33m(\u001b[0m\u001b[1;33m)\u001b[0m\u001b[1;33m\u001b[0m\u001b[1;33m\u001b[0m\u001b[0m\n",
      "\u001b[1;31mModuleNotFoundError\u001b[0m: No module named 'yellowbrick'"
     ]
    }
   ],
   "source": [
    "from yellowbrick.features.pca import PCADecomposition\n",
    "\n",
    "visualizer = PCADecomposition(scale=True, proj_features=True,)\n",
    "visualizer.fit_transform(pd.DataFrame(X_std, columns=iris.feature_names))\n",
    "visualizer.show()"
   ]
  },
  {
   "cell_type": "code",
   "execution_count": null,
   "metadata": {
    "ExecuteTime": {
     "end_time": "2020-04-20T20:09:56.238718Z",
     "start_time": "2020-04-20T20:09:56.234740Z"
    }
   },
   "outputs": [],
   "source": [
    "iris.feature_names"
   ]
  },
  {
   "cell_type": "code",
   "execution_count": null,
   "metadata": {
    "ExecuteTime": {
     "end_time": "2020-05-16T17:52:14.817728Z",
     "start_time": "2020-05-16T17:52:14.813740Z"
    }
   },
   "outputs": [],
   "source": [
    "pca.components_"
   ]
  },
  {
   "cell_type": "markdown",
   "metadata": {},
   "source": [
    "### 3D"
   ]
  },
  {
   "cell_type": "code",
   "execution_count": null,
   "metadata": {
    "ExecuteTime": {
     "end_time": "2020-05-16T15:46:44.328019Z",
     "start_time": "2020-05-16T15:46:44.213327Z"
    }
   },
   "outputs": [],
   "source": [
    "pca = PCA(n_components=3)\n",
    "pca.fit(X_std)\n",
    "\n",
    "pc1 = pca.transform(X_std)[:,0]\n",
    "pc2 = pca.transform(X_std)[:,1]\n",
    "pc3 = pca.transform(X_std)[:,2]\n",
    "\n",
    "from mpl_toolkits.mplot3d import Axes3D\n",
    "\n",
    "plt.figure(figsize=(12,8))\n",
    "ax = plt.axes(projection='3d',)\n",
    "ax.scatter3D(pc1, pc2, pc3, c=y, cmap='rainbow');\n",
    "# TODO, guilherme disse que é 3D 2D"
   ]
  },
  {
   "cell_type": "markdown",
   "metadata": {},
   "source": [
    "## US crime dataset"
   ]
  },
  {
   "cell_type": "code",
   "execution_count": null,
   "metadata": {
    "ExecuteTime": {
     "end_time": "2020-05-16T15:48:22.198253Z",
     "start_time": "2020-05-16T15:48:22.188280Z"
    },
    "scrolled": true
   },
   "outputs": [],
   "source": [
    "df = pd.read_csv('USArrests.csv', index_col=0)\n",
    "df.head()"
   ]
  },
  {
   "cell_type": "code",
   "execution_count": null,
   "metadata": {
    "ExecuteTime": {
     "end_time": "2020-05-16T15:48:59.642667Z",
     "start_time": "2020-05-16T15:48:59.639676Z"
    }
   },
   "outputs": [],
   "source": [
    "from sklearn.decomposition import PCA\n",
    "from sklearn.preprocessing import StandardScaler"
   ]
  },
  {
   "cell_type": "code",
   "execution_count": null,
   "metadata": {
    "ExecuteTime": {
     "end_time": "2020-05-16T15:55:21.006873Z",
     "start_time": "2020-05-16T15:55:20.991896Z"
    }
   },
   "outputs": [],
   "source": [
    "df_normalized = df.apply(lambda row : row / row['UrbanPop'], axis=1)\n",
    "df_normalized = df_normalized.drop('UrbanPop', axis=1)"
   ]
  },
  {
   "cell_type": "code",
   "execution_count": null,
   "metadata": {
    "ExecuteTime": {
     "end_time": "2020-05-16T15:55:30.912631Z",
     "start_time": "2020-05-16T15:55:30.898637Z"
    },
    "scrolled": true
   },
   "outputs": [],
   "source": [
    "df.sort_values(by='UrbanPop')"
   ]
  },
  {
   "cell_type": "code",
   "execution_count": null,
   "metadata": {
    "ExecuteTime": {
     "end_time": "2020-05-16T15:49:14.509196Z",
     "start_time": "2020-05-16T15:49:14.503187Z"
    }
   },
   "outputs": [],
   "source": [
    "pca = PCA(2)\n",
    "\n",
    "X_std = StandardScaler().fit_transform(df)\n",
    "pca.fit(X_std)"
   ]
  },
  {
   "cell_type": "code",
   "execution_count": null,
   "metadata": {
    "ExecuteTime": {
     "end_time": "2020-05-16T15:49:16.987095Z",
     "start_time": "2020-05-16T15:49:16.983079Z"
    }
   },
   "outputs": [],
   "source": [
    "pc1 = pca.transform(X_std)[:, 0]\n",
    "pc2 = pca.transform(X_std)[:, 1]"
   ]
  },
  {
   "cell_type": "code",
   "execution_count": null,
   "metadata": {
    "ExecuteTime": {
     "end_time": "2020-05-16T15:49:18.205374Z",
     "start_time": "2020-05-16T15:49:18.095666Z"
    }
   },
   "outputs": [],
   "source": [
    "plt.scatter(pc1, pc2)"
   ]
  },
  {
   "cell_type": "code",
   "execution_count": null,
   "metadata": {
    "ExecuteTime": {
     "end_time": "2020-05-16T15:49:27.624595Z",
     "start_time": "2020-05-16T15:49:27.250596Z"
    }
   },
   "outputs": [],
   "source": [
    "from yellowbrick.features import PCA\n",
    "visualizer = PCA(scale=True, proj_features=True)\n",
    "components = visualizer.fit_transform(df)\n",
    "\n",
    "for i, name in enumerate(df.index):\n",
    "    visualizer.ax.annotate(name, (components[i, 0]+0.1, components[i, 1]-.1))\n",
    "    \n",
    "visualizer.show()\n",
    "\n"
   ]
  },
  {
   "cell_type": "code",
   "execution_count": null,
   "metadata": {
    "ExecuteTime": {
     "end_time": "2020-05-16T17:53:12.099988Z",
     "start_time": "2020-05-16T17:53:12.093007Z"
    }
   },
   "outputs": [],
   "source": [
    "pd.DataFrame(zip(pca.components_[0], pca.components_[1], df.columns), columns=['pc1','pc2','columns'])"
   ]
  },
  {
   "cell_type": "markdown",
   "metadata": {},
   "source": [
    "## Defaulters"
   ]
  },
  {
   "cell_type": "code",
   "execution_count": null,
   "metadata": {
    "ExecuteTime": {
     "end_time": "2020-05-16T17:55:55.390954Z",
     "start_time": "2020-05-16T17:55:54.426472Z"
    }
   },
   "outputs": [],
   "source": [
    "from yellowbrick.datasets import load_credit\n",
    "from yellowbrick.features import PCA\n",
    "\n",
    "# Specify the features of interest and the target\n",
    "X, y = load_credit()\n",
    "classes = ['account in default', 'current with bills']\n",
    "\n",
    "visualizer = PCA(scale=True, classes=classes, proj_features=True)\n",
    "visualizer.fit_transform(X, y)\n",
    "visualizer.show()"
   ]
  },
  {
   "cell_type": "code",
   "execution_count": null,
   "metadata": {
    "ExecuteTime": {
     "end_time": "2020-05-16T17:58:27.374140Z",
     "start_time": "2020-05-16T17:58:27.371149Z"
    }
   },
   "outputs": [],
   "source": [
    "from sklearn.decomposition import PCA"
   ]
  },
  {
   "cell_type": "code",
   "execution_count": null,
   "metadata": {
    "ExecuteTime": {
     "end_time": "2020-05-16T17:58:30.309994Z",
     "start_time": "2020-05-16T17:58:30.200265Z"
    }
   },
   "outputs": [],
   "source": [
    "pca = PCA(n_components=2)\n",
    "pca.fit(scaler.fit_transform(X))"
   ]
  },
  {
   "cell_type": "code",
   "execution_count": null,
   "metadata": {
    "ExecuteTime": {
     "end_time": "2020-05-16T17:58:50.393073Z",
     "start_time": "2020-05-16T17:58:50.337223Z"
    }
   },
   "outputs": [],
   "source": [
    "pc1 = pca.transform(scaler.fit_transform(X))[:, 0]\n",
    "\n",
    "pc2 = pca.transform(scaler.fit_transform(X))[:, 1]"
   ]
  },
  {
   "cell_type": "code",
   "execution_count": null,
   "metadata": {
    "ExecuteTime": {
     "end_time": "2020-05-16T18:00:52.685832Z",
     "start_time": "2020-05-16T18:00:52.161235Z"
    }
   },
   "outputs": [],
   "source": [
    "plt.scatter(pc1, pc2, c=y, cmap='viridis')"
   ]
  },
  {
   "cell_type": "code",
   "execution_count": null,
   "metadata": {
    "ExecuteTime": {
     "end_time": "2020-05-16T18:01:15.229331Z",
     "start_time": "2020-05-16T18:01:15.224316Z"
    }
   },
   "outputs": [],
   "source": [
    "pca.explained_variance_ratio_"
   ]
  },
  {
   "cell_type": "code",
   "execution_count": null,
   "metadata": {
    "ExecuteTime": {
     "end_time": "2020-05-16T18:01:25.874035Z",
     "start_time": "2020-05-16T18:01:25.870047Z"
    }
   },
   "outputs": [],
   "source": [
    "pca.explained_variance_ratio_.cumsum()"
   ]
  },
  {
   "cell_type": "code",
   "execution_count": null,
   "metadata": {
    "ExecuteTime": {
     "end_time": "2020-05-16T18:01:36.602414Z",
     "start_time": "2020-05-16T18:01:36.598453Z"
    }
   },
   "outputs": [],
   "source": [
    "X.shape"
   ]
  },
  {
   "cell_type": "code",
   "execution_count": null,
   "metadata": {
    "ExecuteTime": {
     "end_time": "2020-05-16T17:59:51.178841Z",
     "start_time": "2020-05-16T17:59:51.168842Z"
    },
    "scrolled": true
   },
   "outputs": [],
   "source": [
    "pd.DataFrame(zip(pca.components_[0], pca.components_[1], X.columns), columns=['pc1','pc2','columns']).sort_values(by='pc1')"
   ]
  },
  {
   "cell_type": "markdown",
   "metadata": {
    "colab_type": "text",
    "id": "ToCJKm4wSNLr"
   },
   "source": [
    "## PCA for visualization: Hand-written digits\n",
    "\n",
    "The usefulness of the dimensionality reduction may not be entirely apparent in only two dimensions, but becomes much more clear when looking at high-dimensional data. "
   ]
  },
  {
   "cell_type": "code",
   "execution_count": null,
   "metadata": {
    "ExecuteTime": {
     "end_time": "2020-05-16T18:03:51.203098Z",
     "start_time": "2020-05-16T18:03:51.136276Z"
    },
    "colab": {},
    "colab_type": "code",
    "id": "EALOUOFnSNLs",
    "outputId": "083bde56-75ec-4149-c8ac-4c7fabaa442a"
   },
   "outputs": [],
   "source": [
    "from sklearn.datasets import load_digits\n",
    "digits = load_digits()\n",
    "digits.data.shape"
   ]
  },
  {
   "cell_type": "code",
   "execution_count": null,
   "metadata": {
    "ExecuteTime": {
     "end_time": "2020-05-16T18:06:27.774839Z",
     "start_time": "2020-05-16T18:06:27.712007Z"
    }
   },
   "outputs": [],
   "source": [
    "load_digits().data[0]"
   ]
  },
  {
   "cell_type": "code",
   "execution_count": null,
   "metadata": {
    "ExecuteTime": {
     "end_time": "2020-04-21T02:10:25.806864Z",
     "start_time": "2020-04-21T02:10:25.542542Z"
    }
   },
   "outputs": [],
   "source": [
    "pd.DataFrame(digits.data, columns=[f'pixel_{i}' for i in range(64)])"
   ]
  },
  {
   "cell_type": "code",
   "execution_count": null,
   "metadata": {
    "ExecuteTime": {
     "end_time": "2020-05-16T18:13:14.637567Z",
     "start_time": "2020-05-16T18:13:14.632580Z"
    }
   },
   "outputs": [],
   "source": [
    "digits.data.shape"
   ]
  },
  {
   "cell_type": "code",
   "execution_count": null,
   "metadata": {
    "ExecuteTime": {
     "end_time": "2020-05-16T18:11:50.874676Z",
     "start_time": "2020-05-16T18:11:50.870660Z"
    }
   },
   "outputs": [],
   "source": [
    "digits.data.max()"
   ]
  },
  {
   "cell_type": "code",
   "execution_count": null,
   "metadata": {
    "ExecuteTime": {
     "end_time": "2020-05-16T18:17:34.379872Z",
     "start_time": "2020-05-16T18:17:34.374912Z"
    }
   },
   "outputs": [],
   "source": [
    "digits.data[155, :]"
   ]
  },
  {
   "cell_type": "code",
   "execution_count": null,
   "metadata": {
    "ExecuteTime": {
     "end_time": "2020-05-16T18:17:45.929229Z",
     "start_time": "2020-05-16T18:17:45.924271Z"
    }
   },
   "outputs": [],
   "source": [
    "digits.data[155, :].reshape(8,8)"
   ]
  },
  {
   "cell_type": "code",
   "execution_count": null,
   "metadata": {
    "ExecuteTime": {
     "end_time": "2020-05-16T18:17:50.571345Z",
     "start_time": "2020-05-16T18:17:50.567356Z"
    }
   },
   "outputs": [],
   "source": [
    "digits.target[155]"
   ]
  },
  {
   "cell_type": "code",
   "execution_count": null,
   "metadata": {
    "ExecuteTime": {
     "end_time": "2020-05-16T18:19:20.156670Z",
     "start_time": "2020-05-16T18:19:20.151684Z"
    }
   },
   "outputs": [],
   "source": [
    "digits.target[1022]"
   ]
  },
  {
   "cell_type": "code",
   "execution_count": null,
   "metadata": {
    "ExecuteTime": {
     "end_time": "2020-05-16T18:19:07.144006Z",
     "start_time": "2020-05-16T18:19:07.026322Z"
    }
   },
   "outputs": [],
   "source": [
    "plt.imshow(digits.data[1022, :].reshape(8,8))"
   ]
  },
  {
   "cell_type": "code",
   "execution_count": null,
   "metadata": {
    "ExecuteTime": {
     "end_time": "2020-05-16T18:21:42.067794Z",
     "start_time": "2020-05-16T18:21:41.951106Z"
    }
   },
   "outputs": [],
   "source": [
    "plt.imshow(digits.data[0, :].reshape(8,8), cmap='binary')"
   ]
  },
  {
   "cell_type": "code",
   "execution_count": null,
   "metadata": {
    "ExecuteTime": {
     "end_time": "2020-05-16T18:21:52.067923Z",
     "start_time": "2020-05-16T18:21:51.955225Z"
    }
   },
   "outputs": [],
   "source": [
    "import matplotlib.pyplot as plt\n",
    "\n",
    "plt.imshow(np.array(digits.data[123].reshape(8,8)), cmap='Blues')"
   ]
  },
  {
   "cell_type": "code",
   "execution_count": null,
   "metadata": {
    "ExecuteTime": {
     "end_time": "2020-05-16T18:21:56.630693Z",
     "start_time": "2020-05-16T18:21:56.626704Z"
    }
   },
   "outputs": [],
   "source": [
    "digits.target[123]"
   ]
  },
  {
   "cell_type": "code",
   "execution_count": null,
   "metadata": {
    "ExecuteTime": {
     "end_time": "2020-05-16T18:22:09.277825Z",
     "start_time": "2020-05-16T18:22:09.257881Z"
    }
   },
   "outputs": [],
   "source": [
    "X = pd.DataFrame(digits.data, columns=[f'pixel_{i}' for i in range(64)])\n",
    "X.head()"
   ]
  },
  {
   "cell_type": "code",
   "execution_count": null,
   "metadata": {
    "ExecuteTime": {
     "end_time": "2020-05-16T18:22:12.146521Z",
     "start_time": "2020-05-16T18:22:12.122562Z"
    }
   },
   "outputs": [],
   "source": [
    "X"
   ]
  },
  {
   "cell_type": "markdown",
   "metadata": {
    "colab_type": "text",
    "id": "0MtBPgjYSNLv"
   },
   "source": [
    "Recall that the data consists of 8×8 pixel images, meaning that they are 64-dimensional.\n",
    "To gain some intuition into the relationships between these points, we can use PCA to project them to a more manageable number of dimensions, say two:"
   ]
  },
  {
   "cell_type": "code",
   "execution_count": null,
   "metadata": {
    "ExecuteTime": {
     "end_time": "2020-05-16T18:23:07.134217Z",
     "start_time": "2020-05-16T18:23:07.119230Z"
    }
   },
   "outputs": [],
   "source": [
    "pca = PCA(2) \n",
    "\n",
    "scaler = StandardScaler().fit(X)\n",
    "X_std = scaler.transform(X)\n",
    "\n",
    "pca.fit(X_std)\n",
    "pca.n_components_"
   ]
  },
  {
   "cell_type": "code",
   "execution_count": null,
   "metadata": {
    "ExecuteTime": {
     "end_time": "2020-05-16T18:23:09.529660Z",
     "start_time": "2020-05-16T18:23:09.525671Z"
    }
   },
   "outputs": [],
   "source": [
    "pca.explained_variance_ratio_"
   ]
  },
  {
   "cell_type": "code",
   "execution_count": null,
   "metadata": {
    "ExecuteTime": {
     "end_time": "2020-05-16T18:23:28.257972Z",
     "start_time": "2020-05-16T18:23:28.252986Z"
    }
   },
   "outputs": [],
   "source": [
    "pca.explained_variance_ratio_.sum()"
   ]
  },
  {
   "cell_type": "markdown",
   "metadata": {},
   "source": [
    "## Transform from 64 variables to 2 variables"
   ]
  },
  {
   "cell_type": "code",
   "execution_count": null,
   "metadata": {
    "ExecuteTime": {
     "end_time": "2020-05-16T18:24:14.623684Z",
     "start_time": "2020-05-16T18:24:14.618697Z"
    }
   },
   "outputs": [],
   "source": [
    "pc1 = pca.transform(X_std)[:, 0]\n",
    "pc2 = pca.transform(X_std)[:, 1]"
   ]
  },
  {
   "cell_type": "code",
   "execution_count": null,
   "metadata": {
    "ExecuteTime": {
     "end_time": "2020-05-16T18:27:01.067471Z",
     "start_time": "2020-05-16T18:27:01.058495Z"
    }
   },
   "outputs": [],
   "source": [
    "import pandas as pd\n",
    "df = pd.DataFrame({'pc1': pc1, 'pc2':pc2})\n",
    "df"
   ]
  },
  {
   "cell_type": "code",
   "execution_count": null,
   "metadata": {
    "ExecuteTime": {
     "end_time": "2020-05-16T18:24:23.885913Z",
     "start_time": "2020-05-16T18:24:23.880927Z"
    },
    "scrolled": true
   },
   "outputs": [],
   "source": [
    "pca.components_"
   ]
  },
  {
   "cell_type": "markdown",
   "metadata": {
    "colab_type": "text",
    "id": "hjXrN2cnSNLz"
   },
   "source": [
    "We can now plot the first two principal components of each point to learn about the data:"
   ]
  },
  {
   "cell_type": "code",
   "execution_count": null,
   "metadata": {
    "ExecuteTime": {
     "end_time": "2020-05-16T18:27:15.214949Z",
     "start_time": "2020-05-16T18:27:15.078318Z"
    }
   },
   "outputs": [],
   "source": [
    "plt.scatter(pc1, pc2)"
   ]
  },
  {
   "cell_type": "code",
   "execution_count": null,
   "metadata": {
    "ExecuteTime": {
     "end_time": "2020-05-16T18:30:30.180022Z",
     "start_time": "2020-05-16T18:30:29.992105Z"
    },
    "colab": {},
    "colab_type": "code",
    "id": "cl7Dy8z_SNL0",
    "outputId": "2e33e52b-7e6d-4e87-86f4-5d82fe282a7a"
   },
   "outputs": [],
   "source": [
    "plt.figure(figsize=(10,8))\n",
    "plt.scatter(df['pc1'], df['pc2'],\n",
    "            c=digits.target, edgecolor='none', alpha=1,\n",
    "            cmap=plt.cm.get_cmap('tab10', 10))\n",
    "plt.xlabel('Principal component 1')\n",
    "plt.ylabel('Principal component 2')\n",
    "plt.colorbar();"
   ]
  },
  {
   "cell_type": "code",
   "execution_count": null,
   "metadata": {
    "ExecuteTime": {
     "end_time": "2020-05-16T18:33:58.290906Z",
     "start_time": "2020-05-16T18:33:58.175216Z"
    }
   },
   "outputs": [],
   "source": [
    "plt.imshow(pca.components_[0].reshape(8,8))"
   ]
  },
  {
   "cell_type": "markdown",
   "metadata": {
    "colab_type": "text",
    "id": "8OFackEySNL2"
   },
   "source": [
    "Recall what these components mean: the full data is a 64-dimensional point cloud, and these points are the projection of each data point along the directions with the largest variance."
   ]
  },
  {
   "cell_type": "markdown",
   "metadata": {
    "colab_type": "text",
    "id": "GOGWextMSNL9"
   },
   "source": [
    "### Choosing the number of components\n",
    "\n",
    "A vital part of using PCA in practice is the ability to estimate how many components are needed to describe the data.\n",
    "This can be determined by looking at the cumulative *explained variance ratio* as a function of the number of components:"
   ]
  },
  {
   "cell_type": "code",
   "execution_count": null,
   "metadata": {
    "ExecuteTime": {
     "end_time": "2020-05-16T18:35:03.795630Z",
     "start_time": "2020-05-16T18:35:03.776681Z"
    }
   },
   "outputs": [],
   "source": [
    "pca = PCA(n_components=.8)\n",
    "pca.fit(X_std)"
   ]
  },
  {
   "cell_type": "code",
   "execution_count": null,
   "metadata": {
    "ExecuteTime": {
     "end_time": "2020-05-16T18:35:05.006080Z",
     "start_time": "2020-05-16T18:35:05.002090Z"
    }
   },
   "outputs": [],
   "source": [
    "pca.n_components_"
   ]
  },
  {
   "cell_type": "code",
   "execution_count": null,
   "metadata": {
    "ExecuteTime": {
     "end_time": "2020-05-16T18:35:38.630898Z",
     "start_time": "2020-05-16T18:35:38.626908Z"
    }
   },
   "outputs": [],
   "source": [
    "pca.explained_variance_ratio_"
   ]
  },
  {
   "cell_type": "code",
   "execution_count": null,
   "metadata": {
    "ExecuteTime": {
     "end_time": "2020-05-16T18:35:44.062214Z",
     "start_time": "2020-05-16T18:35:44.058251Z"
    }
   },
   "outputs": [],
   "source": [
    "pca.explained_variance_ratio_.cumsum()"
   ]
  },
  {
   "cell_type": "code",
   "execution_count": null,
   "metadata": {
    "ExecuteTime": {
     "end_time": "2020-05-16T18:35:21.254700Z",
     "start_time": "2020-05-16T18:35:21.250711Z"
    }
   },
   "outputs": [],
   "source": [
    "pca.explained_variance_ratio_.sum()"
   ]
  },
  {
   "cell_type": "code",
   "execution_count": null,
   "metadata": {
    "ExecuteTime": {
     "end_time": "2020-05-16T18:36:04.706566Z",
     "start_time": "2020-05-16T18:36:04.589878Z"
    },
    "colab": {},
    "colab_type": "code",
    "id": "tEWwx0_zSNL-",
    "outputId": "54ad55d6-a403-475a-8b10-f6731bddf7cc"
   },
   "outputs": [],
   "source": [
    "plt.plot(np.arange(1, pca.n_components_+1), np.cumsum(pca.explained_variance_ratio_), '-o')\n",
    "plt.xlabel('number of components')\n",
    "plt.ylabel('cumulative explained variance');"
   ]
  },
  {
   "cell_type": "markdown",
   "metadata": {
    "colab_type": "text",
    "id": "HIQGsq8gSNMC"
   },
   "source": [
    "## PCA as Noise Filtering\n",
    "\n",
    "PCA can also be used as a filtering approach for noisy data.\n",
    "The idea is this: any components with variance much larger than the effect of the noise should be relatively unaffected by the noise.\n",
    "So if you reconstruct the data using just the largest subset of principal components, you should be preferentially keeping the signal and throwing out the noise.\n",
    "\n",
    "Let's see how this looks with the digits data.\n",
    "First we will plot several of the input noise-free data:"
   ]
  },
  {
   "cell_type": "code",
   "execution_count": null,
   "metadata": {
    "ExecuteTime": {
     "end_time": "2020-05-16T18:40:00.539606Z",
     "start_time": "2020-05-16T18:39:59.573928Z"
    },
    "colab": {},
    "colab_type": "code",
    "id": "Pk4tmRAtSNMF",
    "outputId": "65677952-16be-49de-a9c4-cf2af93792ee"
   },
   "outputs": [],
   "source": [
    "def plot_digits(data):\n",
    "    fig, axes = plt.subplots(4, 10, figsize=(10, 4),\n",
    "                             subplot_kw={'xticks':[], 'yticks':[]},\n",
    "                             gridspec_kw=dict(hspace=0.1, wspace=0.1))\n",
    "    for i, ax in enumerate(axes.flat):\n",
    "        ax.imshow(data[i].reshape(8, 8),\n",
    "                  cmap='binary', interpolation='nearest',\n",
    "                  clim=(0, 16))\n",
    "\n",
    "plot_digits(digits.data)"
   ]
  },
  {
   "cell_type": "code",
   "execution_count": null,
   "metadata": {
    "ExecuteTime": {
     "end_time": "2020-05-16T18:40:22.641736Z",
     "start_time": "2020-05-16T18:40:22.636749Z"
    },
    "scrolled": true
   },
   "outputs": [],
   "source": [
    "digits.data[0].reshape(8,8)"
   ]
  },
  {
   "cell_type": "markdown",
   "metadata": {
    "colab_type": "text",
    "id": "VNwMQGrmSNMK"
   },
   "source": [
    "Now lets add some random noise to create a noisy dataset, and re-plot it:"
   ]
  },
  {
   "cell_type": "markdown",
   "metadata": {},
   "source": [
    "## Add noise to our data\n",
    "\n",
    "We'll use `np.random.normal` to create random numbers that follow a normal distribution. That is, if the number is 15 for example, we will switch it by a value picked from a normal distribution that has the mean centered at 15, with a standard deviation specified by us."
   ]
  },
  {
   "cell_type": "code",
   "execution_count": null,
   "metadata": {
    "ExecuteTime": {
     "end_time": "2020-05-16T18:42:37.039379Z",
     "start_time": "2020-05-16T18:42:37.035390Z"
    }
   },
   "outputs": [],
   "source": [
    "np.random.normal(loc=0)"
   ]
  },
  {
   "cell_type": "code",
   "execution_count": null,
   "metadata": {
    "ExecuteTime": {
     "end_time": "2020-05-16T18:42:38.641516Z",
     "start_time": "2020-05-16T18:42:37.814554Z"
    }
   },
   "outputs": [],
   "source": [
    "plot_digits(digits.data)"
   ]
  },
  {
   "cell_type": "code",
   "execution_count": null,
   "metadata": {
    "ExecuteTime": {
     "end_time": "2020-05-16T18:44:15.052660Z",
     "start_time": "2020-05-16T18:44:14.044209Z"
    },
    "colab": {},
    "colab_type": "code",
    "id": "rM-C7IMaSNMN",
    "outputId": "d9287e75-1005-4986-a49e-879af7f95a01"
   },
   "outputs": [],
   "source": [
    "np.random.seed(42)\n",
    "noisy = np.random.normal(loc=digits.data, scale=3)\n",
    "plot_digits(noisy)"
   ]
  },
  {
   "cell_type": "markdown",
   "metadata": {
    "colab_type": "text",
    "id": "GJ2dMnRfSNMQ"
   },
   "source": [
    "It's clear by eye that the images are noisy, and contain spurious pixels.\n",
    "Let's train a PCA on the noisy data, requesting that the projection preserve 50% of the variance:"
   ]
  },
  {
   "cell_type": "code",
   "execution_count": null,
   "metadata": {
    "ExecuteTime": {
     "end_time": "2020-05-16T19:03:51.545175Z",
     "start_time": "2020-05-16T19:03:51.528713Z"
    },
    "colab": {},
    "colab_type": "code",
    "id": "9gvbAAArSNMR",
    "outputId": "981972ce-1250-407f-992d-3087aa03627d"
   },
   "outputs": [],
   "source": [
    "pca = PCA(0.5)\n",
    "pca.fit(noisy)\n",
    "\n",
    "pca.n_components_"
   ]
  },
  {
   "cell_type": "markdown",
   "metadata": {
    "colab_type": "text",
    "id": "TCqU7dwhSNMT"
   },
   "source": [
    "The results show that 9 components are necessary to preserve 50% of the information.\n",
    "\n",
    "Now we compute these components, and then use the inverse of the transform to reconstruct the filtered digits:"
   ]
  },
  {
   "cell_type": "code",
   "execution_count": null,
   "metadata": {
    "ExecuteTime": {
     "end_time": "2020-05-16T19:03:52.695163Z",
     "start_time": "2020-05-16T19:03:51.881316Z"
    }
   },
   "outputs": [],
   "source": [
    "plot_digits(noisy)"
   ]
  },
  {
   "cell_type": "code",
   "execution_count": null,
   "metadata": {
    "ExecuteTime": {
     "end_time": "2020-05-16T19:03:53.677695Z",
     "start_time": "2020-05-16T19:03:52.697127Z"
    },
    "colab": {},
    "colab_type": "code",
    "id": "4ANXcm2gSNMU",
    "outputId": "c2741d43-8178-4526-d000-06f8b653d3eb"
   },
   "outputs": [],
   "source": [
    "pc = pca.transform(noisy)\n",
    "filtered = pca.inverse_transform(pc)\n",
    "plot_digits(filtered)"
   ]
  },
  {
   "cell_type": "code",
   "execution_count": null,
   "metadata": {
    "ExecuteTime": {
     "end_time": "2020-05-16T19:03:53.683706Z",
     "start_time": "2020-05-16T19:03:53.678694Z"
    }
   },
   "outputs": [],
   "source": [
    "noisy"
   ]
  },
  {
   "cell_type": "code",
   "execution_count": null,
   "metadata": {
    "ExecuteTime": {
     "end_time": "2020-05-16T19:03:53.689664Z",
     "start_time": "2020-05-16T19:03:53.684676Z"
    }
   },
   "outputs": [],
   "source": [
    "noisy.shape"
   ]
  },
  {
   "cell_type": "code",
   "execution_count": null,
   "metadata": {
    "ExecuteTime": {
     "end_time": "2020-05-16T19:03:53.697642Z",
     "start_time": "2020-05-16T19:03:53.691683Z"
    }
   },
   "outputs": [],
   "source": [
    "pca.transform(noisy)"
   ]
  },
  {
   "cell_type": "code",
   "execution_count": null,
   "metadata": {
    "ExecuteTime": {
     "end_time": "2020-05-16T19:03:53.705649Z",
     "start_time": "2020-05-16T19:03:53.699637Z"
    }
   },
   "outputs": [],
   "source": [
    "pca.transform(noisy).shape"
   ]
  },
  {
   "cell_type": "code",
   "execution_count": null,
   "metadata": {
    "ExecuteTime": {
     "end_time": "2020-05-16T19:03:53.712646Z",
     "start_time": "2020-05-16T19:03:53.707616Z"
    }
   },
   "outputs": [],
   "source": [
    "resultado_em_9_dimensoes = pca.transform(noisy)"
   ]
  },
  {
   "cell_type": "code",
   "execution_count": null,
   "metadata": {
    "ExecuteTime": {
     "end_time": "2020-05-16T19:03:53.779424Z",
     "start_time": "2020-05-16T19:03:53.774461Z"
    }
   },
   "outputs": [],
   "source": [
    "pca.inverse_transform(resultado_em_9_dimensoes)"
   ]
  },
  {
   "cell_type": "code",
   "execution_count": null,
   "metadata": {
    "ExecuteTime": {
     "end_time": "2020-05-16T19:04:31.794440Z",
     "start_time": "2020-05-16T19:04:31.681154Z"
    }
   },
   "outputs": [],
   "source": [
    "plt.imshow(noisy[3].reshape(8,8))"
   ]
  },
  {
   "cell_type": "code",
   "execution_count": null,
   "metadata": {
    "ExecuteTime": {
     "end_time": "2020-05-16T19:04:32.083674Z",
     "start_time": "2020-05-16T19:04:31.968946Z"
    }
   },
   "outputs": [],
   "source": [
    "plt.imshow(pca.inverse_transform(resultado_em_9_dimensoes)[3].reshape(8,8))"
   ]
  },
  {
   "cell_type": "markdown",
   "metadata": {
    "colab_type": "text",
    "id": "-uTAMJS0SNMW"
   },
   "source": [
    "This signal preserving/noise filtering property makes PCA a very useful feature selection routine—for example, rather than training a classifier on very high-dimensional data, you might instead train the classifier on the lower-dimensional representation, which will automatically serve to filter out random noise in the inputs."
   ]
  },
  {
   "cell_type": "code",
   "execution_count": null,
   "metadata": {},
   "outputs": [],
   "source": []
  },
  {
   "cell_type": "code",
   "execution_count": null,
   "metadata": {},
   "outputs": [],
   "source": []
  },
  {
   "cell_type": "code",
   "execution_count": null,
   "metadata": {},
   "outputs": [],
   "source": []
  },
  {
   "cell_type": "markdown",
   "metadata": {},
   "source": [
    "## What are the components?"
   ]
  },
  {
   "cell_type": "code",
   "execution_count": null,
   "metadata": {},
   "outputs": [],
   "source": []
  }
 ],
 "metadata": {
  "anaconda-cloud": {},
  "colab": {
   "name": "Copy of 05.09-Principal-Component-Analysis.ipynb",
   "provenance": [
    {
     "file_id": "https://github.com/jakevdp/PythonDataScienceHandbook/blob/master/notebooks/05.09-Principal-Component-Analysis.ipynb",
     "timestamp": 1568842246169
    }
   ]
  },
  "kernelspec": {
   "display_name": "Python 3",
   "language": "python",
   "name": "python3"
  },
  "language_info": {
   "codemirror_mode": {
    "name": "ipython",
    "version": 3
   },
   "file_extension": ".py",
   "mimetype": "text/x-python",
   "name": "python",
   "nbconvert_exporter": "python",
   "pygments_lexer": "ipython3",
   "version": "3.8.3"
  },
  "toc": {
   "base_numbering": 1,
   "nav_menu": {},
   "number_sections": true,
   "sideBar": true,
   "skip_h1_title": false,
   "title_cell": "Table of Contents",
   "title_sidebar": "Contents",
   "toc_cell": false,
   "toc_position": {},
   "toc_section_display": true,
   "toc_window_display": false
  }
 },
 "nbformat": 4,
 "nbformat_minor": 4
}
