{
 "cells": [
  {
   "cell_type": "code",
   "execution_count": 1,
   "metadata": {
    "colab": {},
    "colab_type": "code",
    "id": "VYCuUjzelsRi"
   },
   "outputs": [],
   "source": [
    "import pandas as pd\n",
    "basketball = pd.read_csv('https://raw.githubusercontent.com/evapanizo/IronHack-Data-Module-2/master/27.-Network-Analysis/data/us_mens_basketball.csv', sep=',')"
   ]
  },
  {
   "cell_type": "code",
   "execution_count": 2,
   "metadata": {
    "colab": {},
    "colab_type": "code",
    "id": "q769swdTlsRl",
    "outputId": "c19406ba-c94e-4bdf-b46e-a3a411fe9b3b"
   },
   "outputs": [
    {
     "data": {
      "text/html": [
       "<div>\n",
       "<style scoped>\n",
       "    .dataframe tbody tr th:only-of-type {\n",
       "        vertical-align: middle;\n",
       "    }\n",
       "\n",
       "    .dataframe tbody tr th {\n",
       "        vertical-align: top;\n",
       "    }\n",
       "\n",
       "    .dataframe thead th {\n",
       "        text-align: right;\n",
       "    }\n",
       "</style>\n",
       "<table border=\"1\" class=\"dataframe\">\n",
       "  <thead>\n",
       "    <tr style=\"text-align: right;\">\n",
       "      <th></th>\n",
       "      <th>ID</th>\n",
       "      <th>Name</th>\n",
       "      <th>Sex</th>\n",
       "      <th>Age</th>\n",
       "      <th>Height</th>\n",
       "      <th>Weight</th>\n",
       "      <th>Team</th>\n",
       "      <th>NOC</th>\n",
       "      <th>Games</th>\n",
       "      <th>Year</th>\n",
       "      <th>Season</th>\n",
       "      <th>City</th>\n",
       "      <th>Sport</th>\n",
       "      <th>Event</th>\n",
       "      <th>Medal</th>\n",
       "    </tr>\n",
       "  </thead>\n",
       "  <tbody>\n",
       "    <tr>\n",
       "      <th>0</th>\n",
       "      <td>351</td>\n",
       "      <td>Julius Shareef Abdur-Rahim</td>\n",
       "      <td>M</td>\n",
       "      <td>23.0</td>\n",
       "      <td>202.0</td>\n",
       "      <td>104.0</td>\n",
       "      <td>United States</td>\n",
       "      <td>USA</td>\n",
       "      <td>2000 Summer</td>\n",
       "      <td>2000</td>\n",
       "      <td>Summer</td>\n",
       "      <td>Sydney</td>\n",
       "      <td>Basketball</td>\n",
       "      <td>Basketball Men's Basketball</td>\n",
       "      <td>Gold</td>\n",
       "    </tr>\n",
       "    <tr>\n",
       "      <th>1</th>\n",
       "      <td>2636</td>\n",
       "      <td>Stephen Todd \"Steve\" Alford</td>\n",
       "      <td>M</td>\n",
       "      <td>19.0</td>\n",
       "      <td>185.0</td>\n",
       "      <td>74.0</td>\n",
       "      <td>United States</td>\n",
       "      <td>USA</td>\n",
       "      <td>1984 Summer</td>\n",
       "      <td>1984</td>\n",
       "      <td>Summer</td>\n",
       "      <td>Los Angeles</td>\n",
       "      <td>Basketball</td>\n",
       "      <td>Basketball Men's Basketball</td>\n",
       "      <td>Gold</td>\n",
       "    </tr>\n",
       "    <tr>\n",
       "      <th>2</th>\n",
       "      <td>2863</td>\n",
       "      <td>Walter Ray Allen</td>\n",
       "      <td>M</td>\n",
       "      <td>25.0</td>\n",
       "      <td>192.0</td>\n",
       "      <td>93.0</td>\n",
       "      <td>United States</td>\n",
       "      <td>USA</td>\n",
       "      <td>2000 Summer</td>\n",
       "      <td>2000</td>\n",
       "      <td>Summer</td>\n",
       "      <td>Sydney</td>\n",
       "      <td>Basketball</td>\n",
       "      <td>Basketball Men's Basketball</td>\n",
       "      <td>Gold</td>\n",
       "    </tr>\n",
       "    <tr>\n",
       "      <th>3</th>\n",
       "      <td>3874</td>\n",
       "      <td>William Lloyd \"Willie\" Anderson, Jr.</td>\n",
       "      <td>M</td>\n",
       "      <td>21.0</td>\n",
       "      <td>200.0</td>\n",
       "      <td>86.0</td>\n",
       "      <td>United States</td>\n",
       "      <td>USA</td>\n",
       "      <td>1988 Summer</td>\n",
       "      <td>1988</td>\n",
       "      <td>Summer</td>\n",
       "      <td>Seoul</td>\n",
       "      <td>Basketball</td>\n",
       "      <td>Basketball Men's Basketball</td>\n",
       "      <td>Bronze</td>\n",
       "    </tr>\n",
       "    <tr>\n",
       "      <th>4</th>\n",
       "      <td>4505</td>\n",
       "      <td>Carmelo Kyan Anthony</td>\n",
       "      <td>M</td>\n",
       "      <td>20.0</td>\n",
       "      <td>203.0</td>\n",
       "      <td>109.0</td>\n",
       "      <td>United States</td>\n",
       "      <td>USA</td>\n",
       "      <td>2004 Summer</td>\n",
       "      <td>2004</td>\n",
       "      <td>Summer</td>\n",
       "      <td>Athina</td>\n",
       "      <td>Basketball</td>\n",
       "      <td>Basketball Men's Basketball</td>\n",
       "      <td>Bronze</td>\n",
       "    </tr>\n",
       "  </tbody>\n",
       "</table>\n",
       "</div>"
      ],
      "text/plain": [
       "     ID                                  Name Sex   Age  Height  Weight  \\\n",
       "0   351            Julius Shareef Abdur-Rahim   M  23.0   202.0   104.0   \n",
       "1  2636           Stephen Todd \"Steve\" Alford   M  19.0   185.0    74.0   \n",
       "2  2863                      Walter Ray Allen   M  25.0   192.0    93.0   \n",
       "3  3874  William Lloyd \"Willie\" Anderson, Jr.   M  21.0   200.0    86.0   \n",
       "4  4505                  Carmelo Kyan Anthony   M  20.0   203.0   109.0   \n",
       "\n",
       "            Team  NOC        Games  Year  Season         City       Sport  \\\n",
       "0  United States  USA  2000 Summer  2000  Summer       Sydney  Basketball   \n",
       "1  United States  USA  1984 Summer  1984  Summer  Los Angeles  Basketball   \n",
       "2  United States  USA  2000 Summer  2000  Summer       Sydney  Basketball   \n",
       "3  United States  USA  1988 Summer  1988  Summer        Seoul  Basketball   \n",
       "4  United States  USA  2004 Summer  2004  Summer       Athina  Basketball   \n",
       "\n",
       "                         Event   Medal  \n",
       "0  Basketball Men's Basketball    Gold  \n",
       "1  Basketball Men's Basketball    Gold  \n",
       "2  Basketball Men's Basketball    Gold  \n",
       "3  Basketball Men's Basketball  Bronze  \n",
       "4  Basketball Men's Basketball  Bronze  "
      ]
     },
     "execution_count": 2,
     "metadata": {},
     "output_type": "execute_result"
    }
   ],
   "source": [
    "basketball.head()"
   ]
  },
  {
   "cell_type": "code",
   "execution_count": 5,
   "metadata": {
    "colab": {},
    "colab_type": "code",
    "id": "2d1kD_jAlsRo"
   },
   "outputs": [],
   "source": [
    "import networkx as nx\n",
    "import community\n",
    "import pandas as pd"
   ]
  },
  {
   "cell_type": "markdown",
   "metadata": {
    "colab_type": "text",
    "id": "huYLqMMnlsRq"
   },
   "source": [
    "# 1. Transform this data set into one that can be turned into a graph where the entities are represented by the Name field and the relationships are represented by whether the players played in the same Olympics together (Games field)."
   ]
  },
  {
   "cell_type": "code",
   "execution_count": 6,
   "metadata": {
    "colab": {},
    "colab_type": "code",
    "id": "S87nbjSelsRq",
    "outputId": "a6476045-f5d2-4715-b3ac-f5ae562fad12"
   },
   "outputs": [
    {
     "data": {
      "text/html": [
       "<div>\n",
       "<style scoped>\n",
       "    .dataframe tbody tr th:only-of-type {\n",
       "        vertical-align: middle;\n",
       "    }\n",
       "\n",
       "    .dataframe tbody tr th {\n",
       "        vertical-align: top;\n",
       "    }\n",
       "\n",
       "    .dataframe thead th {\n",
       "        text-align: right;\n",
       "    }\n",
       "</style>\n",
       "<table border=\"1\" class=\"dataframe\">\n",
       "  <thead>\n",
       "    <tr style=\"text-align: right;\">\n",
       "      <th></th>\n",
       "      <th>ID</th>\n",
       "      <th>Name</th>\n",
       "      <th>Sex</th>\n",
       "      <th>Age</th>\n",
       "      <th>Height</th>\n",
       "      <th>Weight</th>\n",
       "      <th>Team</th>\n",
       "      <th>NOC</th>\n",
       "      <th>Games</th>\n",
       "      <th>Year</th>\n",
       "      <th>Season</th>\n",
       "      <th>City</th>\n",
       "      <th>Sport</th>\n",
       "      <th>Event</th>\n",
       "      <th>Medal</th>\n",
       "    </tr>\n",
       "  </thead>\n",
       "  <tbody>\n",
       "    <tr>\n",
       "      <th>0</th>\n",
       "      <td>351</td>\n",
       "      <td>Julius Shareef Abdur-Rahim</td>\n",
       "      <td>M</td>\n",
       "      <td>23.0</td>\n",
       "      <td>202.0</td>\n",
       "      <td>104.0</td>\n",
       "      <td>United States</td>\n",
       "      <td>USA</td>\n",
       "      <td>2000 Summer</td>\n",
       "      <td>2000</td>\n",
       "      <td>Summer</td>\n",
       "      <td>Sydney</td>\n",
       "      <td>Basketball</td>\n",
       "      <td>Basketball Men's Basketball</td>\n",
       "      <td>Gold</td>\n",
       "    </tr>\n",
       "    <tr>\n",
       "      <th>1</th>\n",
       "      <td>2636</td>\n",
       "      <td>Stephen Todd \"Steve\" Alford</td>\n",
       "      <td>M</td>\n",
       "      <td>19.0</td>\n",
       "      <td>185.0</td>\n",
       "      <td>74.0</td>\n",
       "      <td>United States</td>\n",
       "      <td>USA</td>\n",
       "      <td>1984 Summer</td>\n",
       "      <td>1984</td>\n",
       "      <td>Summer</td>\n",
       "      <td>Los Angeles</td>\n",
       "      <td>Basketball</td>\n",
       "      <td>Basketball Men's Basketball</td>\n",
       "      <td>Gold</td>\n",
       "    </tr>\n",
       "    <tr>\n",
       "      <th>2</th>\n",
       "      <td>2863</td>\n",
       "      <td>Walter Ray Allen</td>\n",
       "      <td>M</td>\n",
       "      <td>25.0</td>\n",
       "      <td>192.0</td>\n",
       "      <td>93.0</td>\n",
       "      <td>United States</td>\n",
       "      <td>USA</td>\n",
       "      <td>2000 Summer</td>\n",
       "      <td>2000</td>\n",
       "      <td>Summer</td>\n",
       "      <td>Sydney</td>\n",
       "      <td>Basketball</td>\n",
       "      <td>Basketball Men's Basketball</td>\n",
       "      <td>Gold</td>\n",
       "    </tr>\n",
       "    <tr>\n",
       "      <th>3</th>\n",
       "      <td>3874</td>\n",
       "      <td>William Lloyd \"Willie\" Anderson, Jr.</td>\n",
       "      <td>M</td>\n",
       "      <td>21.0</td>\n",
       "      <td>200.0</td>\n",
       "      <td>86.0</td>\n",
       "      <td>United States</td>\n",
       "      <td>USA</td>\n",
       "      <td>1988 Summer</td>\n",
       "      <td>1988</td>\n",
       "      <td>Summer</td>\n",
       "      <td>Seoul</td>\n",
       "      <td>Basketball</td>\n",
       "      <td>Basketball Men's Basketball</td>\n",
       "      <td>Bronze</td>\n",
       "    </tr>\n",
       "    <tr>\n",
       "      <th>4</th>\n",
       "      <td>4505</td>\n",
       "      <td>Carmelo Kyan Anthony</td>\n",
       "      <td>M</td>\n",
       "      <td>20.0</td>\n",
       "      <td>203.0</td>\n",
       "      <td>109.0</td>\n",
       "      <td>United States</td>\n",
       "      <td>USA</td>\n",
       "      <td>2004 Summer</td>\n",
       "      <td>2004</td>\n",
       "      <td>Summer</td>\n",
       "      <td>Athina</td>\n",
       "      <td>Basketball</td>\n",
       "      <td>Basketball Men's Basketball</td>\n",
       "      <td>Bronze</td>\n",
       "    </tr>\n",
       "  </tbody>\n",
       "</table>\n",
       "</div>"
      ],
      "text/plain": [
       "     ID                                  Name Sex   Age  Height  Weight  \\\n",
       "0   351            Julius Shareef Abdur-Rahim   M  23.0   202.0   104.0   \n",
       "1  2636           Stephen Todd \"Steve\" Alford   M  19.0   185.0    74.0   \n",
       "2  2863                      Walter Ray Allen   M  25.0   192.0    93.0   \n",
       "3  3874  William Lloyd \"Willie\" Anderson, Jr.   M  21.0   200.0    86.0   \n",
       "4  4505                  Carmelo Kyan Anthony   M  20.0   203.0   109.0   \n",
       "\n",
       "            Team  NOC        Games  Year  Season         City       Sport  \\\n",
       "0  United States  USA  2000 Summer  2000  Summer       Sydney  Basketball   \n",
       "1  United States  USA  1984 Summer  1984  Summer  Los Angeles  Basketball   \n",
       "2  United States  USA  2000 Summer  2000  Summer       Sydney  Basketball   \n",
       "3  United States  USA  1988 Summer  1988  Summer        Seoul  Basketball   \n",
       "4  United States  USA  2004 Summer  2004  Summer       Athina  Basketball   \n",
       "\n",
       "                         Event   Medal  \n",
       "0  Basketball Men's Basketball    Gold  \n",
       "1  Basketball Men's Basketball    Gold  \n",
       "2  Basketball Men's Basketball    Gold  \n",
       "3  Basketball Men's Basketball  Bronze  \n",
       "4  Basketball Men's Basketball  Bronze  "
      ]
     },
     "execution_count": 6,
     "metadata": {},
     "output_type": "execute_result"
    }
   ],
   "source": [
    "basketball.head()"
   ]
  },
  {
   "cell_type": "code",
   "execution_count": 7,
   "metadata": {
    "colab": {},
    "colab_type": "code",
    "id": "NoBB44urlsRs"
   },
   "outputs": [],
   "source": [
    "def df_to_graph(df, entity, edge):\n",
    "    ''' Transform a dataframe into another dataframe suitable to work with graphs.'''\n",
    "    graph_df = pd.merge(df, df, how='inner', on=edge)\n",
    "    graph_df = graph_df.groupby([f'{entity}_x', f'{entity}_y']).count().reset_index()\n",
    "    graph_df = graph_df.query(f'{entity}_x != {entity}_y')\n",
    "\n",
    "    if type(edge) == list:\n",
    "        graph_df = graph_df.loc[:, [entity + '_x', entity + '_y'] + edge]\n",
    "    else:\n",
    "        graph_df = graph_df.loc[:, [entity + '_x', entity + '_y', edge]]\n",
    "    \n",
    "    return graph_df.rename(columns={f'{entity}_x':f'{entity}_src', \n",
    "                                    f'{entity}_y':f'{entity}_dest'})"
   ]
  },
  {
   "cell_type": "markdown",
   "metadata": {
    "colab_type": "text",
    "id": "sSuUkEKVlsRv"
   },
   "source": [
    "# 2. Use the from_pandas_edgelist method to turn the data frame into a graph."
   ]
  },
  {
   "cell_type": "code",
   "execution_count": 9,
   "metadata": {},
   "outputs": [],
   "source": [
    "alter_basketball = df_to_graph(df=basketball,entity='Name',edge='Games')"
   ]
  },
  {
   "cell_type": "code",
   "execution_count": 12,
   "metadata": {},
   "outputs": [
    {
     "data": {
      "text/html": [
       "<div>\n",
       "<style scoped>\n",
       "    .dataframe tbody tr th:only-of-type {\n",
       "        vertical-align: middle;\n",
       "    }\n",
       "\n",
       "    .dataframe tbody tr th {\n",
       "        vertical-align: top;\n",
       "    }\n",
       "\n",
       "    .dataframe thead th {\n",
       "        text-align: right;\n",
       "    }\n",
       "</style>\n",
       "<table border=\"1\" class=\"dataframe\">\n",
       "  <thead>\n",
       "    <tr style=\"text-align: right;\">\n",
       "      <th></th>\n",
       "      <th>Name_src</th>\n",
       "      <th>Name_dest</th>\n",
       "      <th>Games</th>\n",
       "    </tr>\n",
       "  </thead>\n",
       "  <tbody>\n",
       "    <tr>\n",
       "      <th>1</th>\n",
       "      <td>Adrian Delano Dantley</td>\n",
       "      <td>Ernest \"Ernie\" Grunfeld</td>\n",
       "      <td>1</td>\n",
       "    </tr>\n",
       "    <tr>\n",
       "      <th>2</th>\n",
       "      <td>Adrian Delano Dantley</td>\n",
       "      <td>Kenneth Alan \"Kenny\" Carr</td>\n",
       "      <td>1</td>\n",
       "    </tr>\n",
       "    <tr>\n",
       "      <th>3</th>\n",
       "      <td>Adrian Delano Dantley</td>\n",
       "      <td>Michel Taylor \"Tate\" Armstrong</td>\n",
       "      <td>1</td>\n",
       "    </tr>\n",
       "    <tr>\n",
       "      <th>4</th>\n",
       "      <td>Adrian Delano Dantley</td>\n",
       "      <td>Mitchell William \"Mitch\" Kupchak</td>\n",
       "      <td>1</td>\n",
       "    </tr>\n",
       "    <tr>\n",
       "      <th>5</th>\n",
       "      <td>Adrian Delano Dantley</td>\n",
       "      <td>Philip Jackson \"Phil\" Ford, Jr.</td>\n",
       "      <td>1</td>\n",
       "    </tr>\n",
       "    <tr>\n",
       "      <th>...</th>\n",
       "      <td>...</td>\n",
       "      <td>...</td>\n",
       "      <td>...</td>\n",
       "    </tr>\n",
       "    <tr>\n",
       "      <th>2654</th>\n",
       "      <td>Wilmer Frederick \"Bill\" Hosket</td>\n",
       "      <td>John Richard Clawson</td>\n",
       "      <td>1</td>\n",
       "    </tr>\n",
       "    <tr>\n",
       "      <th>2655</th>\n",
       "      <td>Wilmer Frederick \"Bill\" Hosket</td>\n",
       "      <td>Joseph Henry \"Jo-Jo\" White</td>\n",
       "      <td>1</td>\n",
       "    </tr>\n",
       "    <tr>\n",
       "      <th>2656</th>\n",
       "      <td>Wilmer Frederick \"Bill\" Hosket</td>\n",
       "      <td>Michael Barnwell \"Mike\" Silliman</td>\n",
       "      <td>1</td>\n",
       "    </tr>\n",
       "    <tr>\n",
       "      <th>2657</th>\n",
       "      <td>Wilmer Frederick \"Bill\" Hosket</td>\n",
       "      <td>Michael Thomas \"Mike\" Barrett</td>\n",
       "      <td>1</td>\n",
       "    </tr>\n",
       "    <tr>\n",
       "      <th>2658</th>\n",
       "      <td>Wilmer Frederick \"Bill\" Hosket</td>\n",
       "      <td>Spencer Haywood</td>\n",
       "      <td>1</td>\n",
       "    </tr>\n",
       "  </tbody>\n",
       "</table>\n",
       "<p>2464 rows × 3 columns</p>\n",
       "</div>"
      ],
      "text/plain": [
       "                            Name_src                         Name_dest  Games\n",
       "1              Adrian Delano Dantley           Ernest \"Ernie\" Grunfeld      1\n",
       "2              Adrian Delano Dantley         Kenneth Alan \"Kenny\" Carr      1\n",
       "3              Adrian Delano Dantley    Michel Taylor \"Tate\" Armstrong      1\n",
       "4              Adrian Delano Dantley  Mitchell William \"Mitch\" Kupchak      1\n",
       "5              Adrian Delano Dantley   Philip Jackson \"Phil\" Ford, Jr.      1\n",
       "...                              ...                               ...    ...\n",
       "2654  Wilmer Frederick \"Bill\" Hosket              John Richard Clawson      1\n",
       "2655  Wilmer Frederick \"Bill\" Hosket        Joseph Henry \"Jo-Jo\" White      1\n",
       "2656  Wilmer Frederick \"Bill\" Hosket  Michael Barnwell \"Mike\" Silliman      1\n",
       "2657  Wilmer Frederick \"Bill\" Hosket     Michael Thomas \"Mike\" Barrett      1\n",
       "2658  Wilmer Frederick \"Bill\" Hosket                   Spencer Haywood      1\n",
       "\n",
       "[2464 rows x 3 columns]"
      ]
     },
     "execution_count": 12,
     "metadata": {},
     "output_type": "execute_result"
    }
   ],
   "source": [
    "alter_basketball"
   ]
  },
  {
   "cell_type": "code",
   "execution_count": 14,
   "metadata": {
    "colab": {},
    "colab_type": "code",
    "id": "a6T7hoChlsRv"
   },
   "outputs": [],
   "source": [
    "basket_graph = nx.from_pandas_edgelist(alter_basketball,source='Name_src',target='Name_dest')"
   ]
  },
  {
   "cell_type": "markdown",
   "metadata": {
    "colab_type": "text",
    "id": "n5QXNYjZlsRx"
   },
   "source": [
    "# 3. Compute and print the following graph statistics for the graph:¶\n"
   ]
  },
  {
   "cell_type": "markdown",
   "metadata": {
    "colab_type": "text",
    "id": "mnMvLam3lsRy"
   },
   "source": [
    "* Number of nodes\n",
    "* Number of edges\n",
    "* Average degree\n",
    "* Density"
   ]
  },
  {
   "cell_type": "code",
   "execution_count": 32,
   "metadata": {},
   "outputs": [
    {
     "ename": "KeyError",
     "evalue": "1",
     "output_type": "error",
     "traceback": [
      "\u001b[1;31m---------------------------------------------------------------------------\u001b[0m",
      "\u001b[1;31mKeyError\u001b[0m                                  Traceback (most recent call last)",
      "\u001b[1;32m<ipython-input-32-84dbb044d838>\u001b[0m in \u001b[0;36m<module>\u001b[1;34m\u001b[0m\n\u001b[1;32m----> 1\u001b[1;33m \u001b[0msum\u001b[0m\u001b[1;33m(\u001b[0m\u001b[0mbasket_graph\u001b[0m\u001b[1;33m.\u001b[0m\u001b[0mdegree\u001b[0m\u001b[1;33m(\u001b[0m\u001b[1;33m)\u001b[0m\u001b[1;33m[\u001b[0m\u001b[1;36m1\u001b[0m\u001b[1;33m]\u001b[0m\u001b[1;33m)\u001b[0m\u001b[1;33m\u001b[0m\u001b[1;33m\u001b[0m\u001b[0m\n\u001b[0m",
      "\u001b[1;32mc:\\users\\rodri\\appdata\\local\\programs\\python\\python38-32\\lib\\site-packages\\networkx\\classes\\reportviews.py\u001b[0m in \u001b[0;36m__getitem__\u001b[1;34m(self, n)\u001b[0m\n\u001b[0;32m    434\u001b[0m     \u001b[1;32mdef\u001b[0m \u001b[0m__getitem__\u001b[0m\u001b[1;33m(\u001b[0m\u001b[0mself\u001b[0m\u001b[1;33m,\u001b[0m \u001b[0mn\u001b[0m\u001b[1;33m)\u001b[0m\u001b[1;33m:\u001b[0m\u001b[1;33m\u001b[0m\u001b[1;33m\u001b[0m\u001b[0m\n\u001b[0;32m    435\u001b[0m         \u001b[0mweight\u001b[0m \u001b[1;33m=\u001b[0m \u001b[0mself\u001b[0m\u001b[1;33m.\u001b[0m\u001b[0m_weight\u001b[0m\u001b[1;33m\u001b[0m\u001b[1;33m\u001b[0m\u001b[0m\n\u001b[1;32m--> 436\u001b[1;33m         \u001b[0mnbrs\u001b[0m \u001b[1;33m=\u001b[0m \u001b[0mself\u001b[0m\u001b[1;33m.\u001b[0m\u001b[0m_succ\u001b[0m\u001b[1;33m[\u001b[0m\u001b[0mn\u001b[0m\u001b[1;33m]\u001b[0m\u001b[1;33m\u001b[0m\u001b[1;33m\u001b[0m\u001b[0m\n\u001b[0m\u001b[0;32m    437\u001b[0m         \u001b[1;32mif\u001b[0m \u001b[0mweight\u001b[0m \u001b[1;32mis\u001b[0m \u001b[1;32mNone\u001b[0m\u001b[1;33m:\u001b[0m\u001b[1;33m\u001b[0m\u001b[1;33m\u001b[0m\u001b[0m\n\u001b[0;32m    438\u001b[0m             \u001b[1;32mreturn\u001b[0m \u001b[0mlen\u001b[0m\u001b[1;33m(\u001b[0m\u001b[0mnbrs\u001b[0m\u001b[1;33m)\u001b[0m \u001b[1;33m+\u001b[0m \u001b[1;33m(\u001b[0m\u001b[0mn\u001b[0m \u001b[1;32min\u001b[0m \u001b[0mnbrs\u001b[0m\u001b[1;33m)\u001b[0m\u001b[1;33m\u001b[0m\u001b[1;33m\u001b[0m\u001b[0m\n",
      "\u001b[1;31mKeyError\u001b[0m: 1"
     ]
    }
   ],
   "source": [
    "basket_graph."
   ]
  },
  {
   "cell_type": "code",
   "execution_count": 27,
   "metadata": {
    "colab": {},
    "colab_type": "code",
    "id": "QGSFH8DPlsRy"
   },
   "outputs": [
    {
     "name": "stdout",
     "output_type": "stream",
     "text": [
      "Number of nodes: 1232\n",
      "Number of edges: 1232\n",
      "Average degree: [('Adrian Delano Dantley', 11), ('Ernest \"Ernie\" Grunfeld', 11), ('Kenneth Alan \"Kenny\" Carr', 11), ('Michel Taylor \"Tate\" Armstrong', 11), ('Mitchell William \"Mitch\" Kupchak', 11), ('Philip Jackson \"Phil\" Ford, Jr.', 11), ('Phillip Gregory \"Phil\" Hubbard', 11), ('Scott Glenn May', 11), ('Steven Bernard \"Steve\" Sheppard', 11), ('Thomas Joseph \"Tom\" LaGarde', 11), ('Walter Paul Davis', 11), ('William Quinn Buckner', 11), ('Adrian Howard Smith', 11), ('Burdette Eliele \"Burdie\" Haldorson', 22), ('Darrall Tucker Imhoff', 11), ('Earl Allen Kelley', 11), ('Jay Joseph Hoyland Arnette', 11), ('Jerome Alan \"Jerry\" West', 11), ('Jerry Ray Lucas', 11), ('Lester Everett \"Les\" Lane', 11), ('Oscar Palmer Robertson', 11), ('Robert Lewis \"Bob\" Boozer', 11), ('Terence Gilbert \"Terry\" Dischinger', 11), ('Walter Jones \"Walt\" Bellamy, Jr.', 11), ('Alexander John \"Alex\" Groza', 13), ('Clifford Eugene \"Cliff\" Barker', 13), ('Donald Argee \"Don\" Barksdale', 13), ('Gordon C. Carpenter', 13), ('Jesse Banard Renick', 13), ('Kenneth Herman \"Kenny\" Rollins', 13), ('Lewis William \"Lew\" Beck, Jr.', 13), ('Ralph Milton Beard, Jr.', 13), ('Raymond George \"Ray\" Lumpp', 13), ('Robert Albert \"Bob\" Kurland', 26), ('Robert C. \"R. C.\" Pitts', 13), ('Robert Lloyd Jackson \"Jack\" Robinson', 13), ('Vincent Joseph \"Vince\" Boryla', 13), ('Wallace Clayton \"Wally\" Jones', 13), ('Allan Wade Houston', 11), ('Alonzo Harding Mourning', 11), ('Antonio Keithflen McDyess', 11), ('Gary Dwayne Payton', 22), ('Jason Frederick Kidd', 22), ('Julius Shareef Abdur-Rahim', 11), ('Kevin Maurice Garnett', 11), ('Steven Delano \"Steve\" Smith', 11), ('Timothy Duane \"Tim\" Hardaway', 11), ('Vincent Lamar \"Vince\" Carter', 11), ('Vincent Lamont \"Vin\" Baker', 11), ('Walter Ray Allen', 11), ('Allen Ezail Iverson', 11), (\"Amar'e Carsares Stoudemire\", 11), ('Carlos Austin Boozer, Jr.', 19), ('Carmelo Kyan Anthony', 36), ('Chukwuemeka Noubuisi \"Emeka\" Okafor', 11), ('Dwyane Tyrone Wade, Jr.', 19), ('Lamar Joseph Odom', 11), ('LeBron Raymone James', 26), ('Richard Allen Jefferson', 11), ('Shawn Dwayne Marion', 11), ('Stephon Xavier Marbury', 11), ('Timothy Theodore \"Tim\" Duncan', 11), ('Alvin Cyrrale Robertson', 11), ('Christopher Paul \"Chris\" Mullin', 20), ('Jeffrey Stephen \"Jeff\" Turner', 11), ('Jon Francis Koncak', 11), ('Joseph William \"Joe\" Kleine', 11), ('Michael Jeffrey Jordan', 20), ('Osie Leon Wood, III', 11), ('Patrick Aloysius Ewing', 20), ('Samuel Bruce \"Sam\" Perkins', 11), ('Stephen Todd \"Steve\" Alford', 11), ('Vernon \"Vern\" Fleming', 11), ('Wayman Lawrence Tisdale', 11), ('Andre Tyler Iguodala', 11), ('Anthony Marshon Davis, Jr.', 11), ('Christopher Emmanuel \"Chris\" Paul', 18), ('Deron Michael Williams', 18), ('James Edward Harden, Jr.', 11), ('Kevin Wayne Durant', 21), ('Kevin Wesley Love', 11), ('Kobe Bean Bryant', 18), ('Russell Westbrook, Jr.', 11), ('Tyson Cleotis Chandler', 11), ('Anfernee Deon \"Penny\" Hardaway', 11), ('Charles Wade Barkley', 18), ('David Maurice Robinson', 28), ('Grant Henry Hill', 11), ('Hakeem Abdul Olajuwon', 11), ('John Houston Stockton', 18), ('Karl Malone', 18), ('Mitchell James \"Mitch\" Richmond, III', 21), ('Reginald Wayne \"Reggie\" Miller', 11), ('Scottie Maurice Pippen', 18), (\"Shaquille Rashuan O'Neal\", 11), ('Arthur Owen \"Art\" Mollner', 13), ('Carl Leslie Shy', 13), ('Carl Stanley Knowles', 13), ('Donald Arthur \"Don\" Piper', 13), ('Duane Alexander Swanson', 13), ('Francis Lee Johnson', 13), ('Frank John Lubin', 13), ('Jack Williamson Ragland', 13), ('John Haskell \"Tex\" Gibbons', 13), ('Joseph Cephis \"Joe\" Fortenberry', 13), ('Ralph English Bishop', 13), ('Samuel J. \"Sam\" Balter, Jr.', 13), ('Willard Theodore Schmidt', 13), ('William John \"Bill\" Wheatley', 13), ('Carl Cecil Cain', 11), ('Charles Frick \"Chuck\" Darling', 11), ('Gilbert \"Gib\" Ford', 11), ('James Patrick \"Jim\" Walsh', 11), ('K. C. Jones', 11), ('Richard James \"Dick\" Boushka', 11), ('Robert Eugene \"Bob\" Jeangerard', 11), ('Ronald Paul \"Ron\" Tomsic', 11), ('William Best \"Billy\" Evans', 11), ('William Fenton \"Bill\" Russell', 11), ('William Marion \"Bill\" Hougland', 24), ('Calvin Bernard \"Cal\" Fowler', 11), ('Charles Thomas \"Charlie\" Scott', 11), ('Donald Francis \"Don\" Dee', 11), ('Glynn Saulters', 11), ('James H. \"Jim\" King', 11), ('John Kenneth \"Ken\" Spain', 11), ('John Richard Clawson', 11), ('Joseph Henry \"Jo-Jo\" White', 11), ('Michael Barnwell \"Mike\" Silliman', 11), ('Michael Thomas \"Mike\" Barrett', 11), ('Spencer Haywood', 11), ('Wilmer Frederick \"Bill\" Hosket', 11), ('Christopher Wesson \"Chris\" Bosh', 11), ('Dwight David Howard', 11), ('Michael Wesley Redd', 11), ('Tayshaun Durell Prince', 11), ('DeMar Darnell DeRozan', 11), ('DeMarcus Amir Cousins', 11), ('Draymond Jamal Green', 11), ('Harrison Bryce Jordan Barnes', 11), ('Hyland DeAndre Jordan, Jr.', 11), ('Jimmy Butler III', 11), ('Klay Alexander Thompson', 11), ('Kyle Lowry', 11), ('Kyrie Andrew Irving', 11), ('Paul George', 11), ('Charles Daniel H. Smith', 11), ('Charles Edward Smith, IV', 11), ('Daniel Lewis \"Dan\" Majerle', 11), ('Daniel Ricardo \"Danny\" Manning', 11), ('Herman \"J. R.\" Reid, Jr.', 11), ('Hersey R. Hawkins, Jr.', 11), ('Jeffrey \"Jeff\" Grayer', 11), ('Stacey Orlando Augmon', 11), ('Vernell Eufaye \"Bimbo\" Coles', 11), ('William Lloyd \"Willie\" Anderson, Jr.', 11), ('Charles Monroe \"Charlie\" Hoag', 13), ('Clyde Edward Lovellette', 13), ('Dan Luther Pippin', 13), ('Frank Reilly McCabe', 13), ('Howard Earl \"Howie\" Williams', 13), ('John Frederick Keller', 13), ('Marcus Ross \"Marc\" Freiberger', 13), ('Melvin Dean Kelley', 13), ('Robert Earl \"Bob\" Kenney', 13), ('Ronald Yngve \"Ron\" Bontemps', 13), ('Victor Wayne Glasgow', 13), ('William Barner \"Bill\" Lienhard', 13), ('Charles Thomas \"Tom\" McMillen', 11), ('Dwight Elmo Jones', 11), ('James Ricardo \"Jim\" Forbes', 11), ('James Turner \"Jim\" Brewer', 11), ('Kenneth Bryan \"Kenny\" Davis', 11), ('Kevin Francis Joyce', 11), ('Michael Allen \"Mike\" Bantom', 11), ('Paul Douglas \"Doug\" Collins', 11), ('Robert Clyde \"Bobby\" Jones', 11), ('Thomas Edward \"Tom\" Henderson', 11), ('Tommy Loren Burleson', 11), ('William Edward \"Ed\" Ratleff', 11), ('Christian Donald Laettner', 11), ('Clyde Austin Drexler', 11), ('Earvin \"Magic\" Johnson, Jr.', 11), ('Larry Joe Bird', 11), ('George \"Jiff\" Wilson', 11), ('Jeffrey Vincent \"Jeff\" Mullins', 11), ('Jerry Franklin Shipp', 11), ('John Paul \"Pete\" McCaffrey', 11), ('Joseph Louis \"Joe\" Caldwell', 11), ('Lawrence Harvey \"Larry\" Brown', 11), ('Lucious Brown \"Luke\" Jackson, Jr.', 11), ('Melvin Grant \"Mel\" Counts', 11), ('Richard Allen \"Dick\" Davies', 11), ('Velvet James \"Jim\" Barnes', 11), ('Walter Raphael \"Walt\" Hazzard', 11), ('William Warren \"Bill\" Bradley', 11)]\n"
     ]
    }
   ],
   "source": [
    "print(f'Number of nodes: {basket_graph.number_of_edges()}') \n",
    "print(f'Number of edges: {basket_graph.number_of_edges()}')              \n",
    "print(f'Average degree: {basket_graph.degree()}')         \n",
    "#print(f'Density: {int(basket_graph.number_of_edges) / int(basket_graph.number_of_nodes)}') "
   ]
  },
  {
   "cell_type": "markdown",
   "metadata": {
    "colab_type": "text",
    "id": "EJvXetN7lsR0"
   },
   "source": [
    "# 4. Compute betweenness centrality for the graph and print the top 5 nodes with the highest centrality."
   ]
  },
  {
   "cell_type": "code",
   "execution_count": null,
   "metadata": {
    "colab": {},
    "colab_type": "code",
    "id": "A6lwOS1ClsR1"
   },
   "outputs": [],
   "source": []
  },
  {
   "cell_type": "markdown",
   "metadata": {
    "colab_type": "text",
    "id": "JmVf_HQ2lsR3"
   },
   "source": [
    "# 5. Compute PageRank centrality for the graph and print the top 5 nodes with the highest centrality."
   ]
  },
  {
   "cell_type": "code",
   "execution_count": null,
   "metadata": {
    "colab": {},
    "colab_type": "code",
    "id": "dBoynJQmlsR3"
   },
   "outputs": [],
   "source": []
  },
  {
   "cell_type": "markdown",
   "metadata": {
    "colab_type": "text",
    "id": "CbXWbihXlsR6"
   },
   "source": [
    "# 6. Compute degree centrality for the graph and print the top 5 nodes with the highest centrality.¶\n"
   ]
  },
  {
   "cell_type": "code",
   "execution_count": null,
   "metadata": {
    "colab": {},
    "colab_type": "code",
    "id": "CUlmknwxlsR6"
   },
   "outputs": [],
   "source": []
  },
  {
   "cell_type": "markdown",
   "metadata": {
    "colab_type": "text",
    "id": "hMNqDdn5lsR9"
   },
   "source": [
    "# 7. Generate a network visualization for the entire graph using a Kamada-Kawai force-directed layout.\n",
    "\n",
    "Look for nx.draw_kamada_kawai for reference. \n"
   ]
  },
  {
   "cell_type": "code",
   "execution_count": null,
   "metadata": {
    "colab": {},
    "colab_type": "code",
    "id": "g70yj1edlsR9"
   },
   "outputs": [],
   "source": []
  },
  {
   "cell_type": "markdown",
   "metadata": {
    "colab_type": "text",
    "id": "vMA-W-xAlsR_"
   },
   "source": [
    "# 8. Create and visualize an ego graph for the player with the highest betweenness centrality.\n",
    "\n",
    "nx.ego_graph will help you visualize a graph centered at some node."
   ]
  },
  {
   "cell_type": "code",
   "execution_count": null,
   "metadata": {
    "colab": {},
    "colab_type": "code",
    "id": "quxuphTllsR_"
   },
   "outputs": [],
   "source": []
  },
  {
   "cell_type": "markdown",
   "metadata": {
    "colab_type": "text",
    "id": "JSteupsolsSB"
   },
   "source": [
    "# 9. Identify the communities within the entire graph and produce another visualization of it with the nodes color-coded by the community they belong to.\n"
   ]
  },
  {
   "cell_type": "code",
   "execution_count": null,
   "metadata": {
    "colab": {},
    "colab_type": "code",
    "id": "iD-wLNPXlsSB"
   },
   "outputs": [],
   "source": []
  },
  {
   "cell_type": "code",
   "execution_count": null,
   "metadata": {
    "colab": {},
    "colab_type": "code",
    "id": "s1fNbvvFlsSD"
   },
   "outputs": [],
   "source": []
  },
  {
   "cell_type": "code",
   "execution_count": null,
   "metadata": {
    "colab": {},
    "colab_type": "code",
    "id": "HAYc_AhNlsSF"
   },
   "outputs": [],
   "source": []
  },
  {
   "cell_type": "code",
   "execution_count": null,
   "metadata": {
    "colab": {},
    "colab_type": "code",
    "id": "RjVY_b4alsSH"
   },
   "outputs": [],
   "source": [
    "\n"
   ]
  },
  {
   "cell_type": "code",
   "execution_count": null,
   "metadata": {
    "colab": {},
    "colab_type": "code",
    "id": "RpSNniiAlsSJ"
   },
   "outputs": [],
   "source": []
  }
 ],
 "metadata": {
  "colab": {
   "collapsed_sections": [],
   "name": "lab-complex-networks.ipynb",
   "provenance": []
  },
  "kernelspec": {
   "display_name": "Python 3",
   "language": "python",
   "name": "python3"
  },
  "language_info": {
   "codemirror_mode": {
    "name": "ipython",
    "version": 3
   },
   "file_extension": ".py",
   "mimetype": "text/x-python",
   "name": "python",
   "nbconvert_exporter": "python",
   "pygments_lexer": "ipython3",
   "version": "3.8.2"
  }
 },
 "nbformat": 4,
 "nbformat_minor": 4
}
