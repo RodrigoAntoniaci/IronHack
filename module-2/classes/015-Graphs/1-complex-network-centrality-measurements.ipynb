{
 "cells": [
  {
   "cell_type": "code",
   "execution_count": null,
   "metadata": {
    "ExecuteTime": {
     "end_time": "2020-05-12T23:26:05.986730Z",
     "start_time": "2020-05-12T23:26:05.983738Z"
    }
   },
   "outputs": [],
   "source": [
    "import pandas as pd\n",
    "import matplotlib.pyplot as plt\n",
    "import numpy as np"
   ]
  },
  {
   "cell_type": "markdown",
   "metadata": {},
   "source": [
    "# Centrality Measures"
   ]
  },
  {
   "cell_type": "code",
   "execution_count": null,
   "metadata": {
    "ExecuteTime": {
     "end_time": "2020-05-12T23:26:44.673954Z",
     "start_time": "2020-05-12T23:26:06.324883Z"
    }
   },
   "outputs": [],
   "source": [
    "import pandas as pd\n",
    "df = pd.read_csv('https://raw.githubusercontent.com/rfordatascience/tidytuesday/master/data/2019/2019-02-26/small_trains.csv')"
   ]
  },
  {
   "cell_type": "code",
   "execution_count": null,
   "metadata": {
    "ExecuteTime": {
     "end_time": "2020-05-12T23:29:43.492755Z",
     "start_time": "2020-05-12T23:29:43.480787Z"
    }
   },
   "outputs": [],
   "source": [
    "df.head()"
   ]
  },
  {
   "cell_type": "code",
   "execution_count": null,
   "metadata": {
    "ExecuteTime": {
     "end_time": "2020-05-12T23:30:34.391213Z",
     "start_time": "2020-05-12T23:30:34.386227Z"
    }
   },
   "outputs": [],
   "source": [
    "df.shape"
   ]
  },
  {
   "cell_type": "code",
   "execution_count": null,
   "metadata": {
    "ExecuteTime": {
     "end_time": "2020-05-12T23:30:55.689453Z",
     "start_time": "2020-05-12T23:30:55.679480Z"
    }
   },
   "outputs": [],
   "source": [
    "data = df[['departure_station','arrival_station']]\n",
    "data"
   ]
  },
  {
   "cell_type": "code",
   "execution_count": null,
   "metadata": {
    "ExecuteTime": {
     "end_time": "2020-05-12T23:31:05.669543Z",
     "start_time": "2020-05-12T23:31:05.666551Z"
    }
   },
   "outputs": [],
   "source": [
    "import networkx as nx"
   ]
  },
  {
   "cell_type": "code",
   "execution_count": null,
   "metadata": {
    "ExecuteTime": {
     "end_time": "2020-05-12T23:31:07.405318Z",
     "start_time": "2020-05-12T23:31:07.399334Z"
    }
   },
   "outputs": [],
   "source": [
    "data.head()"
   ]
  },
  {
   "cell_type": "code",
   "execution_count": null,
   "metadata": {
    "ExecuteTime": {
     "end_time": "2020-05-12T23:33:02.615374Z",
     "start_time": "2020-05-12T23:33:02.610387Z"
    }
   },
   "outputs": [],
   "source": [
    "data['distance'] = np.random.randint(1, 100, size=data.shape[0])"
   ]
  },
  {
   "cell_type": "code",
   "execution_count": null,
   "metadata": {
    "ExecuteTime": {
     "end_time": "2020-05-12T23:33:04.199610Z",
     "start_time": "2020-05-12T23:33:04.190634Z"
    }
   },
   "outputs": [],
   "source": [
    "data"
   ]
  },
  {
   "cell_type": "code",
   "execution_count": null,
   "metadata": {},
   "outputs": [],
   "source": [
    "nx.from_pandas_edgelist"
   ]
  },
  {
   "cell_type": "code",
   "execution_count": null,
   "metadata": {
    "ExecuteTime": {
     "end_time": "2020-05-12T23:33:24.976926Z",
     "start_time": "2020-05-12T23:33:24.899094Z"
    }
   },
   "outputs": [],
   "source": [
    "G = nx.from_pandas_edgelist(data, 'departure_station', 'arrival_station', edge_attr='distance')"
   ]
  },
  {
   "cell_type": "code",
   "execution_count": null,
   "metadata": {
    "ExecuteTime": {
     "end_time": "2020-05-12T23:35:37.371782Z",
     "start_time": "2020-05-12T23:35:37.238140Z"
    }
   },
   "outputs": [],
   "source": [
    "plt.figure(figsize=(15,10))\n",
    "\n",
    "nx.draw(G)"
   ]
  },
  {
   "cell_type": "code",
   "execution_count": null,
   "metadata": {
    "ExecuteTime": {
     "end_time": "2020-05-12T23:37:51.045665Z",
     "start_time": "2020-05-12T23:37:51.038683Z"
    },
    "scrolled": true
   },
   "outputs": [],
   "source": [
    "sorted(dict(G.degree).items(), key=lambda x : x[1], reverse=True)"
   ]
  },
  {
   "cell_type": "code",
   "execution_count": null,
   "metadata": {
    "ExecuteTime": {
     "end_time": "2020-05-12T23:39:07.721501Z",
     "start_time": "2020-05-12T23:39:07.716490Z"
    }
   },
   "outputs": [],
   "source": [
    "dict(G.degree()).values()"
   ]
  },
  {
   "cell_type": "code",
   "execution_count": null,
   "metadata": {
    "ExecuteTime": {
     "end_time": "2020-05-12T23:39:23.411469Z",
     "start_time": "2020-05-12T23:39:23.407480Z"
    }
   },
   "outputs": [],
   "source": [
    "G.order()"
   ]
  },
  {
   "cell_type": "code",
   "execution_count": null,
   "metadata": {
    "ExecuteTime": {
     "end_time": "2020-05-12T23:39:32.427166Z",
     "start_time": "2020-05-12T23:39:32.423177Z"
    }
   },
   "outputs": [],
   "source": [
    "print('Number of edges:', G.size())\n",
    "print('Average degree:', sum(dict(G.degree()).values())/G.order())\n",
    "print('Density:', nx.density(G))"
   ]
  },
  {
   "cell_type": "markdown",
   "metadata": {},
   "source": [
    "# Centrality Measures"
   ]
  },
  {
   "cell_type": "markdown",
   "metadata": {},
   "source": [
    "## Degree"
   ]
  },
  {
   "cell_type": "code",
   "execution_count": null,
   "metadata": {
    "ExecuteTime": {
     "end_time": "2020-05-12T23:43:50.859437Z",
     "start_time": "2020-05-12T23:43:50.850437Z"
    }
   },
   "outputs": [],
   "source": [
    "degree = nx.degree_centrality(G)\n",
    "degree = pd.DataFrame.from_dict(degree, orient='index').reset_index()\n",
    "degree.columns = ['Node', 'Degree Centrality']\n",
    "degree.sort_values('Degree Centrality', ascending=False).head()"
   ]
  },
  {
   "cell_type": "markdown",
   "metadata": {},
   "source": [
    "# Betweenness Centrality"
   ]
  },
  {
   "cell_type": "code",
   "execution_count": null,
   "metadata": {
    "ExecuteTime": {
     "end_time": "2020-05-12T23:44:42.665475Z",
     "start_time": "2020-05-12T23:44:42.559111Z"
    }
   },
   "outputs": [],
   "source": [
    "nx.draw(G, node_size=50)"
   ]
  },
  {
   "cell_type": "code",
   "execution_count": null,
   "metadata": {
    "ExecuteTime": {
     "end_time": "2020-05-12T23:52:09.587844Z",
     "start_time": "2020-05-12T23:52:09.583855Z"
    }
   },
   "outputs": [],
   "source": [
    "G.edges['PARIS LYON','LYON PART DIEU']"
   ]
  },
  {
   "cell_type": "code",
   "execution_count": null,
   "metadata": {
    "ExecuteTime": {
     "end_time": "2020-05-12T23:45:07.827838Z",
     "start_time": "2020-05-12T23:45:07.814871Z"
    },
    "scrolled": true
   },
   "outputs": [],
   "source": [
    "nx.betweenness_centrality(G)"
   ]
  },
  {
   "cell_type": "code",
   "execution_count": null,
   "metadata": {
    "ExecuteTime": {
     "end_time": "2020-05-12T23:49:37.741173Z",
     "start_time": "2020-05-12T23:49:37.723221Z"
    }
   },
   "outputs": [],
   "source": [
    "# maior betweeness é o ponto que se você remover, afeta mais o grafo \n",
    "betweenness = nx.betweenness_centrality(G)\n",
    "\n",
    "betweenness\n",
    "betweenness = pd.DataFrame.from_dict(betweenness, orient='index').reset_index()\n",
    "betweenness.columns = ['Node', 'Betweenness Centrality']\n",
    "betweenness.sort_values('Betweenness Centrality', ascending=False).head()"
   ]
  },
  {
   "cell_type": "markdown",
   "metadata": {},
   "source": [
    "# Pagerank"
   ]
  },
  {
   "cell_type": "markdown",
   "metadata": {},
   "source": [
    "Pagerank mede a relevância de um nó baseado não só em quantos vizinhos ele tem, mas também medindo quantos vizinhos importantes ele tem"
   ]
  },
  {
   "cell_type": "code",
   "execution_count": null,
   "metadata": {
    "ExecuteTime": {
     "end_time": "2020-05-12T23:54:25.588286Z",
     "start_time": "2020-05-12T23:54:25.566344Z"
    }
   },
   "outputs": [],
   "source": [
    "pagerank = nx.pagerank(G)\n",
    "\n",
    "pagerank = pd.DataFrame.from_dict(pagerank, orient='index').reset_index()\n",
    "pagerank.columns = ['Node', 'PageRank Centrality']\n",
    "pagerank.sort_values('PageRank Centrality', ascending=False).head()"
   ]
  },
  {
   "cell_type": "code",
   "execution_count": null,
   "metadata": {
    "ExecuteTime": {
     "end_time": "2020-05-12T23:55:13.046941Z",
     "start_time": "2020-05-12T23:55:12.903326Z"
    }
   },
   "outputs": [],
   "source": [
    "nx.draw_kamada_kawai(G, node_size=20,)"
   ]
  },
  {
   "cell_type": "markdown",
   "metadata": {},
   "source": [
    "# Ego graph"
   ]
  },
  {
   "cell_type": "code",
   "execution_count": null,
   "metadata": {
    "ExecuteTime": {
     "end_time": "2020-05-12T23:55:45.093597Z",
     "start_time": "2020-05-12T23:55:45.088617Z"
    }
   },
   "outputs": [],
   "source": [
    "nx.ego_graph(G, 'PARIS LYON', radius=1)"
   ]
  },
  {
   "cell_type": "code",
   "execution_count": null,
   "metadata": {
    "ExecuteTime": {
     "end_time": "2020-05-12T23:58:52.250494Z",
     "start_time": "2020-05-12T23:58:52.132783Z"
    }
   },
   "outputs": [],
   "source": [
    "ego = nx.ego_graph(G, 'PARIS EST', radius=3)\n",
    "nx.draw_kamada_kawai(ego, node_size=20, node_color='cyan', with_labels=True)\n",
    "\n",
    "sorted(nx.betweenness_centrality(ego).items(), key=lambda x : x[1], reverse=True)"
   ]
  },
  {
   "cell_type": "markdown",
   "metadata": {},
   "source": [
    "# Converting non-graph dataframes to edge lists"
   ]
  },
  {
   "cell_type": "markdown",
   "metadata": {},
   "source": [
    "## Simpsons Network"
   ]
  },
  {
   "cell_type": "code",
   "execution_count": null,
   "metadata": {
    "ExecuteTime": {
     "end_time": "2020-05-13T00:48:49.754811Z",
     "start_time": "2020-05-13T00:48:47.849007Z"
    }
   },
   "outputs": [],
   "source": [
    "df = pd.read_csv('https://raw.githubusercontent.com/rfordatascience/tidytuesday/master/data/2019/2019-08-27/simpsons-guests.csv', sep='|')"
   ]
  },
  {
   "cell_type": "code",
   "execution_count": null,
   "metadata": {
    "ExecuteTime": {
     "end_time": "2020-05-13T00:49:48.571301Z",
     "start_time": "2020-05-13T00:49:48.562324Z"
    }
   },
   "outputs": [],
   "source": [
    "df.head()"
   ]
  },
  {
   "cell_type": "code",
   "execution_count": null,
   "metadata": {
    "ExecuteTime": {
     "end_time": "2020-05-13T00:53:29.282503Z",
     "start_time": "2020-05-13T00:53:29.276519Z"
    }
   },
   "outputs": [],
   "source": [
    "def df_to_graph(df, node, edge):\n",
    "    ''' \n",
    "    Transform a dataframe into another dataframe suitable to work with graphs.\n",
    "    '''\n",
    "    \n",
    "    graph_df = pd.merge(df, df, how='inner', on=edge)\n",
    "    graph_df = graph_df.groupby([f'{node}_x', f'{node}_y']).count().reset_index()\n",
    "    graph_df = graph_df.query(f'{node}_x != {node}_y')\n",
    "\n",
    "    if type(edge) == list:\n",
    "        graph_df = graph_df.loc[:, [node + '_x', node + '_y'] + edge]\n",
    "    else:\n",
    "        graph_df = graph_df.loc[:, [node + '_x', node + '_y', edge]]\n",
    "    \n",
    "    return graph_df.rename(columns={f'{node}_x':f'{node}_src', \n",
    "                                    f'{node}_y':f'{node}_dest',\n",
    "                                    f'{edge}':f'{edge}_count'})\n"
   ]
  },
  {
   "cell_type": "code",
   "execution_count": null,
   "metadata": {
    "ExecuteTime": {
     "end_time": "2020-05-13T00:53:49.663255Z",
     "start_time": "2020-05-13T00:53:49.637175Z"
    }
   },
   "outputs": [],
   "source": [
    "df_to_graph(df = df, node='guest_star', edge='episode_title')"
   ]
  },
  {
   "cell_type": "code",
   "execution_count": null,
   "metadata": {
    "ExecuteTime": {
     "end_time": "2020-05-13T00:55:05.909259Z",
     "start_time": "2020-05-13T00:55:05.884326Z"
    },
    "scrolled": true
   },
   "outputs": [],
   "source": [
    "graph_df = df_to_graph(df, 'guest_star', 'episode_title')\n",
    "graph_df.sort_values(by='episode_title_count')"
   ]
  },
  {
   "cell_type": "code",
   "execution_count": null,
   "metadata": {
    "ExecuteTime": {
     "end_time": "2020-05-13T00:56:04.776699Z",
     "start_time": "2020-05-13T00:56:03.346785Z"
    }
   },
   "outputs": [],
   "source": [
    "G = nx.from_pandas_edgelist(graph_df, 'guest_star_src', 'guest_star_dest')\n",
    "print('Number of edges:', G.size())\n",
    "print('Average degree:', sum(dict(G.degree()).values())/G.order())\n",
    "print('Density:', nx.density(G))\n",
    "\n",
    "betweenness = nx.betweenness_centrality(G, weight='edge')\n",
    "betweenness = pd.DataFrame.from_dict(betweenness, orient='index').reset_index()\n",
    "betweenness.columns = ['Node', 'Betweenness Centrality']\n",
    "betweenness.sort_values('Betweenness Centrality', ascending=False).head()"
   ]
  },
  {
   "cell_type": "code",
   "execution_count": null,
   "metadata": {
    "ExecuteTime": {
     "end_time": "2020-05-13T00:57:58.157144Z",
     "start_time": "2020-05-13T00:57:58.055416Z"
    }
   },
   "outputs": [],
   "source": [
    "pagerank = nx.pagerank(G, weight='edge')\n",
    "pagerank = pd.DataFrame.from_dict(pagerank, orient='index').reset_index()\n",
    "pagerank.columns = ['Node', 'Pagerank Centrality']\n",
    "pagerank.sort_values('Pagerank Centrality', ascending=False).head()"
   ]
  },
  {
   "cell_type": "code",
   "execution_count": null,
   "metadata": {
    "ExecuteTime": {
     "end_time": "2020-05-13T00:58:32.105283Z",
     "start_time": "2020-05-13T00:58:31.336622Z"
    }
   },
   "outputs": [],
   "source": [
    "bb = nx.betweenness_centrality(G)\n",
    "nx.set_node_attributes(G, bb, 'betweenness')"
   ]
  },
  {
   "cell_type": "code",
   "execution_count": null,
   "metadata": {
    "ExecuteTime": {
     "end_time": "2020-05-13T00:58:36.095012Z",
     "start_time": "2020-05-13T00:58:32.643854Z"
    }
   },
   "outputs": [],
   "source": [
    "#d = dict(G.degree)\n",
    "#d\n",
    "nx.draw(G, nodelist=bb.keys(), node_size=2, edge_size=2)"
   ]
  },
  {
   "cell_type": "code",
   "execution_count": null,
   "metadata": {
    "ExecuteTime": {
     "end_time": "2020-05-13T00:59:21.519976Z",
     "start_time": "2020-05-13T00:59:04.129326Z"
    }
   },
   "outputs": [],
   "source": [
    "nx.draw_kamada_kawai(G, node_size=20, node_color='cyan')"
   ]
  },
  {
   "cell_type": "code",
   "execution_count": null,
   "metadata": {
    "ExecuteTime": {
     "end_time": "2020-05-13T00:59:47.323786Z",
     "start_time": "2020-05-13T00:59:47.312783Z"
    }
   },
   "outputs": [],
   "source": [
    "df"
   ]
  },
  {
   "cell_type": "code",
   "execution_count": null,
   "metadata": {
    "ExecuteTime": {
     "end_time": "2020-05-13T00:59:50.291058Z",
     "start_time": "2020-05-13T00:59:50.287069Z"
    }
   },
   "outputs": [],
   "source": [
    "len(list(G.neighbors('Marcia Wallace')))"
   ]
  },
  {
   "cell_type": "markdown",
   "metadata": {},
   "source": [
    "# Interactive Visualization"
   ]
  },
  {
   "cell_type": "code",
   "execution_count": null,
   "metadata": {
    "ExecuteTime": {
     "end_time": "2020-04-13T07:28:18.006931Z",
     "start_time": "2020-04-13T07:28:18.003939Z"
    }
   },
   "outputs": [],
   "source": [
    "# !pip install pyvis"
   ]
  },
  {
   "cell_type": "code",
   "execution_count": null,
   "metadata": {
    "ExecuteTime": {
     "end_time": "2020-05-13T01:00:31.011295Z",
     "start_time": "2020-05-13T01:00:31.004313Z"
    }
   },
   "outputs": [],
   "source": [
    "graph_df.head()"
   ]
  },
  {
   "cell_type": "code",
   "execution_count": null,
   "metadata": {
    "ExecuteTime": {
     "end_time": "2020-05-13T01:00:35.701350Z",
     "start_time": "2020-05-13T01:00:35.697361Z"
    }
   },
   "outputs": [],
   "source": [
    "G"
   ]
  },
  {
   "cell_type": "code",
   "execution_count": null,
   "metadata": {
    "ExecuteTime": {
     "end_time": "2020-05-13T01:00:57.070532Z",
     "start_time": "2020-05-13T01:00:57.066571Z"
    }
   },
   "outputs": [],
   "source": [
    "from pyvis.network import Network"
   ]
  },
  {
   "cell_type": "code",
   "execution_count": null,
   "metadata": {
    "ExecuteTime": {
     "end_time": "2020-05-13T01:01:02.575730Z",
     "start_time": "2020-05-13T01:01:02.565757Z"
    }
   },
   "outputs": [],
   "source": [
    "g = Network(notebook=True)"
   ]
  },
  {
   "cell_type": "code",
   "execution_count": null,
   "metadata": {
    "ExecuteTime": {
     "end_time": "2020-05-13T01:01:03.532807Z",
     "start_time": "2020-05-13T01:01:03.528818Z"
    }
   },
   "outputs": [],
   "source": [
    "G.nodes()"
   ]
  },
  {
   "cell_type": "code",
   "execution_count": null,
   "metadata": {
    "ExecuteTime": {
     "end_time": "2020-05-13T01:01:16.723110Z",
     "start_time": "2020-05-13T01:01:16.566530Z"
    }
   },
   "outputs": [],
   "source": [
    "g.from_nx(G)"
   ]
  },
  {
   "cell_type": "code",
   "execution_count": null,
   "metadata": {
    "ExecuteTime": {
     "end_time": "2020-05-13T01:01:18.045437Z",
     "start_time": "2020-05-13T01:01:18.041447Z"
    }
   },
   "outputs": [],
   "source": [
    "g"
   ]
  },
  {
   "cell_type": "code",
   "execution_count": null,
   "metadata": {
    "ExecuteTime": {
     "end_time": "2020-05-13T01:03:58.152042Z",
     "start_time": "2020-05-13T01:03:58.143066Z"
    }
   },
   "outputs": [],
   "source": [
    "\n",
    "g.show_buttons()\n",
    "g.show('test.html', )"
   ]
  },
  {
   "cell_type": "markdown",
   "metadata": {},
   "source": [
    "# Game of Thrones Graph"
   ]
  },
  {
   "cell_type": "code",
   "execution_count": null,
   "metadata": {
    "ExecuteTime": {
     "end_time": "2020-05-13T01:09:50.891806Z",
     "start_time": "2020-05-13T01:09:50.887817Z"
    }
   },
   "outputs": [],
   "source": [
    "url = 'https://www.macalester.edu/~abeverid/data/stormofswords.csv'\n",
    "got_data = pd.read_csv(url)\n",
    "G = nx.from_pandas_edgelist(got_data, 'Source','Target', edge_attr='Weight')"
   ]
  },
  {
   "cell_type": "code",
   "execution_count": null,
   "metadata": {
    "ExecuteTime": {
     "end_time": "2020-05-13T01:12:25.954378Z",
     "start_time": "2020-05-13T01:12:25.921466Z"
    }
   },
   "outputs": [],
   "source": [
    "pagerank = nx.pagerank(G, weight='edge')\n",
    "pagerank = pd.DataFrame.from_dict(pagerank, orient='index').reset_index()\n",
    "pagerank.columns = ['Node', 'Pagerank Centrality']\n",
    "pagerank.sort_values('Pagerank Centrality', ascending=False).head(10)"
   ]
  },
  {
   "cell_type": "code",
   "execution_count": null,
   "metadata": {
    "ExecuteTime": {
     "end_time": "2020-05-13T01:12:38.871550Z",
     "start_time": "2020-05-13T01:12:38.861576Z"
    }
   },
   "outputs": [],
   "source": [
    "degree = nx.degree_centrality(G)\n",
    "degree = pd.DataFrame.from_dict(degree, orient='index').reset_index()\n",
    "degree.columns = ['Node', 'Degree Centrality']\n",
    "degree.sort_values('Degree Centrality', ascending=False).head(10)"
   ]
  },
  {
   "cell_type": "code",
   "execution_count": null,
   "metadata": {
    "ExecuteTime": {
     "end_time": "2020-05-13T01:13:50.351309Z",
     "start_time": "2020-05-13T01:13:50.307427Z"
    }
   },
   "outputs": [],
   "source": [
    "betweenness = nx.betweenness_centrality(G)\n",
    "betweenness = pd.DataFrame.from_dict(betweenness, orient='index').reset_index()\n",
    "betweenness.columns = ['Node', 'Betweenness Centrality']\n",
    "betweenness.sort_values('Betweenness Centrality', ascending=False).head(10)"
   ]
  },
  {
   "cell_type": "code",
   "execution_count": null,
   "metadata": {},
   "outputs": [],
   "source": []
  },
  {
   "cell_type": "code",
   "execution_count": null,
   "metadata": {},
   "outputs": [],
   "source": []
  },
  {
   "cell_type": "code",
   "execution_count": null,
   "metadata": {
    "ExecuteTime": {
     "end_time": "2020-05-13T01:07:53.209133Z",
     "start_time": "2020-05-13T01:07:49.148908Z"
    }
   },
   "outputs": [],
   "source": [
    "from pyvis.network import Network\n",
    "import pandas as pd\n",
    "url = 'https://www.macalester.edu/~abeverid/data/stormofswords.csv'\n",
    "# https://raw.githubusercontent.com/mathbeveridge/asoiaf/master/data/asoiaf-all-edges.csv\n",
    "\n",
    "\n",
    "got_net = Network(height=\"750px\", width=\"100%\", notebook=True)\n",
    "\n",
    "# set the physics layout of the network\n",
    "got_net.barnes_hut()\n",
    "got_data = pd.read_csv(url)\n",
    "\n",
    "sources = got_data['Source']\n",
    "targets = got_data['Target']\n",
    "weights = got_data['Weight']\n",
    "\n",
    "edge_data = zip(sources, targets, weights)\n",
    "\n",
    "# run through each edge and assign a value\n",
    "for e in edge_data:\n",
    "    src = e[0]\n",
    "    dst = e[1]\n",
    "    w = e[2]\n",
    "\n",
    "    got_net.add_node(src, src, title=src)\n",
    "    got_net.add_node(dst, dst, title=dst)\n",
    "    got_net.add_edge(src, dst, value=w)\n",
    "\n",
    "# get neighbors\n",
    "neighbor_map = got_net.get_adj_list()\n",
    "\n",
    "# add neighbor data to node hover data\n",
    "for node in got_net.nodes:\n",
    "    node[\"title\"] += \" Neighbors:<br>\" + \"<br>\".join(neighbor_map[node[\"id\"]])\n",
    "    node[\"value\"] = len(neighbor_map[node[\"id\"]])\n",
    "\n",
    "got_net.show_buttons()\n",
    "got_net.show(\"gameofthrones.html\", )"
   ]
  },
  {
   "cell_type": "code",
   "execution_count": null,
   "metadata": {},
   "outputs": [],
   "source": []
  },
  {
   "cell_type": "code",
   "execution_count": null,
   "metadata": {
    "ExecuteTime": {
     "end_time": "2020-04-17T15:17:09.708362Z",
     "start_time": "2020-04-17T15:17:09.697357Z"
    }
   },
   "outputs": [],
   "source": [
    "got_net.save_graph('got.html')"
   ]
  },
  {
   "cell_type": "code",
   "execution_count": null,
   "metadata": {},
   "outputs": [],
   "source": [
    "# https://pyvis.readthedocs.io/en/latest/tutorial.html#visualization"
   ]
  }
 ],
 "metadata": {
  "kernelspec": {
   "display_name": "Python 3",
   "language": "python",
   "name": "python3"
  },
  "language_info": {
   "codemirror_mode": {
    "name": "ipython",
    "version": 3
   },
   "file_extension": ".py",
   "mimetype": "text/x-python",
   "name": "python",
   "nbconvert_exporter": "python",
   "pygments_lexer": "ipython3",
   "version": "3.8.3"
  },
  "toc": {
   "base_numbering": 1,
   "nav_menu": {},
   "number_sections": true,
   "sideBar": true,
   "skip_h1_title": false,
   "title_cell": "Table of Contents",
   "title_sidebar": "Contents",
   "toc_cell": false,
   "toc_position": {},
   "toc_section_display": true,
   "toc_window_display": false
  }
 },
 "nbformat": 4,
 "nbformat_minor": 4
}
