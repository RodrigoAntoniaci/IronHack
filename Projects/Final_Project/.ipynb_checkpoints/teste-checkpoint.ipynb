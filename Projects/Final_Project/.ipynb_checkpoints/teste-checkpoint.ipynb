{
 "cells": [
  {
   "cell_type": "code",
   "execution_count": 18,
   "metadata": {},
   "outputs": [],
   "source": [
    "plat = 'Old_Consoles'\n",
    "\n",
    "genre_1 = 'Action'\n",
    "\n",
    "genre_2 = 'Music'\n",
    "\n",
    "old = 'Hell Yeah'\n",
    "\n",
    "critic = 'Yes, milord'"
   ]
  },
  {
   "cell_type": "code",
   "execution_count": 19,
   "metadata": {},
   "outputs": [],
   "source": [
    "def Calc_Dist(plat,genre1,genre2,old,critic):\n",
    "   \n",
    "    user_choice = {'title':[\"User's choice\"], 'release_date':[None],'score':[None],\n",
    "                'score_phrase':[None],'editors_choice':[None],'genre':[None],\n",
    "                'url':[None],'old_game':[0], 'critic_high_score':[0],'Sony':[0],\n",
    "                'Microsoft':[0],'Nintendo':[0], 'Portable':[0],'Old_Consoles':[0],\n",
    "                'Mobile':[0],'PC':[0],'Others_Plat':[0],'Playstation_4':[0],'Xbox_One':[0],\n",
    "                'Wii_U':[0],'Action':[0],'Adult':[0],'Adventure':[0],'Baseball':[0],\n",
    "                'Battle':[0],'Board':[0],'Card':[0],'Casino':[0],'Compilation':[0],'Editor':[0],\n",
    "                'Educational':[0],'Episodic':[0],'Fighting':[0],'First-Person':[0],'Flight':[0],\n",
    "                'Golf':[0],'Hardware':[0],'Hunting':[0],'Music':[0],'Other':[0],'Party':[0],\n",
    "                'Pet':[0],'Pinball':[0],'Platformer':[0],'Productivity':[0],'Puzzle':[0],\n",
    "                'RPG':[0],'Racing':[0],'Shooter':[0],'Simulation':[0],'Sports':[0],'Strategy':[0],\n",
    "                'Trivia':[0],'Virtual':[0],'Word':[0],'Wrestling':[0]}\n",
    "    \n",
    "    if old == 'Hell Yeah':\n",
    "        user_choice['old_game'] = [1]\n",
    "    else:\n",
    "        pass  \n",
    "\n",
    "    if critic == 'Yes, milord':\n",
    "        user_choice['critic_high_score'] = [1] \n",
    "    else:\n",
    "        pass\n",
    "    \n",
    "    for key,value in user_choice.items():\n",
    "        if key == genre1 or key == genre2 or key == plat:\n",
    "            user_choice[key] = [1]\n",
    "            \n",
    "        else:\n",
    "            pass\n",
    "   \n",
    "    return user_choice  "
   ]
  },
  {
   "cell_type": "code",
   "execution_count": 20,
   "metadata": {},
   "outputs": [
    {
     "data": {
      "text/plain": [
       "{'title': [\"User's choice\"],\n",
       " 'release_date': [None],\n",
       " 'score': [None],\n",
       " 'score_phrase': [None],\n",
       " 'editors_choice': [None],\n",
       " 'genre': [None],\n",
       " 'url': [None],\n",
       " 'old_game': [1],\n",
       " 'critic_high_score': [1],\n",
       " 'Sony': [0],\n",
       " 'Microsoft': [0],\n",
       " 'Nintendo': [0],\n",
       " 'Portable': [0],\n",
       " 'Old_Consoles': [1],\n",
       " 'Mobile': [0],\n",
       " 'PC': [0],\n",
       " 'Others_Plat': [0],\n",
       " 'Playstation_4': [0],\n",
       " 'Xbox_One': [0],\n",
       " 'Wii_U': [0],\n",
       " 'Action': [1],\n",
       " 'Adult': [0],\n",
       " 'Adventure': [0],\n",
       " 'Baseball': [0],\n",
       " 'Battle': [0],\n",
       " 'Board': [0],\n",
       " 'Card': [0],\n",
       " 'Casino': [0],\n",
       " 'Compilation': [0],\n",
       " 'Editor': [0],\n",
       " 'Educational': [0],\n",
       " 'Episodic': [0],\n",
       " 'Fighting': [0],\n",
       " 'First-Person': [0],\n",
       " 'Flight': [0],\n",
       " 'Golf': [0],\n",
       " 'Hardware': [0],\n",
       " 'Hunting': [0],\n",
       " 'Music': [1],\n",
       " 'Other': [0],\n",
       " 'Party': [0],\n",
       " 'Pet': [0],\n",
       " 'Pinball': [0],\n",
       " 'Platformer': [0],\n",
       " 'Productivity': [0],\n",
       " 'Puzzle': [0],\n",
       " 'RPG': [0],\n",
       " 'Racing': [0],\n",
       " 'Shooter': [0],\n",
       " 'Simulation': [0],\n",
       " 'Sports': [0],\n",
       " 'Strategy': [0],\n",
       " 'Trivia': [0],\n",
       " 'Virtual': [0],\n",
       " 'Word': [0],\n",
       " 'Wrestling': [0]}"
      ]
     },
     "execution_count": 20,
     "metadata": {},
     "output_type": "execute_result"
    }
   ],
   "source": [
    "Calc_Dist(plat,genre_1,genre_2,old,critic)"
   ]
  },
  {
   "cell_type": "code",
   "execution_count": null,
   "metadata": {},
   "outputs": [],
   "source": []
  }
 ],
 "metadata": {
  "kernelspec": {
   "display_name": "Python 3",
   "language": "python",
   "name": "python3"
  },
  "language_info": {
   "codemirror_mode": {
    "name": "ipython",
    "version": 3
   },
   "file_extension": ".py",
   "mimetype": "text/x-python",
   "name": "python",
   "nbconvert_exporter": "python",
   "pygments_lexer": "ipython3",
   "version": "3.8.3"
  }
 },
 "nbformat": 4,
 "nbformat_minor": 4
}
