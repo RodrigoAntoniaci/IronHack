{
 "cells": [
  {
   "cell_type": "markdown",
   "metadata": {},
   "source": [
    "# Project WebScrapping\n",
    "# IronHack - Data Analyst"
   ]
  },
  {
   "attachments": {
    "Screenshot_1.png": {
     "image/png": "[encoded data removed]"
    }
   },
   "cell_type": "markdown",
   "metadata": {},
   "source": [
    "# Objective:\n",
    "\n",
    "### Scrap the website  [`Metacritcs`](https://www.metacritic.com)  and store informartion about games.\n",
    "\n",
    "\n",
    "![Screenshot_1.png](attachment:Screenshot_1.png)"
   ]
  },
  {
   "cell_type": "markdown",
   "metadata": {},
   "source": [
    "# Selected plataforms:\n",
    "\n",
    "### -Playstation 4 \n",
    "### -Xbox One \n",
    "### -Switch  "
   ]
  },
  {
   "cell_type": "code",
   "execution_count": null,
   "metadata": {},
   "outputs": [],
   "source": [
    "import requests\n",
    "from bs4 import BeautifulSoup\n",
    "import pandas as pd\n",
    "from itertools import chain\n",
    "import re"
   ]
  },
  {
   "cell_type": "markdown",
   "metadata": {},
   "source": [
    "# Defining class Meta_scrap"
   ]
  },
  {
   "cell_type": "code",
   "execution_count": null,
   "metadata": {},
   "outputs": [],
   "source": [
    "class Meta_scrap:\n",
    "    '''\n",
    "    Class to define url's of the metacritic that will be scrapped\n",
    "    \n",
    "    plataf_url > string or list[string]\n",
    "    '''        \n",
    "    def __init__(self,plataf_url,\n",
    "                 root_url='https://www.metacritic.com',\n",
    "                 headers={'User-Agent': 'Mozilla/5.0 (Macintosh; Intel Mac OS X 10_10_1) AppleWebKit/537.36 (KHTML, like Gecko) Chrome/39.0.2171.95 Safari/537.36'}):\n",
    "        \n",
    "        self.root_url = root_url\n",
    "        \n",
    "        self.plataf_url = plataf_url\n",
    "        \n",
    "        self.headers = headers\n",
    "        \n",
    "    def page_range(self):\n",
    "        '''\n",
    "        Receive an url and create a list of the url page of 0 to 99.\n",
    "        \n",
    "        Original URL:\n",
    "        \n",
    "        https://www.metacritic.com/search/game/results?search_type=advanced&plats[268409]=\n",
    "\n",
    "        Result:\n",
    "        \n",
    "        https://www.metacritic.com/search/game/results?search_type=advanced&plats[268409]=0\n",
    "        https://www.metacritic.com/search/game/results?search_type=advanced&plats[268409]=1\n",
    "        https://www.metacritic.com/search/game/results?search_type=advanced&plats[268409]=2\n",
    "        '''\n",
    "        \n",
    "        all_urls = [url + str(i) for i in range(100) for url in self.plataf_url]\n",
    "        \n",
    "        return all_urls\n",
    " \n",
    "    def find_game_tag(self,page):\n",
    "        '''\n",
    "        Find the game all game tags in a page and return in form of list.\n",
    "        '''\n",
    "         \n",
    "        response = requests.get(url=page,headers=self.headers)\n",
    "        \n",
    "        soup = BeautifulSoup(response.content)\n",
    "        \n",
    "        games_urls = []\n",
    "        \n",
    "        for tag in soup.find_all(name='h3', attrs={'class':'product_title basic_stat'}):\n",
    "            games_urls.append(self.root_url + tag.a['href'] + '/details')\n",
    "        \n",
    "        return games_urls\n",
    "    \n",
    "    def games_url(self):\n",
    "        \n",
    "        '''\n",
    "        Apply function find_game_tag to all pages obtained through page_range\n",
    "        '''\n",
    "        \n",
    "        all_urls = Meta_scrap.page_range(self)\n",
    "        \n",
    "        all_games_urls = [self.find_game_tag(page) for page in all_urls]\n",
    "        \n",
    "        all_games_urls = list(chain.from_iterable(all_games_urls))\n",
    "        \n",
    "        return all_games_urls\n",
    "             \n",
    "    def game_info(self,game_page):\n",
    "        \n",
    "        '''\n",
    "        Return an dict of information of the game\n",
    "        '''\n",
    "        try:\n",
    "            \n",
    "            response = requests.get(url=game_page,headers=self.headers)\n",
    "\n",
    "            soup = BeautifulSoup(response.content)\n",
    "            name = soup.find(name='div', attrs={'class':'product_title'}).a.text.strip()\n",
    "\n",
    "            rel_date = soup.find(name='li', attrs={'class':'summary_detail release_data'}).text[15:].strip()\n",
    "            rel_date = str(pd.to_datetime(rel_date))[:10]\n",
    "\n",
    "            metascore = soup.find_all(name='a', attrs={'class':'metascore_anchor'})[0].span.text\n",
    "            metascore = int(metascore)\n",
    "\n",
    "            n_crit_rev = soup.find(name='div', attrs={'class':'summary'}).a.text.strip()\n",
    "            n_crit_rev = int(re.sub('\\D','',n_crit_rev))         \n",
    "\n",
    "            user_score = soup.find_all(name='a', attrs={'class':'metascore_anchor'})[1].div.text\n",
    "            user_score = float(user_score)         \n",
    "\n",
    "            n_usr_rev = soup.find_all(name='div', attrs={'class':'summary'})[1].a.text\n",
    "            n_usr_rev = int(re.sub('\\D','',n_usr_rev))\n",
    "\n",
    "            plataform = soup.find(name='span', attrs={'class':'platform'}).text.strip()\n",
    "\n",
    "            rating = soup.find(name='tr', attrs={'class':'alt'}).text[9]\n",
    "\n",
    "            developer = soup.find_all(name='tr')[2].td.text.strip()\n",
    "            developer = re.sub('\\s+',' ',developer).split(',')                \n",
    "\n",
    "            mul_player = soup.find_all(name='tr')[4].td.text\n",
    "            mul_player = bool(re.match('\\d',mul_player))\n",
    "\n",
    "            url = game_page\n",
    "\n",
    "            game_info = {'name':name,'plataform':plataform,'rel_date':rel_date,'metascore':metascore,\n",
    "                         'n_crit_revies':n_crit_rev,'userscore':user_score,'n_usr_rev':n_usr_rev,\n",
    "                         'rating':rating,'developer':developer,'mul_player':mul_player,'url':url}\n",
    "        \n",
    "            return game_info\n",
    "    \n",
    "        except:\n",
    "            \n",
    "            pass        \n",
    "    \n",
    "    def scrap(self):\n",
    "        '''\n",
    "        Execute the whole scrap process in the selected palataforms pages\n",
    "        '''\n",
    "        \n",
    "        all_games_urls = Meta_scrap.games_url(self)\n",
    "        \n",
    "        df_games = pd.DataFrame(columns=['name',     \n",
    "                                         'plataform',\n",
    "                                         'rel_date',\n",
    "                                         'metascore',\n",
    "                                         'n_crit_revies',\n",
    "                                         'userscore',\n",
    "                                         'n_usr_rev',\n",
    "                                         'rating',\n",
    "                                         'developer',\n",
    "                                         'mul_player',\n",
    "                                         'url'])\n",
    "        \n",
    "        for gameurl in all_games_urls:\n",
    "            \n",
    "            data = self.game_info(gameurl)\n",
    "                        \n",
    "            df_games = df_games.append(data, ignore_index=True)\n",
    "\n",
    "        return df_games"
   ]
  },
  {
   "cell_type": "markdown",
   "metadata": {},
   "source": [
    "# Defining URL's"
   ]
  },
  {
   "cell_type": "code",
   "execution_count": null,
   "metadata": {},
   "outputs": [],
   "source": [
    "ps4 = ['https://www.metacritic.com/search/game/results?plats%5B72496%5D=1&search_type=advanced&page=']\n",
    "\n",
    "xone = ['https://www.metacritic.com/search/game/results?search_type=advanced&plats[80000]=']\n",
    "\n",
    "switch = ['https://www.metacritic.com/search/game/results?search_type=advanced&plats[268409]=']\n",
    "\n",
    "all_plat = ['https://www.metacritic.com/search/game/results?plats%5B72496%5D=1&search_type=advanced&page=',\n",
    "            'https://www.metacritic.com/search/game/results?search_type=advanced&plats[268409]=',\n",
    "            'https://www.metacritic.com/search/game/results?search_type=advanced&plats[268409]=']"
   ]
  },
  {
   "cell_type": "markdown",
   "metadata": {},
   "source": [
    "# Scraping PS4"
   ]
  },
  {
   "cell_type": "code",
   "execution_count": null,
   "metadata": {},
   "outputs": [],
   "source": [
    "meta_scrap_ps4 = Meta_scrap(ps4)"
   ]
  },
  {
   "cell_type": "code",
   "execution_count": null,
   "metadata": {},
   "outputs": [],
   "source": [
    "%%time\n",
    "\n",
    "df_ps4 = meta_scrap_ps4.scrap()"
   ]
  },
  {
   "cell_type": "code",
   "execution_count": null,
   "metadata": {},
   "outputs": [],
   "source": [
    "df_ps4.to_json(path_or_buf='ps4_json.txt',orient='columns')"
   ]
  },
  {
   "cell_type": "markdown",
   "metadata": {},
   "source": [
    "# Scraping Xone"
   ]
  },
  {
   "cell_type": "code",
   "execution_count": null,
   "metadata": {},
   "outputs": [],
   "source": [
    "meta_scrap_xone = Meta_scrap(xone)"
   ]
  },
  {
   "cell_type": "code",
   "execution_count": null,
   "metadata": {},
   "outputs": [],
   "source": [
    "%%time\n",
    "\n",
    "df_xone = meta_scrap_xone.scrap()"
   ]
  },
  {
   "cell_type": "markdown",
   "metadata": {},
   "source": [
    "# Scraping Switch"
   ]
  },
  {
   "cell_type": "code",
   "execution_count": null,
   "metadata": {},
   "outputs": [],
   "source": [
    "meta_scrap_switch = Meta_scrap(switch)"
   ]
  },
  {
   "cell_type": "code",
   "execution_count": null,
   "metadata": {},
   "outputs": [],
   "source": [
    "%%time\n",
    "\n",
    "df_switch = meta_scrap_switch.scrap()"
   ]
  },
  {
   "cell_type": "markdown",
   "metadata": {},
   "source": [
    "# Concatening dataframe's"
   ]
  },
  {
   "cell_type": "code",
   "execution_count": null,
   "metadata": {},
   "outputs": [],
   "source": [
    "df_games = pd.concat([df_ps4,df_switch,df_xone],ignore_index=True)"
   ]
  },
  {
   "cell_type": "markdown",
   "metadata": {},
   "source": [
    "# Generating json file"
   ]
  },
  {
   "cell_type": "code",
   "execution_count": null,
   "metadata": {},
   "outputs": [],
   "source": [
    "df_ps4.to_json(path_or_buf='ps4_json.txt',orient='columns')\n",
    "df_switch.to_json(path_or_buf='switch_json.txt',orient='columns')\n",
    "df_xone.to_json(path_or_buf='xone_json.txt',orient='columns')\n",
    "df_games.to_json(path_or_buf='games_json.txt',orient='columns')"
   ]
  }
 ],
 "metadata": {
  "kernelspec": {
   "display_name": "Python 3",
   "language": "python",
   "name": "python3"
  },
  "language_info": {
   "codemirror_mode": {
    "name": "ipython",
    "version": 3
   },
   "file_extension": ".py",
   "mimetype": "text/x-python",
   "name": "python",
   "nbconvert_exporter": "python",
   "pygments_lexer": "ipython3",
   "version": "3.8.2"
  }
 },
 "nbformat": 4,
 "nbformat_minor": 4
}
