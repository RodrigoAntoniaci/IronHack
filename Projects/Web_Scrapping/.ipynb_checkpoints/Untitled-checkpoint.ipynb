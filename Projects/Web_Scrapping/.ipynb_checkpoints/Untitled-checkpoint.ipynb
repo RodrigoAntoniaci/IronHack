{
 "cells": [
  {
   "cell_type": "code",
   "execution_count": 1,
   "metadata": {},
   "outputs": [],
   "source": [
    "import pandas as pd"
   ]
  },
  {
   "cell_type": "code",
   "execution_count": 22,
   "metadata": {},
   "outputs": [],
   "source": [
    "ps4 = pd.read_json('ps4_json.txt')\n",
    "xone = pd.read_json('xone_json.txt')\n",
    "switch = pd.read_json('switch_json.txt')"
   ]
  },
  {
   "cell_type": "code",
   "execution_count": 30,
   "metadata": {},
   "outputs": [
    {
     "name": "stdout",
     "output_type": "stream",
     "text": [
      "<class 'pandas.core.frame.DataFrame'>\n",
      "Int64Index: 763 entries, 0 to 762\n",
      "Data columns (total 11 columns):\n",
      " #   Column         Non-Null Count  Dtype  \n",
      "---  ------         --------------  -----  \n",
      " 0   name           763 non-null    object \n",
      " 1   plataform      763 non-null    object \n",
      " 2   rel_date       763 non-null    object \n",
      " 3   metascore      763 non-null    int64  \n",
      " 4   n_crit_revies  763 non-null    int64  \n",
      " 5   userscore      763 non-null    float64\n",
      " 6   n_usr_rev      763 non-null    int64  \n",
      " 7   rating         763 non-null    object \n",
      " 8   developer      763 non-null    object \n",
      " 9   mul_player     763 non-null    bool   \n",
      " 10  url            763 non-null    object \n",
      "dtypes: bool(1), float64(1), int64(3), object(6)\n",
      "memory usage: 64.4+ KB\n"
     ]
    }
   ],
   "source": [
    "ps4.info()"
   ]
  },
  {
   "cell_type": "code",
   "execution_count": 36,
   "metadata": {},
   "outputs": [],
   "source": [
    "top100_ps4 = ps4.sort_values(ascending=False,by=['metascore','userscore']).head(100)\n",
    "top100_xone = xone.sort_values(ascending=False,by=['metascore','userscore']).head(100)\n",
    "top100_switch = switch.sort_values(ascending=False,by=['metascore','userscore']).head(100)"
   ]
  },
  {
   "cell_type": "code",
   "execution_count": 37,
   "metadata": {},
   "outputs": [],
   "source": [
    "top100_games = pd.concat([top100_ps4,top100_xone,top100_switch])"
   ]
  },
  {
   "cell_type": "code",
   "execution_count": 38,
   "metadata": {},
   "outputs": [],
   "source": [
    "top100_games.to_csv('meta_top100_games.csv',sep='#',index=False)"
   ]
  }
 ],
 "metadata": {
  "kernelspec": {
   "display_name": "Python 3",
   "language": "python",
   "name": "python3"
  },
  "language_info": {
   "codemirror_mode": {
    "name": "ipython",
    "version": 3
   },
   "file_extension": ".py",
   "mimetype": "text/x-python",
   "name": "python",
   "nbconvert_exporter": "python",
   "pygments_lexer": "ipython3",
   "version": "3.8.2"
  }
 },
 "nbformat": 4,
 "nbformat_minor": 4
}
