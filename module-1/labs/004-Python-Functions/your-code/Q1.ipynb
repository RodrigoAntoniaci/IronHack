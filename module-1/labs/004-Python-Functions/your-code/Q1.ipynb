{
 "cells": [
  {
   "cell_type": "markdown",
   "metadata": {},
   "source": [
    "In the cell below, create a Python function that wraps your previous solution for the Bag of Words lab.\n",
    "\n",
    "Requirements:\n",
    "\n",
    "1. Your function should accept the following parameters:\n",
    "    * `docs` [REQUIRED] - array of document paths.\n",
    "    * `stop_words` [OPTIONAL] - array of stop words. The default value is an empty array.\n",
    "\n",
    "1. Your function should return a Python object that contains the following:\n",
    "    * `bag_of_words` - array of strings of normalized unique words in the corpus.\n",
    "    * `term_freq` - array of the term-frequency vectors."
   ]
  },
  {
   "cell_type": "code",
   "execution_count": 6,
   "metadata": {},
   "outputs": [],
   "source": [
    "# Import required libraries\n",
    "\n",
    "\n",
    "\n",
    "# Define function\n",
    "def get_bow_from_docs(docs, stop_words=[]):\n",
    "    import re\n",
    "    import os\n",
    "    term_freq = []\n",
    "    corpus = []\n",
    "    bag_of_words = []\n",
    "          \n",
    "    # In the function, first define the variables you will use such as `corpus`, `bag_of_words`, and `term_freq`.\n",
    "   \n",
    "    \"\"\"\n",
    "    Loop `docs` and read the content of each doc into a string in `corpus`.\n",
    "    Remember to convert the doc content to lowercases and remove punctuation.\n",
    "    \"\"\"\n",
    "    for i in docs:\n",
    "        phrase = open(i).read()\n",
    "        phrase = re.sub('[.]','',phrase)\n",
    "        corpus.append(str.lower(phrase))\n",
    "        print(corpus)\n",
    "    \n",
    "    \"\"\"\n",
    "    Loop `corpus`. Append the terms in each doc into the `bag_of_words` array. The terms in `bag_of_words` \n",
    "    should be unique which means before adding each term you need to check if it's already added to the array.\n",
    "    In addition, check if each term is in the `stop_words` array. Only append the term to `bag_of_words`\n",
    "    if it is not a stop word.\n",
    "    \"\"\"\n",
    "    for i in corpus:\n",
    "        words = i.split()\n",
    "        for d in words:\n",
    "            if d in bag_of_words or d in stop_words:\n",
    "                continue\n",
    "            else:\n",
    "                bag_of_words.append(d)\n",
    "\n",
    "    \"\"\"\n",
    "    Loop `corpus` again. For each doc string, count the number of occurrences of each term in `bag_of_words`. \n",
    "    Create an array for each doc's term frequency and append it to `term_freq`.\n",
    "    \"\"\"\n",
    "    # [term_freq.append(i.count(d)) for d in bag_of_words for i in corpus]\n",
    "    for i in corpus:\n",
    "        array = []\n",
    "        for d in bag_of_words:\n",
    "            array.append(i.count(d))\n",
    "        term_freq.append(array)\n",
    "    \n",
    "    \n",
    "    # Now return your output as an object\n",
    "    return {\n",
    "        \"bag_of_words\": bag_of_words,\n",
    "        \"term_freq\": term_freq\n",
    "    }\n",
    "    "
   ]
  },
  {
   "cell_type": "markdown",
   "metadata": {},
   "source": [
    "Test your function without stop words. You should see the output like below:\n",
    "\n",
    "```{'bag_of_words': ['ironhack', 'is', 'cool', 'i', 'love', 'am', 'a', 'student', 'at'], 'term_freq': [[1, 1, 1, 0, 0, 0, 0, 0, 0], [1, 0, 0, 1, 1, 0, 0, 0, 0], [1, 0, 0, 1, 0, 1, 1, 1, 1]]}```"
   ]
  },
  {
   "cell_type": "code",
   "execution_count": 7,
   "metadata": {},
   "outputs": [
    {
     "ename": "NameError",
     "evalue": "name 'os' is not defined",
     "output_type": "error",
     "traceback": [
      "\u001b[1;31m---------------------------------------------------------------------------\u001b[0m",
      "\u001b[1;31mNameError\u001b[0m                                 Traceback (most recent call last)",
      "\u001b[1;32m<ipython-input-7-a7e4ade044c0>\u001b[0m in \u001b[0;36m<module>\u001b[1;34m\u001b[0m\n\u001b[0;32m      1\u001b[0m \u001b[1;31m# Define doc paths array\u001b[0m\u001b[1;33m\u001b[0m\u001b[1;33m\u001b[0m\u001b[1;33m\u001b[0m\u001b[0m\n\u001b[0;32m      2\u001b[0m \u001b[1;33m\u001b[0m\u001b[0m\n\u001b[1;32m----> 3\u001b[1;33m \u001b[0mdocuments\u001b[0m \u001b[1;33m=\u001b[0m \u001b[1;33m[\u001b[0m\u001b[0mfile\u001b[0m \u001b[1;32mfor\u001b[0m \u001b[0mfile\u001b[0m \u001b[1;32min\u001b[0m \u001b[0mos\u001b[0m\u001b[1;33m.\u001b[0m\u001b[0mlistdir\u001b[0m\u001b[1;33m(\u001b[0m\u001b[1;34m'.\\\\'\u001b[0m\u001b[1;33m)\u001b[0m \u001b[1;32mif\u001b[0m \u001b[0mfile\u001b[0m\u001b[1;33m.\u001b[0m\u001b[0mstartswith\u001b[0m\u001b[1;33m(\u001b[0m\u001b[1;34m'doc'\u001b[0m\u001b[1;33m)\u001b[0m\u001b[1;33m]\u001b[0m\u001b[1;33m\u001b[0m\u001b[1;33m\u001b[0m\u001b[0m\n\u001b[0m\u001b[0;32m      4\u001b[0m \u001b[1;33m\u001b[0m\u001b[0m\n\u001b[0;32m      5\u001b[0m \u001b[0mstop\u001b[0m \u001b[1;33m=\u001b[0m \u001b[1;33m[\u001b[0m\u001b[1;34m'all'\u001b[0m\u001b[1;33m,\u001b[0m \u001b[1;34m'six'\u001b[0m\u001b[1;33m,\u001b[0m \u001b[1;34m'less'\u001b[0m\u001b[1;33m,\u001b[0m \u001b[1;34m'being'\u001b[0m\u001b[1;33m,\u001b[0m \u001b[1;34m'i'\u001b[0m\u001b[1;33m,\u001b[0m \u001b[1;34m'am'\u001b[0m\u001b[1;33m,\u001b[0m \u001b[1;34m'a'\u001b[0m\u001b[1;33m,\u001b[0m \u001b[1;34m'at'\u001b[0m\u001b[1;33m,\u001b[0m \u001b[1;34m'indeed'\u001b[0m\u001b[1;33m,\u001b[0m \u001b[1;34m'over'\u001b[0m\u001b[1;33m,\u001b[0m \u001b[1;34m'move'\u001b[0m\u001b[1;33m,\u001b[0m \u001b[1;34m'anyway'\u001b[0m\u001b[1;33m,\u001b[0m \u001b[1;34m'fifty'\u001b[0m\u001b[1;33m,\u001b[0m \u001b[1;34m'four'\u001b[0m\u001b[1;33m,\u001b[0m \u001b[1;34m'not'\u001b[0m\u001b[1;33m,\u001b[0m \u001b[1;34m'own'\u001b[0m\u001b[1;33m,\u001b[0m \u001b[1;34m'through'\u001b[0m\u001b[1;33m,\u001b[0m \u001b[1;34m'yourselves'\u001b[0m\u001b[1;33m,\u001b[0m \u001b[1;34m'go'\u001b[0m\u001b[1;33m,\u001b[0m \u001b[1;34m'where'\u001b[0m\u001b[1;33m,\u001b[0m \u001b[1;34m'mill'\u001b[0m\u001b[1;33m,\u001b[0m \u001b[1;34m'only'\u001b[0m\u001b[1;33m,\u001b[0m \u001b[1;34m'find'\u001b[0m\u001b[1;33m,\u001b[0m \u001b[1;34m'before'\u001b[0m\u001b[1;33m,\u001b[0m \u001b[1;34m'one'\u001b[0m\u001b[1;33m,\u001b[0m \u001b[1;34m'whose'\u001b[0m\u001b[1;33m,\u001b[0m \u001b[1;34m'system'\u001b[0m\u001b[1;33m,\u001b[0m \u001b[1;34m'how'\u001b[0m\u001b[1;33m,\u001b[0m \u001b[1;34m'somewhere'\u001b[0m\u001b[1;33m,\u001b[0m \u001b[1;34m'with'\u001b[0m\u001b[1;33m,\u001b[0m \u001b[1;34m'thick'\u001b[0m\u001b[1;33m,\u001b[0m \u001b[1;34m'show'\u001b[0m\u001b[1;33m,\u001b[0m \u001b[1;34m'had'\u001b[0m\u001b[1;33m,\u001b[0m \u001b[1;34m'enough'\u001b[0m\u001b[1;33m,\u001b[0m \u001b[1;34m'should'\u001b[0m\u001b[1;33m,\u001b[0m \u001b[1;34m'to'\u001b[0m\u001b[1;33m,\u001b[0m \u001b[1;34m'must'\u001b[0m\u001b[1;33m,\u001b[0m \u001b[1;34m'whom'\u001b[0m\u001b[1;33m,\u001b[0m \u001b[1;34m'seeming'\u001b[0m\u001b[1;33m,\u001b[0m \u001b[1;34m'under'\u001b[0m\u001b[1;33m,\u001b[0m \u001b[1;34m'ours'\u001b[0m\u001b[1;33m,\u001b[0m \u001b[1;34m'has'\u001b[0m\u001b[1;33m,\u001b[0m \u001b[1;34m'might'\u001b[0m\u001b[1;33m,\u001b[0m \u001b[1;34m'thereafter'\u001b[0m\u001b[1;33m,\u001b[0m \u001b[1;34m'latterly'\u001b[0m\u001b[1;33m,\u001b[0m \u001b[1;34m'do'\u001b[0m\u001b[1;33m,\u001b[0m \u001b[1;34m'them'\u001b[0m\u001b[1;33m,\u001b[0m \u001b[1;34m'his'\u001b[0m\u001b[1;33m,\u001b[0m \u001b[1;34m'around'\u001b[0m\u001b[1;33m,\u001b[0m \u001b[1;34m'than'\u001b[0m\u001b[1;33m,\u001b[0m \u001b[1;34m'get'\u001b[0m\u001b[1;33m,\u001b[0m \u001b[1;34m'very'\u001b[0m\u001b[1;33m,\u001b[0m \u001b[1;34m'de'\u001b[0m\u001b[1;33m,\u001b[0m \u001b[1;34m'none'\u001b[0m\u001b[1;33m,\u001b[0m \u001b[1;34m'cannot'\u001b[0m\u001b[1;33m,\u001b[0m \u001b[1;34m'every'\u001b[0m\u001b[1;33m,\u001b[0m \u001b[1;34m'whether'\u001b[0m\u001b[1;33m,\u001b[0m \u001b[1;34m'they'\u001b[0m\u001b[1;33m,\u001b[0m \u001b[1;34m'front'\u001b[0m\u001b[1;33m,\u001b[0m \u001b[1;34m'during'\u001b[0m\u001b[1;33m,\u001b[0m \u001b[1;34m'thus'\u001b[0m\u001b[1;33m,\u001b[0m \u001b[1;34m'now'\u001b[0m\u001b[1;33m,\u001b[0m \u001b[1;34m'him'\u001b[0m\u001b[1;33m,\u001b[0m \u001b[1;34m'nor'\u001b[0m\u001b[1;33m,\u001b[0m \u001b[1;34m'name'\u001b[0m\u001b[1;33m,\u001b[0m \u001b[1;34m'several'\u001b[0m\u001b[1;33m,\u001b[0m \u001b[1;34m'hereafter'\u001b[0m\u001b[1;33m,\u001b[0m \u001b[1;34m'always'\u001b[0m\u001b[1;33m,\u001b[0m \u001b[1;34m'who'\u001b[0m\u001b[1;33m,\u001b[0m \u001b[1;34m'cry'\u001b[0m\u001b[1;33m,\u001b[0m \u001b[1;34m'whither'\u001b[0m\u001b[1;33m,\u001b[0m \u001b[1;34m'this'\u001b[0m\u001b[1;33m,\u001b[0m \u001b[1;34m'someone'\u001b[0m\u001b[1;33m,\u001b[0m \u001b[1;34m'either'\u001b[0m\u001b[1;33m,\u001b[0m \u001b[1;34m'each'\u001b[0m\u001b[1;33m,\u001b[0m \u001b[1;34m'become'\u001b[0m\u001b[1;33m,\u001b[0m \u001b[1;34m'thereupon'\u001b[0m\u001b[1;33m,\u001b[0m \u001b[1;34m'sometime'\u001b[0m\u001b[1;33m,\u001b[0m \u001b[1;34m'side'\u001b[0m\u001b[1;33m,\u001b[0m \u001b[1;34m'two'\u001b[0m\u001b[1;33m,\u001b[0m \u001b[1;34m'therein'\u001b[0m\u001b[1;33m,\u001b[0m \u001b[1;34m'twelve'\u001b[0m\u001b[1;33m,\u001b[0m \u001b[1;34m'because'\u001b[0m\u001b[1;33m,\u001b[0m \u001b[1;34m'often'\u001b[0m\u001b[1;33m,\u001b[0m \u001b[1;34m'ten'\u001b[0m\u001b[1;33m,\u001b[0m \u001b[1;34m'our'\u001b[0m\u001b[1;33m,\u001b[0m \u001b[1;34m'eg'\u001b[0m\u001b[1;33m,\u001b[0m \u001b[1;34m'some'\u001b[0m\u001b[1;33m,\u001b[0m \u001b[1;34m'back'\u001b[0m\u001b[1;33m,\u001b[0m \u001b[1;34m'up'\u001b[0m\u001b[1;33m,\u001b[0m \u001b[1;34m'namely'\u001b[0m\u001b[1;33m,\u001b[0m \u001b[1;34m'towards'\u001b[0m\u001b[1;33m,\u001b[0m \u001b[1;34m'are'\u001b[0m\u001b[1;33m,\u001b[0m \u001b[1;34m'further'\u001b[0m\u001b[1;33m,\u001b[0m \u001b[1;34m'beyond'\u001b[0m\u001b[1;33m,\u001b[0m \u001b[1;34m'ourselves'\u001b[0m\u001b[1;33m,\u001b[0m \u001b[1;34m'yet'\u001b[0m\u001b[1;33m,\u001b[0m \u001b[1;34m'out'\u001b[0m\u001b[1;33m,\u001b[0m \u001b[1;34m'even'\u001b[0m\u001b[1;33m,\u001b[0m \u001b[1;34m'will'\u001b[0m\u001b[1;33m,\u001b[0m \u001b[1;34m'what'\u001b[0m\u001b[1;33m,\u001b[0m \u001b[1;34m'still'\u001b[0m\u001b[1;33m,\u001b[0m \u001b[1;34m'for'\u001b[0m\u001b[1;33m,\u001b[0m \u001b[1;34m'bottom'\u001b[0m\u001b[1;33m,\u001b[0m \u001b[1;34m'mine'\u001b[0m\u001b[1;33m,\u001b[0m \u001b[1;34m'since'\u001b[0m\u001b[1;33m,\u001b[0m \u001b[1;34m'please'\u001b[0m\u001b[1;33m,\u001b[0m \u001b[1;34m'forty'\u001b[0m\u001b[1;33m,\u001b[0m \u001b[1;34m'per'\u001b[0m\u001b[1;33m,\u001b[0m \u001b[1;34m'its'\u001b[0m\u001b[1;33m,\u001b[0m \u001b[1;34m'everything'\u001b[0m\u001b[1;33m,\u001b[0m \u001b[1;34m'behind'\u001b[0m\u001b[1;33m,\u001b[0m \u001b[1;34m'un'\u001b[0m\u001b[1;33m,\u001b[0m \u001b[1;34m'above'\u001b[0m\u001b[1;33m,\u001b[0m \u001b[1;34m'between'\u001b[0m\u001b[1;33m,\u001b[0m \u001b[1;34m'it'\u001b[0m\u001b[1;33m,\u001b[0m \u001b[1;34m'neither'\u001b[0m\u001b[1;33m,\u001b[0m \u001b[1;34m'seemed'\u001b[0m\u001b[1;33m,\u001b[0m \u001b[1;34m'ever'\u001b[0m\u001b[1;33m,\u001b[0m \u001b[1;34m'across'\u001b[0m\u001b[1;33m,\u001b[0m \u001b[1;34m'she'\u001b[0m\u001b[1;33m,\u001b[0m \u001b[1;34m'somehow'\u001b[0m\u001b[1;33m,\u001b[0m \u001b[1;34m'be'\u001b[0m\u001b[1;33m,\u001b[0m \u001b[1;34m'we'\u001b[0m\u001b[1;33m,\u001b[0m \u001b[1;34m'full'\u001b[0m\u001b[1;33m,\u001b[0m \u001b[1;34m'never'\u001b[0m\u001b[1;33m,\u001b[0m \u001b[1;34m'sixty'\u001b[0m\u001b[1;33m,\u001b[0m \u001b[1;34m'however'\u001b[0m\u001b[1;33m,\u001b[0m \u001b[1;34m'here'\u001b[0m\u001b[1;33m,\u001b[0m \u001b[1;34m'otherwise'\u001b[0m\u001b[1;33m,\u001b[0m \u001b[1;34m'were'\u001b[0m\u001b[1;33m,\u001b[0m \u001b[1;34m'whereupon'\u001b[0m\u001b[1;33m,\u001b[0m \u001b[1;34m'nowhere'\u001b[0m\u001b[1;33m,\u001b[0m \u001b[1;34m'although'\u001b[0m\u001b[1;33m,\u001b[0m \u001b[1;34m'found'\u001b[0m\u001b[1;33m,\u001b[0m \u001b[1;34m'alone'\u001b[0m\u001b[1;33m,\u001b[0m \u001b[1;34m're'\u001b[0m\u001b[1;33m,\u001b[0m \u001b[1;34m'along'\u001b[0m\u001b[1;33m,\u001b[0m \u001b[1;34m'fifteen'\u001b[0m\u001b[1;33m,\u001b[0m \u001b[1;34m'by'\u001b[0m\u001b[1;33m,\u001b[0m \u001b[1;34m'both'\u001b[0m\u001b[1;33m,\u001b[0m \u001b[1;34m'about'\u001b[0m\u001b[1;33m,\u001b[0m \u001b[1;34m'last'\u001b[0m\u001b[1;33m,\u001b[0m \u001b[1;34m'would'\u001b[0m\u001b[1;33m,\u001b[0m \u001b[1;34m'anything'\u001b[0m\u001b[1;33m,\u001b[0m \u001b[1;34m'via'\u001b[0m\u001b[1;33m,\u001b[0m \u001b[1;34m'many'\u001b[0m\u001b[1;33m,\u001b[0m \u001b[1;34m'could'\u001b[0m\u001b[1;33m,\u001b[0m \u001b[1;34m'thence'\u001b[0m\u001b[1;33m,\u001b[0m \u001b[1;34m'put'\u001b[0m\u001b[1;33m,\u001b[0m \u001b[1;34m'against'\u001b[0m\u001b[1;33m,\u001b[0m \u001b[1;34m'keep'\u001b[0m\u001b[1;33m,\u001b[0m \u001b[1;34m'etc'\u001b[0m\u001b[1;33m,\u001b[0m \u001b[1;34m'amount'\u001b[0m\u001b[1;33m,\u001b[0m \u001b[1;34m'became'\u001b[0m\u001b[1;33m,\u001b[0m \u001b[1;34m'ltd'\u001b[0m\u001b[1;33m,\u001b[0m \u001b[1;34m'hence'\u001b[0m\u001b[1;33m,\u001b[0m \u001b[1;34m'onto'\u001b[0m\u001b[1;33m,\u001b[0m \u001b[1;34m'or'\u001b[0m\u001b[1;33m,\u001b[0m \u001b[1;34m'con'\u001b[0m\u001b[1;33m,\u001b[0m \u001b[1;34m'among'\u001b[0m\u001b[1;33m,\u001b[0m \u001b[1;34m'already'\u001b[0m\u001b[1;33m,\u001b[0m \u001b[1;34m'co'\u001b[0m\u001b[1;33m,\u001b[0m \u001b[1;34m'afterwards'\u001b[0m\u001b[1;33m,\u001b[0m \u001b[1;34m'formerly'\u001b[0m\u001b[1;33m,\u001b[0m \u001b[1;34m'within'\u001b[0m\u001b[1;33m,\u001b[0m \u001b[1;34m'seems'\u001b[0m\u001b[1;33m,\u001b[0m \u001b[1;34m'into'\u001b[0m\u001b[1;33m,\u001b[0m \u001b[1;34m'others'\u001b[0m\u001b[1;33m,\u001b[0m \u001b[1;34m'while'\u001b[0m\u001b[1;33m,\u001b[0m \u001b[1;34m'whatever'\u001b[0m\u001b[1;33m,\u001b[0m \u001b[1;34m'except'\u001b[0m\u001b[1;33m,\u001b[0m \u001b[1;34m'down'\u001b[0m\u001b[1;33m,\u001b[0m \u001b[1;34m'hers'\u001b[0m\u001b[1;33m,\u001b[0m \u001b[1;34m'everyone'\u001b[0m\u001b[1;33m,\u001b[0m \u001b[1;34m'done'\u001b[0m\u001b[1;33m,\u001b[0m \u001b[1;34m'least'\u001b[0m\u001b[1;33m,\u001b[0m \u001b[1;34m'another'\u001b[0m\u001b[1;33m,\u001b[0m \u001b[1;34m'whoever'\u001b[0m\u001b[1;33m,\u001b[0m \u001b[1;34m'moreover'\u001b[0m\u001b[1;33m,\u001b[0m \u001b[1;34m'couldnt'\u001b[0m\u001b[1;33m,\u001b[0m \u001b[1;34m'throughout'\u001b[0m\u001b[1;33m,\u001b[0m \u001b[1;34m'anyhow'\u001b[0m\u001b[1;33m,\u001b[0m \u001b[1;34m'yourself'\u001b[0m\u001b[1;33m,\u001b[0m \u001b[1;34m'three'\u001b[0m\u001b[1;33m,\u001b[0m \u001b[1;34m'from'\u001b[0m\u001b[1;33m,\u001b[0m \u001b[1;34m'her'\u001b[0m\u001b[1;33m,\u001b[0m \u001b[1;34m'few'\u001b[0m\u001b[1;33m,\u001b[0m \u001b[1;34m'together'\u001b[0m\u001b[1;33m,\u001b[0m \u001b[1;34m'top'\u001b[0m\u001b[1;33m,\u001b[0m \u001b[1;34m'there'\u001b[0m\u001b[1;33m,\u001b[0m \u001b[1;34m'due'\u001b[0m\u001b[1;33m,\u001b[0m \u001b[1;34m'been'\u001b[0m\u001b[1;33m,\u001b[0m \u001b[1;34m'next'\u001b[0m\u001b[1;33m,\u001b[0m \u001b[1;34m'anyone'\u001b[0m\u001b[1;33m,\u001b[0m \u001b[1;34m'eleven'\u001b[0m\u001b[1;33m,\u001b[0m \u001b[1;34m'much'\u001b[0m\u001b[1;33m,\u001b[0m \u001b[1;34m'call'\u001b[0m\u001b[1;33m,\u001b[0m \u001b[1;34m'therefore'\u001b[0m\u001b[1;33m,\u001b[0m \u001b[1;34m'interest'\u001b[0m\u001b[1;33m,\u001b[0m \u001b[1;34m'then'\u001b[0m\u001b[1;33m,\u001b[0m \u001b[1;34m'thru'\u001b[0m\u001b[1;33m,\u001b[0m \u001b[1;34m'themselves'\u001b[0m\u001b[1;33m,\u001b[0m \u001b[1;34m'hundred'\u001b[0m\u001b[1;33m,\u001b[0m \u001b[1;34m'was'\u001b[0m\u001b[1;33m,\u001b[0m \u001b[1;34m'sincere'\u001b[0m\u001b[1;33m,\u001b[0m \u001b[1;34m'empty'\u001b[0m\u001b[1;33m,\u001b[0m \u001b[1;34m'more'\u001b[0m\u001b[1;33m,\u001b[0m \u001b[1;34m'himself'\u001b[0m\u001b[1;33m,\u001b[0m \u001b[1;34m'elsewhere'\u001b[0m\u001b[1;33m,\u001b[0m \u001b[1;34m'mostly'\u001b[0m\u001b[1;33m,\u001b[0m \u001b[1;34m'on'\u001b[0m\u001b[1;33m,\u001b[0m \u001b[1;34m'fire'\u001b[0m\u001b[1;33m,\u001b[0m \u001b[1;34m'am'\u001b[0m\u001b[1;33m,\u001b[0m \u001b[1;34m'becoming'\u001b[0m\u001b[1;33m,\u001b[0m \u001b[1;34m'hereby'\u001b[0m\u001b[1;33m,\u001b[0m \u001b[1;34m'amongst'\u001b[0m\u001b[1;33m,\u001b[0m \u001b[1;34m'else'\u001b[0m\u001b[1;33m,\u001b[0m \u001b[1;34m'part'\u001b[0m\u001b[1;33m,\u001b[0m \u001b[1;34m'everywhere'\u001b[0m\u001b[1;33m,\u001b[0m \u001b[1;34m'too'\u001b[0m\u001b[1;33m,\u001b[0m \u001b[1;34m'herself'\u001b[0m\u001b[1;33m,\u001b[0m \u001b[1;34m'former'\u001b[0m\u001b[1;33m,\u001b[0m \u001b[1;34m'those'\u001b[0m\u001b[1;33m,\u001b[0m \u001b[1;34m'he'\u001b[0m\u001b[1;33m,\u001b[0m \u001b[1;34m'me'\u001b[0m\u001b[1;33m,\u001b[0m \u001b[1;34m'myself'\u001b[0m\u001b[1;33m,\u001b[0m \u001b[1;34m'made'\u001b[0m\u001b[1;33m,\u001b[0m \u001b[1;34m'twenty'\u001b[0m\u001b[1;33m,\u001b[0m \u001b[1;34m'these'\u001b[0m\u001b[1;33m,\u001b[0m \u001b[1;34m'bill'\u001b[0m\u001b[1;33m,\u001b[0m \u001b[1;34m'cant'\u001b[0m\u001b[1;33m,\u001b[0m \u001b[1;34m'us'\u001b[0m\u001b[1;33m,\u001b[0m \u001b[1;34m'until'\u001b[0m\u001b[1;33m,\u001b[0m \u001b[1;34m'besides'\u001b[0m\u001b[1;33m,\u001b[0m \u001b[1;34m'nevertheless'\u001b[0m\u001b[1;33m,\u001b[0m \u001b[1;34m'below'\u001b[0m\u001b[1;33m,\u001b[0m \u001b[1;34m'anywhere'\u001b[0m\u001b[1;33m,\u001b[0m \u001b[1;34m'nine'\u001b[0m\u001b[1;33m,\u001b[0m \u001b[1;34m'can'\u001b[0m\u001b[1;33m,\u001b[0m \u001b[1;34m'of'\u001b[0m\u001b[1;33m,\u001b[0m \u001b[1;34m'your'\u001b[0m\u001b[1;33m,\u001b[0m \u001b[1;34m'toward'\u001b[0m\u001b[1;33m,\u001b[0m \u001b[1;34m'my'\u001b[0m\u001b[1;33m,\u001b[0m \u001b[1;34m'something'\u001b[0m\u001b[1;33m,\u001b[0m \u001b[1;34m'and'\u001b[0m\u001b[1;33m,\u001b[0m \u001b[1;34m'whereafter'\u001b[0m\u001b[1;33m,\u001b[0m \u001b[1;34m'whenever'\u001b[0m\u001b[1;33m,\u001b[0m \u001b[1;34m'give'\u001b[0m\u001b[1;33m,\u001b[0m \u001b[1;34m'almost'\u001b[0m\u001b[1;33m,\u001b[0m \u001b[1;34m'wherever'\u001b[0m\u001b[1;33m,\u001b[0m \u001b[1;34m'describe'\u001b[0m\u001b[1;33m,\u001b[0m \u001b[1;34m'beforehand'\u001b[0m\u001b[1;33m,\u001b[0m \u001b[1;34m'herein'\u001b[0m\u001b[1;33m,\u001b[0m \u001b[1;34m'an'\u001b[0m\u001b[1;33m,\u001b[0m \u001b[1;34m'as'\u001b[0m\u001b[1;33m,\u001b[0m \u001b[1;34m'itself'\u001b[0m\u001b[1;33m,\u001b[0m \u001b[1;34m'have'\u001b[0m\u001b[1;33m,\u001b[0m \u001b[1;34m'in'\u001b[0m\u001b[1;33m,\u001b[0m \u001b[1;34m'seem'\u001b[0m\u001b[1;33m,\u001b[0m \u001b[1;34m'whence'\u001b[0m\u001b[1;33m,\u001b[0m \u001b[1;34m'ie'\u001b[0m\u001b[1;33m,\u001b[0m \u001b[1;34m'any'\u001b[0m\u001b[1;33m,\u001b[0m \u001b[1;34m'fill'\u001b[0m\u001b[1;33m,\u001b[0m \u001b[1;34m'again'\u001b[0m\u001b[1;33m,\u001b[0m \u001b[1;34m'hasnt'\u001b[0m\u001b[1;33m,\u001b[0m \u001b[1;34m'inc'\u001b[0m\u001b[1;33m,\u001b[0m \u001b[1;34m'thereby'\u001b[0m\u001b[1;33m,\u001b[0m \u001b[1;34m'thin'\u001b[0m\u001b[1;33m,\u001b[0m \u001b[1;34m'no'\u001b[0m\u001b[1;33m,\u001b[0m \u001b[1;34m'perhaps'\u001b[0m\u001b[1;33m,\u001b[0m \u001b[1;34m'latter'\u001b[0m\u001b[1;33m,\u001b[0m \u001b[1;34m'meanwhile'\u001b[0m\u001b[1;33m,\u001b[0m \u001b[1;34m'when'\u001b[0m\u001b[1;33m,\u001b[0m \u001b[1;34m'detail'\u001b[0m\u001b[1;33m,\u001b[0m \u001b[1;34m'same'\u001b[0m\u001b[1;33m,\u001b[0m \u001b[1;34m'wherein'\u001b[0m\u001b[1;33m,\u001b[0m \u001b[1;34m'beside'\u001b[0m\u001b[1;33m,\u001b[0m \u001b[1;34m'also'\u001b[0m\u001b[1;33m,\u001b[0m \u001b[1;34m'that'\u001b[0m\u001b[1;33m,\u001b[0m \u001b[1;34m'other'\u001b[0m\u001b[1;33m,\u001b[0m \u001b[1;34m'take'\u001b[0m\u001b[1;33m,\u001b[0m \u001b[1;34m'which'\u001b[0m\u001b[1;33m,\u001b[0m \u001b[1;34m'becomes'\u001b[0m\u001b[1;33m,\u001b[0m \u001b[1;34m'you'\u001b[0m\u001b[1;33m,\u001b[0m \u001b[1;34m'if'\u001b[0m\u001b[1;33m,\u001b[0m \u001b[1;34m'nobody'\u001b[0m\u001b[1;33m,\u001b[0m \u001b[1;34m'see'\u001b[0m\u001b[1;33m,\u001b[0m \u001b[1;34m'though'\u001b[0m\u001b[1;33m,\u001b[0m \u001b[1;34m'may'\u001b[0m\u001b[1;33m,\u001b[0m \u001b[1;34m'after'\u001b[0m\u001b[1;33m,\u001b[0m \u001b[1;34m'upon'\u001b[0m\u001b[1;33m,\u001b[0m \u001b[1;34m'most'\u001b[0m\u001b[1;33m,\u001b[0m \u001b[1;34m'hereupon'\u001b[0m\u001b[1;33m,\u001b[0m \u001b[1;34m'eight'\u001b[0m\u001b[1;33m,\u001b[0m \u001b[1;34m'but'\u001b[0m\u001b[1;33m,\u001b[0m \u001b[1;34m'serious'\u001b[0m\u001b[1;33m,\u001b[0m \u001b[1;34m'nothing'\u001b[0m\u001b[1;33m,\u001b[0m \u001b[1;34m'such'\u001b[0m\u001b[1;33m,\u001b[0m \u001b[1;34m'why'\u001b[0m\u001b[1;33m,\u001b[0m \u001b[1;34m'a'\u001b[0m\u001b[1;33m,\u001b[0m \u001b[1;34m'off'\u001b[0m\u001b[1;33m,\u001b[0m \u001b[1;34m'whereby'\u001b[0m\u001b[1;33m,\u001b[0m \u001b[1;34m'third'\u001b[0m\u001b[1;33m,\u001b[0m \u001b[1;34m'i'\u001b[0m\u001b[1;33m,\u001b[0m \u001b[1;34m'whole'\u001b[0m\u001b[1;33m,\u001b[0m \u001b[1;34m'noone'\u001b[0m\u001b[1;33m,\u001b[0m \u001b[1;34m'sometimes'\u001b[0m\u001b[1;33m,\u001b[0m \u001b[1;34m'well'\u001b[0m\u001b[1;33m,\u001b[0m \u001b[1;34m'amoungst'\u001b[0m\u001b[1;33m,\u001b[0m \u001b[1;34m'yours'\u001b[0m\u001b[1;33m,\u001b[0m \u001b[1;34m'their'\u001b[0m\u001b[1;33m,\u001b[0m \u001b[1;34m'rather'\u001b[0m\u001b[1;33m,\u001b[0m \u001b[1;34m'without'\u001b[0m\u001b[1;33m,\u001b[0m \u001b[1;34m'so'\u001b[0m\u001b[1;33m,\u001b[0m \u001b[1;34m'five'\u001b[0m\u001b[1;33m,\u001b[0m \u001b[1;34m'the'\u001b[0m\u001b[1;33m,\u001b[0m \u001b[1;34m'first'\u001b[0m\u001b[1;33m,\u001b[0m \u001b[1;34m'whereas'\u001b[0m\u001b[1;33m,\u001b[0m \u001b[1;34m'once'\u001b[0m\u001b[1;33m]\u001b[0m\u001b[1;33m\u001b[0m\u001b[1;33m\u001b[0m\u001b[0m\n",
      "\u001b[1;31mNameError\u001b[0m: name 'os' is not defined"
     ]
    }
   ],
   "source": [
    "# Define doc paths array\n",
    "\n",
    "documents = [file for file in os.listdir('.\\\\') if file.startswith('doc')]\n",
    "\n",
    "stop = ['all', 'six', 'less', 'being', 'i', 'am', 'a', 'at', 'indeed', 'over', 'move', 'anyway', 'fifty', 'four', 'not', 'own', 'through', 'yourselves', 'go', 'where', 'mill', 'only', 'find', 'before', 'one', 'whose', 'system', 'how', 'somewhere', 'with', 'thick', 'show', 'had', 'enough', 'should', 'to', 'must', 'whom', 'seeming', 'under', 'ours', 'has', 'might', 'thereafter', 'latterly', 'do', 'them', 'his', 'around', 'than', 'get', 'very', 'de', 'none', 'cannot', 'every', 'whether', 'they', 'front', 'during', 'thus', 'now', 'him', 'nor', 'name', 'several', 'hereafter', 'always', 'who', 'cry', 'whither', 'this', 'someone', 'either', 'each', 'become', 'thereupon', 'sometime', 'side', 'two', 'therein', 'twelve', 'because', 'often', 'ten', 'our', 'eg', 'some', 'back', 'up', 'namely', 'towards', 'are', 'further', 'beyond', 'ourselves', 'yet', 'out', 'even', 'will', 'what', 'still', 'for', 'bottom', 'mine', 'since', 'please', 'forty', 'per', 'its', 'everything', 'behind', 'un', 'above', 'between', 'it', 'neither', 'seemed', 'ever', 'across', 'she', 'somehow', 'be', 'we', 'full', 'never', 'sixty', 'however', 'here', 'otherwise', 'were', 'whereupon', 'nowhere', 'although', 'found', 'alone', 're', 'along', 'fifteen', 'by', 'both', 'about', 'last', 'would', 'anything', 'via', 'many', 'could', 'thence', 'put', 'against', 'keep', 'etc', 'amount', 'became', 'ltd', 'hence', 'onto', 'or', 'con', 'among', 'already', 'co', 'afterwards', 'formerly', 'within', 'seems', 'into', 'others', 'while', 'whatever', 'except', 'down', 'hers', 'everyone', 'done', 'least', 'another', 'whoever', 'moreover', 'couldnt', 'throughout', 'anyhow', 'yourself', 'three', 'from', 'her', 'few', 'together', 'top', 'there', 'due', 'been', 'next', 'anyone', 'eleven', 'much', 'call', 'therefore', 'interest', 'then', 'thru', 'themselves', 'hundred', 'was', 'sincere', 'empty', 'more', 'himself', 'elsewhere', 'mostly', 'on', 'fire', 'am', 'becoming', 'hereby', 'amongst', 'else', 'part', 'everywhere', 'too', 'herself', 'former', 'those', 'he', 'me', 'myself', 'made', 'twenty', 'these', 'bill', 'cant', 'us', 'until', 'besides', 'nevertheless', 'below', 'anywhere', 'nine', 'can', 'of', 'your', 'toward', 'my', 'something', 'and', 'whereafter', 'whenever', 'give', 'almost', 'wherever', 'describe', 'beforehand', 'herein', 'an', 'as', 'itself', 'have', 'in', 'seem', 'whence', 'ie', 'any', 'fill', 'again', 'hasnt', 'inc', 'thereby', 'thin', 'no', 'perhaps', 'latter', 'meanwhile', 'when', 'detail', 'same', 'wherein', 'beside', 'also', 'that', 'other', 'take', 'which', 'becomes', 'you', 'if', 'nobody', 'see', 'though', 'may', 'after', 'upon', 'most', 'hereupon', 'eight', 'but', 'serious', 'nothing', 'such', 'why', 'a', 'off', 'whereby', 'third', 'i', 'whole', 'noone', 'sometimes', 'well', 'amoungst', 'yours', 'their', 'rather', 'without', 'so', 'five', 'the', 'first', 'whereas', 'once']\n",
    "\n",
    "# Obtain BoW from your function\n",
    "bow = get_bow_from_docs(documents)\n",
    "\n",
    "# Print BoW\n",
    "print(bow)"
   ]
  },
  {
   "cell_type": "markdown",
   "metadata": {},
   "source": [
    "If your attempt above is successful, nice work done!\n",
    "\n",
    "Now test your function again with the stop words. In the previous lab we defined the stop words in a large array. In this lab, we'll import the stop words from Scikit-Learn."
   ]
  },
  {
   "cell_type": "code",
   "execution_count": 8,
   "metadata": {},
   "outputs": [
    {
     "name": "stdout",
     "output_type": "stream",
     "text": [
      "frozenset({'he', 'elsewhere', 'much', 'full', 'himself', 'made', 'move', 'something', 'hers', 'put', 'three', 'give', 'beside', 'twelve', 'call', 'however', 'rather', 'afterwards', 'go', 'him', 'yourselves', 'keep', 'though', 'somehow', 'this', 'many', 'its', 'indeed', 'if', 'the', 'me', 'amongst', 'nothing', 'hereby', 'wherever', 'itself', 'becomes', 'empty', 're', 'others', 'front', 'myself', 'sometimes', 'an', 'among', 'out', 'next', 'whereby', 'thereby', 'latter', 'between', 'after', 'would', 'yet', 'eg', 'these', 'serious', 'both', 'whenever', 'will', 'fire', 'fill', 'may', 'four', 'hereupon', 'former', 'thereafter', 'below', 'two', 'that', 'becoming', 'hasnt', 'alone', 'those', 'except', 'very', 'your', 'can', 'or', 'least', 'whose', 'top', 'ours', 'cannot', 'interest', 'each', 'us', 'system', 'first', 'more', 'around', 'are', 'beforehand', 'beyond', 'what', 'about', 'has', 'seemed', 'describe', 'with', 'do', 'nowhere', 'whether', 'show', 'mine', 'than', 'behind', 'above', 'already', 'towards', 'also', 'un', 'ie', 'another', 'at', 'she', 'well', 'last', 'detail', 'someone', 'here', 'which', 'of', 'further', 'themselves', 'some', 'on', 'namely', 'anyhow', 'ourselves', 'then', 'whence', 'still', 'throughout', 'per', 'herself', 'ltd', 'always', 'everywhere', 'one', 'when', 'such', 'whither', 'name', 'bottom', 'fifteen', 'our', 'inc', 'thence', 'find', 'might', 'every', 'several', 'whereupon', 'is', 'ten', 'whole', 'seeming', 'herein', 'only', 'her', 'take', 'neither', 'moreover', 'they', 'enough', 'twenty', 'fifty', 'perhaps', 'never', 'whereas', 'become', 'until', 'everything', 'six', 'con', 'along', 'even', 'yours', 'them', 'none', 'sixty', 'almost', 'into', 'nor', 'why', 'anything', 'nine', 'how', 'same', 'could', 'whoever', 'been', 'over', 'during', 'my', 'part', 'had', 'their', 'most', 'since', 'through', 'anyway', 'we', 'in', 'who', 'yourself', 'am', 'five', 'so', 'own', 'get', 'else', 'became', 'together', 'as', 'cry', 'it', 'whom', 'therefore', 'have', 'no', 'there', 'bill', 'for', 'nobody', 'all', 'few', 'his', 'therein', 'cant', 'without', 'was', 'de', 'otherwise', 'please', 'too', 'whatever', 'back', 'by', 'but', 'thin', 'under', 'due', 'less', 'whereafter', 'thus', 'within', 'thereupon', 'third', 'although', 'etc', 'being', 'see', 'somewhere', 'mostly', 'sometime', 'any', 'other', 'nevertheless', 'co', 'now', 'and', 'anyone', 'seem', 'were', 'meanwhile', 'formerly', 'eight', 'via', 'where', 'thru', 'noone', 'everyone', 'done', 'i', 'amoungst', 'because', 'hundred', 'side', 'from', 'forty', 'across', 'once', 'should', 'amount', 'while', 'couldnt', 'sincere', 'upon', 'ever', 'onto', 'a', 'off', 'hereafter', 'up', 'either', 'often', 'before', 'anywhere', 'you', 'found', 'latterly', 'mill', 'besides', 'against', 'not', 'hence', 'eleven', 'seems', 'to', 'down', 'wherein', 'thick', 'must', 'toward', 'be', 'again'})\n"
     ]
    }
   ],
   "source": [
    "from sklearn.feature_extraction import stop_words\n",
    "print(stop_words.ENGLISH_STOP_WORDS)"
   ]
  },
  {
   "cell_type": "markdown",
   "metadata": {},
   "source": [
    "You should have seen a large list of words that looks like:\n",
    "\n",
    "```frozenset({'across', 'mine', 'cannot', ...})```\n",
    "\n",
    "`frozenset` is a type of Python object that is immutable. In this lab you can use it just like an array without conversion."
   ]
  },
  {
   "cell_type": "markdown",
   "metadata": {},
   "source": [
    "Next, test your function with supplying `stop_words.ENGLISH_STOP_WORDS` as the second parameter."
   ]
  },
  {
   "cell_type": "code",
   "execution_count": 9,
   "metadata": {},
   "outputs": [
    {
     "ename": "NameError",
     "evalue": "name 'documents' is not defined",
     "output_type": "error",
     "traceback": [
      "\u001b[1;31m---------------------------------------------------------------------------\u001b[0m",
      "\u001b[1;31mNameError\u001b[0m                                 Traceback (most recent call last)",
      "\u001b[1;32m<ipython-input-9-e795083b5169>\u001b[0m in \u001b[0;36m<module>\u001b[1;34m\u001b[0m\n\u001b[1;32m----> 1\u001b[1;33m \u001b[0mbow\u001b[0m \u001b[1;33m=\u001b[0m \u001b[0mget_bow_from_docs\u001b[0m\u001b[1;33m(\u001b[0m\u001b[0mdocuments\u001b[0m\u001b[1;33m,\u001b[0m \u001b[0mstop_words\u001b[0m\u001b[1;33m.\u001b[0m\u001b[0mENGLISH_STOP_WORDS\u001b[0m\u001b[1;33m)\u001b[0m\u001b[1;33m\u001b[0m\u001b[1;33m\u001b[0m\u001b[0m\n\u001b[0m\u001b[0;32m      2\u001b[0m \u001b[1;33m\u001b[0m\u001b[0m\n\u001b[0;32m      3\u001b[0m \u001b[0mprint\u001b[0m\u001b[1;33m(\u001b[0m\u001b[0mbow\u001b[0m\u001b[1;33m)\u001b[0m\u001b[1;33m\u001b[0m\u001b[1;33m\u001b[0m\u001b[0m\n",
      "\u001b[1;31mNameError\u001b[0m: name 'documents' is not defined"
     ]
    }
   ],
   "source": [
    "bow = get_bow_from_docs(documents, stop_words.ENGLISH_STOP_WORDS)\n",
    "\n",
    "print(bow)"
   ]
  },
  {
   "cell_type": "markdown",
   "metadata": {},
   "source": [
    "You should have seen:\n",
    "\n",
    "```{'bag_of_words': ['ironhack', 'cool', 'love', 'student'], 'term_freq': [[1, 1, 0, 0], [1, 0, 1, 0], [1, 0, 0, 1]]}```"
   ]
  }
 ],
 "metadata": {
  "kernelspec": {
   "display_name": "Python 3",
   "language": "python",
   "name": "python3"
  },
  "language_info": {
   "codemirror_mode": {
    "name": "ipython",
    "version": 3
   },
   "file_extension": ".py",
   "mimetype": "text/x-python",
   "name": "python",
   "nbconvert_exporter": "python",
   "pygments_lexer": "ipython3",
   "version": "3.7.3"
  }
 },
 "nbformat": 4,
 "nbformat_minor": 2
}
