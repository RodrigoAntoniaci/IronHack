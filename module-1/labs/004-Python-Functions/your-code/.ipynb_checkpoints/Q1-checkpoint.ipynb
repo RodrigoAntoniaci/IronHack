{
 "cells": [
  {
   "cell_type": "markdown",
   "metadata": {},
   "source": [
    "In the cell below, create a Python function that wraps your previous solution for the Bag of Words lab.\n",
    "\n",
    "Requirements:\n",
    "\n",
    "1. Your function should accept the following parameters:\n",
    "    * `docs` [REQUIRED] - array of document paths.\n",
    "    * `stop_words` [OPTIONAL] - array of stop words. The default value is an empty array.\n",
    "\n",
    "1. Your function should return a Python object that contains the following:\n",
    "    * `bag_of_words` - array of strings of normalized unique words in the corpus.\n",
    "    * `term_freq` - array of the term-frequency vectors."
   ]
  },
  {
   "cell_type": "code",
   "execution_count": 59,
   "metadata": {},
   "outputs": [],
   "source": [
    "# Import required libraries\n",
    "\n",
    "\n",
    "\n",
    "# Define function\n",
    "def get_bow_from_docs(docs, stop_words=[]):\n",
    "    import re\n",
    "    import os\n",
    "    term_freq = []\n",
    "    corpus = []\n",
    "    bag_of_words = []\n",
    "          \n",
    "    # In the function, first define the variables you will use such as `corpus`, `bag_of_words`, and `term_freq`.\n",
    "   \n",
    "    \"\"\"\n",
    "    Loop `docs` and read the content of each doc into a string in `corpus`.\n",
    "    Remember to convert the doc content to lowercases and remove punctuation.\n",
    "    \"\"\"\n",
    "    for i in docs:\n",
    "        phrase = open(i).read()\n",
    "        phrase = re.sub('[.]','',phrase)\n",
    "        corpus.append(str.lower(phrase))\n",
    "    \n",
    "    \"\"\"\n",
    "    Loop `corpus`. Append the terms in each doc into the `bag_of_words` array. The terms in `bag_of_words` \n",
    "    should be unique which means before adding each term you need to check if it's already added to the array.\n",
    "    In addition, check if each term is in the `stop_words` array. Only append the term to `bag_of_words`\n",
    "    if it is not a stop word.\n",
    "    \"\"\"\n",
    "    for i in corpus:\n",
    "        words = i.split()\n",
    "        for d in words:\n",
    "            if d in bag_of_words or d in stop_words:\n",
    "                continue\n",
    "            else:\n",
    "                bag_of_words.append(d)\n",
    "\n",
    "    \"\"\"\n",
    "    Loop `corpus` again. For each doc string, count the number of occurrences of each term in `bag_of_words`. \n",
    "    Create an array for each doc's term frequency and append it to `term_freq`.\n",
    "    \"\"\"\n",
    "    # [term_freq.append(i.count(d)) for d in bag_of_words for i in corpus]\n",
    "    for i in corpus:\n",
    "        array = []\n",
    "        for d in bag_of_words:\n",
    "            array.append(i.count(d))\n",
    "        term_freq.append(array)\n",
    "    \n",
    "    \n",
    "    # Now return your output as an object\n",
    "    return {\n",
    "        \"bag_of_words\": bag_of_words,\n",
    "        \"term_freq\": term_freq\n",
    "    }\n",
    "    "
   ]
  },
  {
   "cell_type": "markdown",
   "metadata": {},
   "source": [
    "Test your function without stop words. You should see the output like below:\n",
    "\n",
    "```{'bag_of_words': ['ironhack', 'is', 'cool', 'i', 'love', 'am', 'a', 'student', 'at'], 'term_freq': [[1, 1, 1, 0, 0, 0, 0, 0, 0], [1, 0, 0, 1, 1, 0, 0, 0, 0], [1, 0, 0, 1, 0, 1, 1, 1, 1]]}```"
   ]
  },
  {
   "cell_type": "code",
   "execution_count": 60,
   "metadata": {},
   "outputs": [
    {
     "name": "stdout",
     "output_type": "stream",
     "text": [
      "{'bag_of_words': ['ironhack', 'is', 'cool', 'i', 'love', 'am', 'a', 'student', 'at'], 'term_freq': [[1, 1, 1, 2, 0, 0, 1, 0, 0], [1, 0, 0, 2, 1, 0, 1, 0, 0], [1, 0, 0, 2, 0, 1, 4, 1, 1]]}\n"
     ]
    }
   ],
   "source": [
    "# Define doc paths array\n",
    "\n",
    "documents = [file for file in os.listdir('.\\\\') if file.startswith('doc')]\n",
    "\n",
    "stop = ['all', 'six', 'less', 'being', 'i', 'am', 'a', 'at', 'indeed', 'over', 'move', 'anyway', 'fifty', 'four', 'not', 'own', 'through', 'yourselves', 'go', 'where', 'mill', 'only', 'find', 'before', 'one', 'whose', 'system', 'how', 'somewhere', 'with', 'thick', 'show', 'had', 'enough', 'should', 'to', 'must', 'whom', 'seeming', 'under', 'ours', 'has', 'might', 'thereafter', 'latterly', 'do', 'them', 'his', 'around', 'than', 'get', 'very', 'de', 'none', 'cannot', 'every', 'whether', 'they', 'front', 'during', 'thus', 'now', 'him', 'nor', 'name', 'several', 'hereafter', 'always', 'who', 'cry', 'whither', 'this', 'someone', 'either', 'each', 'become', 'thereupon', 'sometime', 'side', 'two', 'therein', 'twelve', 'because', 'often', 'ten', 'our', 'eg', 'some', 'back', 'up', 'namely', 'towards', 'are', 'further', 'beyond', 'ourselves', 'yet', 'out', 'even', 'will', 'what', 'still', 'for', 'bottom', 'mine', 'since', 'please', 'forty', 'per', 'its', 'everything', 'behind', 'un', 'above', 'between', 'it', 'neither', 'seemed', 'ever', 'across', 'she', 'somehow', 'be', 'we', 'full', 'never', 'sixty', 'however', 'here', 'otherwise', 'were', 'whereupon', 'nowhere', 'although', 'found', 'alone', 're', 'along', 'fifteen', 'by', 'both', 'about', 'last', 'would', 'anything', 'via', 'many', 'could', 'thence', 'put', 'against', 'keep', 'etc', 'amount', 'became', 'ltd', 'hence', 'onto', 'or', 'con', 'among', 'already', 'co', 'afterwards', 'formerly', 'within', 'seems', 'into', 'others', 'while', 'whatever', 'except', 'down', 'hers', 'everyone', 'done', 'least', 'another', 'whoever', 'moreover', 'couldnt', 'throughout', 'anyhow', 'yourself', 'three', 'from', 'her', 'few', 'together', 'top', 'there', 'due', 'been', 'next', 'anyone', 'eleven', 'much', 'call', 'therefore', 'interest', 'then', 'thru', 'themselves', 'hundred', 'was', 'sincere', 'empty', 'more', 'himself', 'elsewhere', 'mostly', 'on', 'fire', 'am', 'becoming', 'hereby', 'amongst', 'else', 'part', 'everywhere', 'too', 'herself', 'former', 'those', 'he', 'me', 'myself', 'made', 'twenty', 'these', 'bill', 'cant', 'us', 'until', 'besides', 'nevertheless', 'below', 'anywhere', 'nine', 'can', 'of', 'your', 'toward', 'my', 'something', 'and', 'whereafter', 'whenever', 'give', 'almost', 'wherever', 'describe', 'beforehand', 'herein', 'an', 'as', 'itself', 'have', 'in', 'seem', 'whence', 'ie', 'any', 'fill', 'again', 'hasnt', 'inc', 'thereby', 'thin', 'no', 'perhaps', 'latter', 'meanwhile', 'when', 'detail', 'same', 'wherein', 'beside', 'also', 'that', 'other', 'take', 'which', 'becomes', 'you', 'if', 'nobody', 'see', 'though', 'may', 'after', 'upon', 'most', 'hereupon', 'eight', 'but', 'serious', 'nothing', 'such', 'why', 'a', 'off', 'whereby', 'third', 'i', 'whole', 'noone', 'sometimes', 'well', 'amoungst', 'yours', 'their', 'rather', 'without', 'so', 'five', 'the', 'first', 'whereas', 'once']\n",
    "\n",
    "# Obtain BoW from your function\n",
    "bow = get_bow_from_docs(documents)\n",
    "\n",
    "# Print BoW\n",
    "print(bow)"
   ]
  },
  {
   "cell_type": "markdown",
   "metadata": {},
   "source": [
    "If your attempt above is successful, nice work done!\n",
    "\n",
    "Now test your function again with the stop words. In the previous lab we defined the stop words in a large array. In this lab, we'll import the stop words from Scikit-Learn."
   ]
  },
  {
   "cell_type": "code",
   "execution_count": 62,
   "metadata": {},
   "outputs": [
    {
     "name": "stdout",
     "output_type": "stream",
     "text": [
      "frozenset({'hasnt', 'an', 'rather', 'everyone', 'somewhere', 'no', 'if', 'when', 'for', 'what', 'their', 'himself', 'will', 'other', 'hence', 'none', 'all', 'fill', 'may', 'in', 'our', 'latterly', 'be', 'more', 'amongst', 'she', 'serious', 'whereupon', 'must', 'yourselves', 'hereafter', 'throughout', 'had', 'everything', 'others', 'sixty', 'while', 'five', 'seem', 'which', 'co', 'any', 'ourselves', 'hers', 'beside', 'noone', 'off', 'then', 'might', 'go', 'becoming', 'them', 'third', 'its', 'eight', 'anyway', 'as', 'been', 'please', 'one', 'mostly', 'otherwise', 'sincere', 'thus', 'two', 'too', 'therein', 'further', 'they', 'whereas', 'hereby', 'never', 'elsewhere', 'thence', 'after', 'onto', 'formerly', 'take', 'well', 'see', 'until', 'only', 'me', 'down', 'yours', 'nothing', 'up', 'not', 'very', 'wherever', 'three', 'call', 'else', 'besides', 'whether', 'fifteen', 'into', 'whose', 'enough', 'keep', 'by', 'themselves', 'out', 'almost', 'those', 'whither', 'is', 'during', 'ever', 'however', 'upon', 'found', 'ten', 'most', 'nowhere', 'with', 'seeming', 'something', 'became', 'bill', 'among', 'hundred', 'his', 'name', 'about', 'first', 'interest', 'anyone', 'below', 'against', 'itself', 'a', 'would', 'i', 'mill', 'put', 'next', 'why', 'already', 'around', 'was', 'whereby', 'seems', 'him', 'because', 'four', 'at', 'eg', 'neither', 'sometime', 'moreover', 'where', 'and', 'less', 'alone', 'from', 'back', 'least', 'get', 'twelve', 'per', 'de', 'how', 'every', 'on', 'once', 'has', 'have', 'were', 'latter', 'us', 'few', 'toward', 'are', 'he', 'same', 'perhaps', 'whenever', 'six', 'whom', 'together', 'hereupon', 'whole', 'eleven', 're', 'often', 'last', 'show', 'this', 'cant', 'everywhere', 'move', 'much', 'either', 'that', 'inc', 'now', 'although', 'etc', 'whatever', 'through', 'do', 'anyhow', 'each', 'made', 'find', 'my', 'system', 'myself', 'afterwards', 'thereby', 'across', 'or', 'side', 'nor', 'her', 'thereupon', 'done', 'beyond', 'towards', 'twenty', 'un', 'nevertheless', 'nine', 'here', 'many', 'forty', 'become', 'empty', 'could', 'herself', 'sometimes', 'you', 'namely', 'indeed', 'thru', 'another', 'whence', 'can', 'under', 'own', 'thin', 'cannot', 'without', 'except', 'we', 'amoungst', 'to', 'top', 'thereafter', 'am', 'since', 'it', 'herein', 'nobody', 'anything', 'give', 'some', 'above', 'becomes', 'yet', 'these', 'along', 'who', 'whereafter', 'beforehand', 'con', 'so', 'due', 'full', 'bottom', 'ie', 'should', 'than', 'whoever', 'anywhere', 'behind', 'over', 'such', 'your', 'before', 'both', 'via', 'former', 'describe', 'yourself', 'ours', 'though', 'but', 'still', 'ltd', 'somehow', 'of', 'amount', 'fifty', 'also', 'even', 'someone', 'several', 'always', 'front', 'wherein', 'being', 'meanwhile', 'couldnt', 'part', 'seemed', 'again', 'mine', 'thick', 'between', 'cry', 'the', 'detail', 'within', 'fire', 'there', 'therefore'})\n"
     ]
    }
   ],
   "source": [
    "from sklearn.feature_extraction import stop_words\n",
    "print(stop_words.ENGLISH_STOP_WORDS)"
   ]
  },
  {
   "cell_type": "markdown",
   "metadata": {},
   "source": [
    "You should have seen a large list of words that looks like:\n",
    "\n",
    "```frozenset({'across', 'mine', 'cannot', ...})```\n",
    "\n",
    "`frozenset` is a type of Python object that is immutable. In this lab you can use it just like an array without conversion."
   ]
  },
  {
   "cell_type": "markdown",
   "metadata": {},
   "source": [
    "Next, test your function with supplying `stop_words.ENGLISH_STOP_WORDS` as the second parameter."
   ]
  },
  {
   "cell_type": "code",
   "execution_count": 65,
   "metadata": {},
   "outputs": [
    {
     "name": "stdout",
     "output_type": "stream",
     "text": [
      "{'bag_of_words': ['ironhack', 'cool', 'love', 'student'], 'term_freq': [[1, 1, 0, 0], [1, 0, 1, 0], [1, 0, 0, 1]]}\n"
     ]
    }
   ],
   "source": [
    "bow = get_bow_from_docs(documents, stop_words.ENGLISH_STOP_WORDS)\n",
    "\n",
    "print(bow)"
   ]
  },
  {
   "cell_type": "markdown",
   "metadata": {},
   "source": [
    "You should have seen:\n",
    "\n",
    "```{'bag_of_words': ['ironhack', 'cool', 'love', 'student'], 'term_freq': [[1, 1, 0, 0], [1, 0, 1, 0], [1, 0, 0, 1]]}```"
   ]
  }
 ],
 "metadata": {
  "kernelspec": {
   "display_name": "Python 3",
   "language": "python",
   "name": "python3"
  },
  "language_info": {
   "codemirror_mode": {
    "name": "ipython",
    "version": 3
   },
   "file_extension": ".py",
   "mimetype": "text/x-python",
   "name": "python",
   "nbconvert_exporter": "python",
   "pygments_lexer": "ipython3",
   "version": "3.7.3"
  }
 },
 "nbformat": 4,
 "nbformat_minor": 2
}
